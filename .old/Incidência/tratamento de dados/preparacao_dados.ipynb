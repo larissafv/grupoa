{
 "cells": [
  {
   "cell_type": "code",
   "execution_count": 41,
   "metadata": {},
   "outputs": [
    {
     "data": {
      "text/html": [
       "<div>\n",
       "<style scoped>\n",
       "    .dataframe tbody tr th:only-of-type {\n",
       "        vertical-align: middle;\n",
       "    }\n",
       "\n",
       "    .dataframe tbody tr th {\n",
       "        vertical-align: top;\n",
       "    }\n",
       "\n",
       "    .dataframe thead th {\n",
       "        text-align: right;\n",
       "    }\n",
       "</style>\n",
       "<table border=\"1\" class=\"dataframe\">\n",
       "  <thead>\n",
       "    <tr style=\"text-align: right;\">\n",
       "      <th></th>\n",
       "      <th>city</th>\n",
       "      <th>city_ibge_code</th>\n",
       "      <th>date</th>\n",
       "      <th>epidemiological_week</th>\n",
       "      <th>estimated_population_2019</th>\n",
       "      <th>is_last</th>\n",
       "      <th>is_repeated</th>\n",
       "      <th>last_available_confirmed</th>\n",
       "      <th>last_available_confirmed_per_100k_inhabitants</th>\n",
       "      <th>last_available_date</th>\n",
       "      <th>last_available_death_rate</th>\n",
       "      <th>last_available_deaths</th>\n",
       "      <th>order_for_place</th>\n",
       "      <th>place_type</th>\n",
       "      <th>state</th>\n",
       "      <th>new_confirmed</th>\n",
       "      <th>new_deaths</th>\n",
       "    </tr>\n",
       "  </thead>\n",
       "  <tbody>\n",
       "    <tr>\n",
       "      <th>0</th>\n",
       "      <td>São Paulo</td>\n",
       "      <td>3550308.0</td>\n",
       "      <td>2020-02-25</td>\n",
       "      <td>9</td>\n",
       "      <td>12252023.0</td>\n",
       "      <td>False</td>\n",
       "      <td>False</td>\n",
       "      <td>1</td>\n",
       "      <td>0.00816</td>\n",
       "      <td>2020-02-25</td>\n",
       "      <td>0.0</td>\n",
       "      <td>0</td>\n",
       "      <td>1</td>\n",
       "      <td>city</td>\n",
       "      <td>SP</td>\n",
       "      <td>1</td>\n",
       "      <td>0</td>\n",
       "    </tr>\n",
       "    <tr>\n",
       "      <th>1</th>\n",
       "      <td>NaN</td>\n",
       "      <td>35.0</td>\n",
       "      <td>2020-02-25</td>\n",
       "      <td>9</td>\n",
       "      <td>45919049.0</td>\n",
       "      <td>False</td>\n",
       "      <td>False</td>\n",
       "      <td>1</td>\n",
       "      <td>0.00218</td>\n",
       "      <td>2020-02-25</td>\n",
       "      <td>0.0</td>\n",
       "      <td>0</td>\n",
       "      <td>1</td>\n",
       "      <td>state</td>\n",
       "      <td>SP</td>\n",
       "      <td>1</td>\n",
       "      <td>0</td>\n",
       "    </tr>\n",
       "    <tr>\n",
       "      <th>2</th>\n",
       "      <td>São Paulo</td>\n",
       "      <td>3550308.0</td>\n",
       "      <td>2020-02-26</td>\n",
       "      <td>9</td>\n",
       "      <td>12252023.0</td>\n",
       "      <td>False</td>\n",
       "      <td>False</td>\n",
       "      <td>1</td>\n",
       "      <td>0.00816</td>\n",
       "      <td>2020-02-26</td>\n",
       "      <td>0.0</td>\n",
       "      <td>0</td>\n",
       "      <td>2</td>\n",
       "      <td>city</td>\n",
       "      <td>SP</td>\n",
       "      <td>0</td>\n",
       "      <td>0</td>\n",
       "    </tr>\n",
       "    <tr>\n",
       "      <th>3</th>\n",
       "      <td>NaN</td>\n",
       "      <td>35.0</td>\n",
       "      <td>2020-02-26</td>\n",
       "      <td>9</td>\n",
       "      <td>45919049.0</td>\n",
       "      <td>False</td>\n",
       "      <td>False</td>\n",
       "      <td>1</td>\n",
       "      <td>0.00218</td>\n",
       "      <td>2020-02-26</td>\n",
       "      <td>0.0</td>\n",
       "      <td>0</td>\n",
       "      <td>2</td>\n",
       "      <td>state</td>\n",
       "      <td>SP</td>\n",
       "      <td>0</td>\n",
       "      <td>0</td>\n",
       "    </tr>\n",
       "    <tr>\n",
       "      <th>4</th>\n",
       "      <td>São Paulo</td>\n",
       "      <td>3550308.0</td>\n",
       "      <td>2020-02-27</td>\n",
       "      <td>9</td>\n",
       "      <td>12252023.0</td>\n",
       "      <td>False</td>\n",
       "      <td>False</td>\n",
       "      <td>1</td>\n",
       "      <td>0.00816</td>\n",
       "      <td>2020-02-27</td>\n",
       "      <td>0.0</td>\n",
       "      <td>0</td>\n",
       "      <td>3</td>\n",
       "      <td>city</td>\n",
       "      <td>SP</td>\n",
       "      <td>0</td>\n",
       "      <td>0</td>\n",
       "    </tr>\n",
       "  </tbody>\n",
       "</table>\n",
       "</div>"
      ],
      "text/plain": [
       "        city  city_ibge_code        date  epidemiological_week  \\\n",
       "0  São Paulo       3550308.0  2020-02-25                     9   \n",
       "1        NaN            35.0  2020-02-25                     9   \n",
       "2  São Paulo       3550308.0  2020-02-26                     9   \n",
       "3        NaN            35.0  2020-02-26                     9   \n",
       "4  São Paulo       3550308.0  2020-02-27                     9   \n",
       "\n",
       "   estimated_population_2019  is_last  is_repeated  last_available_confirmed  \\\n",
       "0                 12252023.0    False        False                         1   \n",
       "1                 45919049.0    False        False                         1   \n",
       "2                 12252023.0    False        False                         1   \n",
       "3                 45919049.0    False        False                         1   \n",
       "4                 12252023.0    False        False                         1   \n",
       "\n",
       "   last_available_confirmed_per_100k_inhabitants last_available_date  \\\n",
       "0                                        0.00816          2020-02-25   \n",
       "1                                        0.00218          2020-02-25   \n",
       "2                                        0.00816          2020-02-26   \n",
       "3                                        0.00218          2020-02-26   \n",
       "4                                        0.00816          2020-02-27   \n",
       "\n",
       "   last_available_death_rate  last_available_deaths  order_for_place  \\\n",
       "0                        0.0                      0                1   \n",
       "1                        0.0                      0                1   \n",
       "2                        0.0                      0                2   \n",
       "3                        0.0                      0                2   \n",
       "4                        0.0                      0                3   \n",
       "\n",
       "  place_type state  new_confirmed  new_deaths  \n",
       "0       city    SP              1           0  \n",
       "1      state    SP              1           0  \n",
       "2       city    SP              0           0  \n",
       "3      state    SP              0           0  \n",
       "4       city    SP              0           0  "
      ]
     },
     "execution_count": 41,
     "metadata": {},
     "output_type": "execute_result"
    }
   ],
   "source": [
    "import numpy as np\n",
    "import pandas as pd\n",
    "import matplotlib\n",
    "\n",
    "#Abre os bancos de dados\n",
    "pop = pd.read_csv('base_csv/pop2020.csv')\n",
    "io = pd.read_csv('base_csv/caso_full.csv')\n",
    "io.head()"
   ]
  },
  {
   "cell_type": "code",
   "execution_count": 36,
   "metadata": {},
   "outputs": [],
   "source": [
    "#_________________________Tratamento dos casos por Estados_________________________________________________"
   ]
  },
  {
   "cell_type": "code",
   "execution_count": 37,
   "metadata": {},
   "outputs": [],
   "source": [
    "#Cria uma coluna com a sigla de cada estado.\n",
    "states_list = {'ACRE':'AC','ALAGOAS':'AL','AMAPÁ':'AP','AMAZONAS':'AM',\n",
    "               'BAHIA':'BA','CEARÁ':'CE','ESPÍRITO SANTO':'ES','GOIÁS':'GO',\n",
    "               'MARANHÃO':'MA','MATO GROSSO':'MT','MATO GROSSO DO SUL':'MS',\n",
    "               'MINAS GERAIS':'MG','PARÁ':'PA','PARAÍBA':'PB','PARANÁ':'PR',\n",
    "               'PERNAMBUCO':'PE','PIAUÍ':'PI','RIO DE JANEIRO':'RJ',\n",
    "               'RIO GRANDE DO NORTE':'RN','RIO GRANDE DO SUL':'RS','RONDÔNIA':'RO',\n",
    "               'RORAIMA':'RR','SANTA CATARINA':'SC','SÃO PAULO':'SP','SERGIPE':'SE',\n",
    "               'TOCANTINS':'TO','DISTRITO FEDERAL':'DF'}\n",
    "pop['state']=pop['ARmaior'].apply(lambda x: states_list[x])\n",
    "\n",
    "\n",
    "\n"
   ]
  },
  {
   "cell_type": "code",
   "execution_count": 38,
   "metadata": {},
   "outputs": [],
   "source": [
    "#Cria um DF com o total da população de cada estado.\n",
    "pop_state = pop[['state','Total']].copy()\n",
    "pop_state.rename(columns={'Total':'total_inhabitants_state'}, inplace = True)\n",
    "pop_state = pop_state.groupby(pop_state['state']).sum().reset_index()\n",
    "\n"
   ]
  },
  {
   "cell_type": "code",
   "execution_count": 39,
   "metadata": {},
   "outputs": [],
   "source": [
    "#Filtra somente os dados do último dia das semanas epidemiológicas\n",
    "'''\n",
    "dates = pd.date_range('20200229',freq='W-SAT',periods=23)\n",
    "\n",
    "Usei para achar todos os dias e copiei a lista com os dias. Não usei direto, pois estava pegando\n",
    "os objetos e não consegui trasformar em lista. \n",
    "'''\n",
    "dates = ['2020-02-29', '2020-03-07', '2020-03-14', '2020-03-21',\n",
    "               '2020-03-28', '2020-04-04', '2020-04-11', '2020-04-18',\n",
    "               '2020-04-25', '2020-05-02', '2020-05-09', '2020-05-16',\n",
    "               '2020-05-23', '2020-05-30', '2020-06-06', '2020-06-13',\n",
    "               '2020-06-20', '2020-06-27', '2020-07-04', '2020-07-11',\n",
    "               '2020-07-18', '2020-07-25', '2020-08-01']\n",
    "\n",
    "datesDF = pd.DataFrame(dates,columns=['date'])\n",
    "\n",
    "select_for_dates = pd.merge(io,datesDF, how = 'inner')\n"
   ]
  },
  {
   "cell_type": "code",
   "execution_count": 53,
   "metadata": {},
   "outputs": [],
   "source": [
    "#ATENÇÃO\n",
    "#Coloca o total da população dos estados na planilha\n",
    "statesDF = pd.merge(select_for_dates,pop_state, how = 'inner')\n",
    "\n",
    "#Seleciona apenas os estados\n",
    "statesDF = statesDF[statesDF['place_type']=='state']\n"
   ]
  },
  {
   "cell_type": "code",
   "execution_count": 54,
   "metadata": {},
   "outputs": [],
   "source": [
    "#Encontrar o valor dos novos casoso por semana\n",
    "statesDF = statesDF.sort_values(by=['state','date']).copy()\n",
    "\n",
    "\n",
    "last_state = ''\n",
    "last_num = 0 \n",
    "\n",
    "    \n",
    "def get_num(x):\n",
    "    global last_num, last_state\n",
    "    if last_state == x['state']:\n",
    "        current = x['last_available_confirmed']-last_num\n",
    "        last_num = x['last_available_confirmed']\n",
    "        return current\n",
    "    else:\n",
    "        last_state = x['state']\n",
    "        last_num = 0\n",
    "        return get_num(x)\n",
    "\n",
    "\n",
    "\n",
    "statesDF['new_week_cases'] = statesDF.apply(get_num , axis=1)\n",
    "\n"
   ]
  },
  {
   "cell_type": "code",
   "execution_count": 55,
   "metadata": {},
   "outputs": [],
   "source": [
    "#Passa os novos casoso por semana para casos por 100k habitantes\n",
    "statesDF['new_week_cases_per_100k_inhabitantants'] = statesDF.apply(lambda x:x['new_week_cases']*100000/x['total_inhabitants_state'] , axis=1)"
   ]
  },
  {
   "cell_type": "code",
   "execution_count": 56,
   "metadata": {},
   "outputs": [
    {
     "data": {
      "text/html": [
       "<div>\n",
       "<style scoped>\n",
       "    .dataframe tbody tr th:only-of-type {\n",
       "        vertical-align: middle;\n",
       "    }\n",
       "\n",
       "    .dataframe tbody tr th {\n",
       "        vertical-align: top;\n",
       "    }\n",
       "\n",
       "    .dataframe thead th {\n",
       "        text-align: right;\n",
       "    }\n",
       "</style>\n",
       "<table border=\"1\" class=\"dataframe\">\n",
       "  <thead>\n",
       "    <tr style=\"text-align: right;\">\n",
       "      <th></th>\n",
       "      <th>city</th>\n",
       "      <th>city_ibge_code</th>\n",
       "      <th>date</th>\n",
       "      <th>epidemiological_week</th>\n",
       "      <th>estimated_population_2019</th>\n",
       "      <th>is_last</th>\n",
       "      <th>is_repeated</th>\n",
       "      <th>last_available_confirmed</th>\n",
       "      <th>last_available_confirmed_per_100k_inhabitants</th>\n",
       "      <th>last_available_date</th>\n",
       "      <th>last_available_death_rate</th>\n",
       "      <th>last_available_deaths</th>\n",
       "      <th>order_for_place</th>\n",
       "      <th>place_type</th>\n",
       "      <th>state</th>\n",
       "      <th>new_confirmed</th>\n",
       "      <th>new_deaths</th>\n",
       "      <th>total_inhabitants_state</th>\n",
       "      <th>new_week_cases</th>\n",
       "      <th>new_week_cases_per_100k_inhabitantants</th>\n",
       "    </tr>\n",
       "  </thead>\n",
       "  <tbody>\n",
       "    <tr>\n",
       "      <th>53780</th>\n",
       "      <td>NaN</td>\n",
       "      <td>12.0</td>\n",
       "      <td>2020-03-21</td>\n",
       "      <td>12</td>\n",
       "      <td>881935.0</td>\n",
       "      <td>False</td>\n",
       "      <td>False</td>\n",
       "      <td>11</td>\n",
       "      <td>1.24726</td>\n",
       "      <td>2020-03-21</td>\n",
       "      <td>0.0</td>\n",
       "      <td>0</td>\n",
       "      <td>5</td>\n",
       "      <td>state</td>\n",
       "      <td>AC</td>\n",
       "      <td>4</td>\n",
       "      <td>0</td>\n",
       "      <td>894469.979591</td>\n",
       "      <td>11</td>\n",
       "      <td>1.229779</td>\n",
       "    </tr>\n",
       "    <tr>\n",
       "      <th>53782</th>\n",
       "      <td>NaN</td>\n",
       "      <td>12.0</td>\n",
       "      <td>2020-03-28</td>\n",
       "      <td>13</td>\n",
       "      <td>881935.0</td>\n",
       "      <td>False</td>\n",
       "      <td>False</td>\n",
       "      <td>25</td>\n",
       "      <td>2.83468</td>\n",
       "      <td>2020-03-28</td>\n",
       "      <td>0.0</td>\n",
       "      <td>0</td>\n",
       "      <td>12</td>\n",
       "      <td>state</td>\n",
       "      <td>AC</td>\n",
       "      <td>0</td>\n",
       "      <td>0</td>\n",
       "      <td>894469.979591</td>\n",
       "      <td>14</td>\n",
       "      <td>1.565173</td>\n",
       "    </tr>\n",
       "  </tbody>\n",
       "</table>\n",
       "</div>"
      ],
      "text/plain": [
       "      city  city_ibge_code        date  epidemiological_week  \\\n",
       "53780  NaN            12.0  2020-03-21                    12   \n",
       "53782  NaN            12.0  2020-03-28                    13   \n",
       "\n",
       "       estimated_population_2019  is_last  is_repeated  \\\n",
       "53780                   881935.0    False        False   \n",
       "53782                   881935.0    False        False   \n",
       "\n",
       "       last_available_confirmed  \\\n",
       "53780                        11   \n",
       "53782                        25   \n",
       "\n",
       "       last_available_confirmed_per_100k_inhabitants last_available_date  \\\n",
       "53780                                        1.24726          2020-03-21   \n",
       "53782                                        2.83468          2020-03-28   \n",
       "\n",
       "       last_available_death_rate  last_available_deaths  order_for_place  \\\n",
       "53780                        0.0                      0                5   \n",
       "53782                        0.0                      0               12   \n",
       "\n",
       "      place_type state  new_confirmed  new_deaths  total_inhabitants_state  \\\n",
       "53780      state    AC              4           0            894469.979591   \n",
       "53782      state    AC              0           0            894469.979591   \n",
       "\n",
       "       new_week_cases  new_week_cases_per_100k_inhabitantants  \n",
       "53780              11                                1.229779  \n",
       "53782              14                                1.565173  "
      ]
     },
     "execution_count": 56,
     "metadata": {},
     "output_type": "execute_result"
    }
   ],
   "source": [
    "statesDF.head(2)"
   ]
  },
  {
   "cell_type": "code",
   "execution_count": 68,
   "metadata": {},
   "outputs": [
    {
     "data": {
      "text/html": [
       "<div>\n",
       "<style scoped>\n",
       "    .dataframe tbody tr th:only-of-type {\n",
       "        vertical-align: middle;\n",
       "    }\n",
       "\n",
       "    .dataframe tbody tr th {\n",
       "        vertical-align: top;\n",
       "    }\n",
       "\n",
       "    .dataframe thead th {\n",
       "        text-align: right;\n",
       "    }\n",
       "</style>\n",
       "<table border=\"1\" class=\"dataframe\">\n",
       "  <thead>\n",
       "    <tr style=\"text-align: right;\">\n",
       "      <th></th>\n",
       "      <th>city</th>\n",
       "      <th>city_ibge_code</th>\n",
       "      <th>date</th>\n",
       "      <th>epidemiological_week</th>\n",
       "      <th>estimated_population_2019</th>\n",
       "      <th>is_last</th>\n",
       "      <th>is_repeated</th>\n",
       "      <th>last_available_confirmed</th>\n",
       "      <th>last_available_confirmed_per_100k_inhabitants</th>\n",
       "      <th>last_available_date</th>\n",
       "      <th>...</th>\n",
       "      <th>last_available_deaths</th>\n",
       "      <th>order_for_place</th>\n",
       "      <th>place_type</th>\n",
       "      <th>state</th>\n",
       "      <th>new_confirmed</th>\n",
       "      <th>new_deaths</th>\n",
       "      <th>total_inhabitants_state</th>\n",
       "      <th>new_week_cases</th>\n",
       "      <th>new_week_cases_per_100k_inhabitantants</th>\n",
       "      <th>lethality</th>\n",
       "    </tr>\n",
       "  </thead>\n",
       "  <tbody>\n",
       "    <tr>\n",
       "      <th>53780</th>\n",
       "      <td>NaN</td>\n",
       "      <td>12.0</td>\n",
       "      <td>2020-03-21</td>\n",
       "      <td>12</td>\n",
       "      <td>881935.0</td>\n",
       "      <td>False</td>\n",
       "      <td>False</td>\n",
       "      <td>11</td>\n",
       "      <td>1.24726</td>\n",
       "      <td>2020-03-21</td>\n",
       "      <td>...</td>\n",
       "      <td>0</td>\n",
       "      <td>5</td>\n",
       "      <td>state</td>\n",
       "      <td>AC</td>\n",
       "      <td>4</td>\n",
       "      <td>0</td>\n",
       "      <td>8.944700e+05</td>\n",
       "      <td>11</td>\n",
       "      <td>1.229779</td>\n",
       "      <td>0.000000</td>\n",
       "    </tr>\n",
       "    <tr>\n",
       "      <th>53782</th>\n",
       "      <td>NaN</td>\n",
       "      <td>12.0</td>\n",
       "      <td>2020-03-28</td>\n",
       "      <td>13</td>\n",
       "      <td>881935.0</td>\n",
       "      <td>False</td>\n",
       "      <td>False</td>\n",
       "      <td>25</td>\n",
       "      <td>2.83468</td>\n",
       "      <td>2020-03-28</td>\n",
       "      <td>...</td>\n",
       "      <td>0</td>\n",
       "      <td>12</td>\n",
       "      <td>state</td>\n",
       "      <td>AC</td>\n",
       "      <td>0</td>\n",
       "      <td>0</td>\n",
       "      <td>8.944700e+05</td>\n",
       "      <td>14</td>\n",
       "      <td>1.565173</td>\n",
       "      <td>0.000000</td>\n",
       "    </tr>\n",
       "    <tr>\n",
       "      <th>53786</th>\n",
       "      <td>NaN</td>\n",
       "      <td>12.0</td>\n",
       "      <td>2020-04-04</td>\n",
       "      <td>14</td>\n",
       "      <td>881935.0</td>\n",
       "      <td>False</td>\n",
       "      <td>False</td>\n",
       "      <td>46</td>\n",
       "      <td>5.21580</td>\n",
       "      <td>2020-04-04</td>\n",
       "      <td>...</td>\n",
       "      <td>0</td>\n",
       "      <td>19</td>\n",
       "      <td>state</td>\n",
       "      <td>AC</td>\n",
       "      <td>0</td>\n",
       "      <td>0</td>\n",
       "      <td>8.944700e+05</td>\n",
       "      <td>21</td>\n",
       "      <td>2.347759</td>\n",
       "      <td>0.000000</td>\n",
       "    </tr>\n",
       "    <tr>\n",
       "      <th>53792</th>\n",
       "      <td>NaN</td>\n",
       "      <td>12.0</td>\n",
       "      <td>2020-04-11</td>\n",
       "      <td>15</td>\n",
       "      <td>881935.0</td>\n",
       "      <td>False</td>\n",
       "      <td>False</td>\n",
       "      <td>72</td>\n",
       "      <td>8.16387</td>\n",
       "      <td>2020-04-11</td>\n",
       "      <td>...</td>\n",
       "      <td>2</td>\n",
       "      <td>26</td>\n",
       "      <td>state</td>\n",
       "      <td>AC</td>\n",
       "      <td>2</td>\n",
       "      <td>0</td>\n",
       "      <td>8.944700e+05</td>\n",
       "      <td>26</td>\n",
       "      <td>2.906749</td>\n",
       "      <td>0.027778</td>\n",
       "    </tr>\n",
       "    <tr>\n",
       "      <th>53799</th>\n",
       "      <td>NaN</td>\n",
       "      <td>12.0</td>\n",
       "      <td>2020-04-18</td>\n",
       "      <td>16</td>\n",
       "      <td>881935.0</td>\n",
       "      <td>False</td>\n",
       "      <td>False</td>\n",
       "      <td>142</td>\n",
       "      <td>16.10096</td>\n",
       "      <td>2020-04-18</td>\n",
       "      <td>...</td>\n",
       "      <td>6</td>\n",
       "      <td>33</td>\n",
       "      <td>state</td>\n",
       "      <td>AC</td>\n",
       "      <td>7</td>\n",
       "      <td>1</td>\n",
       "      <td>8.944700e+05</td>\n",
       "      <td>70</td>\n",
       "      <td>7.825864</td>\n",
       "      <td>0.042254</td>\n",
       "    </tr>\n",
       "    <tr>\n",
       "      <th>...</th>\n",
       "      <td>...</td>\n",
       "      <td>...</td>\n",
       "      <td>...</td>\n",
       "      <td>...</td>\n",
       "      <td>...</td>\n",
       "      <td>...</td>\n",
       "      <td>...</td>\n",
       "      <td>...</td>\n",
       "      <td>...</td>\n",
       "      <td>...</td>\n",
       "      <td>...</td>\n",
       "      <td>...</td>\n",
       "      <td>...</td>\n",
       "      <td>...</td>\n",
       "      <td>...</td>\n",
       "      <td>...</td>\n",
       "      <td>...</td>\n",
       "      <td>...</td>\n",
       "      <td>...</td>\n",
       "      <td>...</td>\n",
       "      <td>...</td>\n",
       "    </tr>\n",
       "    <tr>\n",
       "      <th>68640</th>\n",
       "      <td>NaN</td>\n",
       "      <td>17.0</td>\n",
       "      <td>2020-07-04</td>\n",
       "      <td>27</td>\n",
       "      <td>1572866.0</td>\n",
       "      <td>False</td>\n",
       "      <td>False</td>\n",
       "      <td>12476</td>\n",
       "      <td>793.20171</td>\n",
       "      <td>2020-07-04</td>\n",
       "      <td>...</td>\n",
       "      <td>220</td>\n",
       "      <td>109</td>\n",
       "      <td>state</td>\n",
       "      <td>TO</td>\n",
       "      <td>194</td>\n",
       "      <td>5</td>\n",
       "      <td>1.590248e+06</td>\n",
       "      <td>2248</td>\n",
       "      <td>141.361598</td>\n",
       "      <td>0.017634</td>\n",
       "    </tr>\n",
       "    <tr>\n",
       "      <th>68780</th>\n",
       "      <td>NaN</td>\n",
       "      <td>17.0</td>\n",
       "      <td>2020-07-11</td>\n",
       "      <td>28</td>\n",
       "      <td>1572866.0</td>\n",
       "      <td>False</td>\n",
       "      <td>False</td>\n",
       "      <td>15132</td>\n",
       "      <td>962.06543</td>\n",
       "      <td>2020-07-11</td>\n",
       "      <td>...</td>\n",
       "      <td>255</td>\n",
       "      <td>116</td>\n",
       "      <td>state</td>\n",
       "      <td>TO</td>\n",
       "      <td>193</td>\n",
       "      <td>4</td>\n",
       "      <td>1.590248e+06</td>\n",
       "      <td>2656</td>\n",
       "      <td>167.017974</td>\n",
       "      <td>0.016852</td>\n",
       "    </tr>\n",
       "    <tr>\n",
       "      <th>68920</th>\n",
       "      <td>NaN</td>\n",
       "      <td>17.0</td>\n",
       "      <td>2020-07-18</td>\n",
       "      <td>29</td>\n",
       "      <td>1572866.0</td>\n",
       "      <td>False</td>\n",
       "      <td>False</td>\n",
       "      <td>17773</td>\n",
       "      <td>1129.97547</td>\n",
       "      <td>2020-07-18</td>\n",
       "      <td>...</td>\n",
       "      <td>294</td>\n",
       "      <td>123</td>\n",
       "      <td>state</td>\n",
       "      <td>TO</td>\n",
       "      <td>564</td>\n",
       "      <td>6</td>\n",
       "      <td>1.590248e+06</td>\n",
       "      <td>2641</td>\n",
       "      <td>166.074725</td>\n",
       "      <td>0.016542</td>\n",
       "    </tr>\n",
       "    <tr>\n",
       "      <th>69060</th>\n",
       "      <td>NaN</td>\n",
       "      <td>17.0</td>\n",
       "      <td>2020-07-25</td>\n",
       "      <td>30</td>\n",
       "      <td>1572866.0</td>\n",
       "      <td>False</td>\n",
       "      <td>False</td>\n",
       "      <td>21767</td>\n",
       "      <td>1383.90683</td>\n",
       "      <td>2020-07-25</td>\n",
       "      <td>...</td>\n",
       "      <td>346</td>\n",
       "      <td>130</td>\n",
       "      <td>state</td>\n",
       "      <td>TO</td>\n",
       "      <td>847</td>\n",
       "      <td>6</td>\n",
       "      <td>1.590248e+06</td>\n",
       "      <td>3994</td>\n",
       "      <td>251.155794</td>\n",
       "      <td>0.015896</td>\n",
       "    </tr>\n",
       "    <tr>\n",
       "      <th>69200</th>\n",
       "      <td>NaN</td>\n",
       "      <td>17.0</td>\n",
       "      <td>2020-08-01</td>\n",
       "      <td>31</td>\n",
       "      <td>1572866.0</td>\n",
       "      <td>False</td>\n",
       "      <td>False</td>\n",
       "      <td>26434</td>\n",
       "      <td>1680.62632</td>\n",
       "      <td>2020-08-01</td>\n",
       "      <td>...</td>\n",
       "      <td>395</td>\n",
       "      <td>137</td>\n",
       "      <td>state</td>\n",
       "      <td>TO</td>\n",
       "      <td>1088</td>\n",
       "      <td>5</td>\n",
       "      <td>1.590248e+06</td>\n",
       "      <td>4667</td>\n",
       "      <td>293.476237</td>\n",
       "      <td>0.014943</td>\n",
       "    </tr>\n",
       "  </tbody>\n",
       "</table>\n",
       "<p>563 rows × 21 columns</p>\n",
       "</div>"
      ],
      "text/plain": [
       "      city  city_ibge_code        date  epidemiological_week  \\\n",
       "53780  NaN            12.0  2020-03-21                    12   \n",
       "53782  NaN            12.0  2020-03-28                    13   \n",
       "53786  NaN            12.0  2020-04-04                    14   \n",
       "53792  NaN            12.0  2020-04-11                    15   \n",
       "53799  NaN            12.0  2020-04-18                    16   \n",
       "...    ...             ...         ...                   ...   \n",
       "68640  NaN            17.0  2020-07-04                    27   \n",
       "68780  NaN            17.0  2020-07-11                    28   \n",
       "68920  NaN            17.0  2020-07-18                    29   \n",
       "69060  NaN            17.0  2020-07-25                    30   \n",
       "69200  NaN            17.0  2020-08-01                    31   \n",
       "\n",
       "       estimated_population_2019  is_last  is_repeated  \\\n",
       "53780                   881935.0    False        False   \n",
       "53782                   881935.0    False        False   \n",
       "53786                   881935.0    False        False   \n",
       "53792                   881935.0    False        False   \n",
       "53799                   881935.0    False        False   \n",
       "...                          ...      ...          ...   \n",
       "68640                  1572866.0    False        False   \n",
       "68780                  1572866.0    False        False   \n",
       "68920                  1572866.0    False        False   \n",
       "69060                  1572866.0    False        False   \n",
       "69200                  1572866.0    False        False   \n",
       "\n",
       "       last_available_confirmed  \\\n",
       "53780                        11   \n",
       "53782                        25   \n",
       "53786                        46   \n",
       "53792                        72   \n",
       "53799                       142   \n",
       "...                         ...   \n",
       "68640                     12476   \n",
       "68780                     15132   \n",
       "68920                     17773   \n",
       "69060                     21767   \n",
       "69200                     26434   \n",
       "\n",
       "       last_available_confirmed_per_100k_inhabitants last_available_date  ...  \\\n",
       "53780                                        1.24726          2020-03-21  ...   \n",
       "53782                                        2.83468          2020-03-28  ...   \n",
       "53786                                        5.21580          2020-04-04  ...   \n",
       "53792                                        8.16387          2020-04-11  ...   \n",
       "53799                                       16.10096          2020-04-18  ...   \n",
       "...                                              ...                 ...  ...   \n",
       "68640                                      793.20171          2020-07-04  ...   \n",
       "68780                                      962.06543          2020-07-11  ...   \n",
       "68920                                     1129.97547          2020-07-18  ...   \n",
       "69060                                     1383.90683          2020-07-25  ...   \n",
       "69200                                     1680.62632          2020-08-01  ...   \n",
       "\n",
       "       last_available_deaths  order_for_place  place_type state new_confirmed  \\\n",
       "53780                      0                5       state    AC             4   \n",
       "53782                      0               12       state    AC             0   \n",
       "53786                      0               19       state    AC             0   \n",
       "53792                      2               26       state    AC             2   \n",
       "53799                      6               33       state    AC             7   \n",
       "...                      ...              ...         ...   ...           ...   \n",
       "68640                    220              109       state    TO           194   \n",
       "68780                    255              116       state    TO           193   \n",
       "68920                    294              123       state    TO           564   \n",
       "69060                    346              130       state    TO           847   \n",
       "69200                    395              137       state    TO          1088   \n",
       "\n",
       "       new_deaths  total_inhabitants_state  new_week_cases  \\\n",
       "53780           0             8.944700e+05              11   \n",
       "53782           0             8.944700e+05              14   \n",
       "53786           0             8.944700e+05              21   \n",
       "53792           0             8.944700e+05              26   \n",
       "53799           1             8.944700e+05              70   \n",
       "...           ...                      ...             ...   \n",
       "68640           5             1.590248e+06            2248   \n",
       "68780           4             1.590248e+06            2656   \n",
       "68920           6             1.590248e+06            2641   \n",
       "69060           6             1.590248e+06            3994   \n",
       "69200           5             1.590248e+06            4667   \n",
       "\n",
       "       new_week_cases_per_100k_inhabitantants  lethality  \n",
       "53780                                1.229779   0.000000  \n",
       "53782                                1.565173   0.000000  \n",
       "53786                                2.347759   0.000000  \n",
       "53792                                2.906749   0.027778  \n",
       "53799                                7.825864   0.042254  \n",
       "...                                       ...        ...  \n",
       "68640                              141.361598   0.017634  \n",
       "68780                              167.017974   0.016852  \n",
       "68920                              166.074725   0.016542  \n",
       "69060                              251.155794   0.015896  \n",
       "69200                              293.476237   0.014943  \n",
       "\n",
       "[563 rows x 21 columns]"
      ]
     },
     "execution_count": 68,
     "metadata": {},
     "output_type": "execute_result"
    }
   ],
   "source": [
    "#Indicador de Letalidade\n",
    "def lethality(x):\n",
    "    if x['last_available_confirmed']==0:\n",
    "        return 0\n",
    "    else:\n",
    "        return x['last_available_deaths']/x['last_available_confirmed']\n",
    "statesDF['lethality'] = statesDF.apply(lethality, axis=1)\n",
    "statesDF"
   ]
  },
  {
   "cell_type": "code",
   "execution_count": 58,
   "metadata": {},
   "outputs": [],
   "source": [
    "#Filtra somente as colunas de interesse\n",
    "states_incidence = statesDF[['state','city_ibge_code','date','epidemiological_week','total_inhabitants_state','new_week_cases','new_week_cases_per_100k_inhabitantants']].copy()\n",
    "states_incidence.rename(columns={'city_ibge_code':'ibge_code','date':'week'}, inplace = True)\n"
   ]
  },
  {
   "cell_type": "code",
   "execution_count": 59,
   "metadata": {},
   "outputs": [],
   "source": [
    "#Inserindo coordenadas geogŕaficas dos estados\n",
    "estados = pd.read_csv('base_csv/estados.csv')\n",
    "estados = estados[['codigo_uf','latitude','longitude']].copy()\n",
    "states_incidence = pd.merge(states_incidence,estados,\n",
    "                          how = 'inner', left_on=['ibge_code'],\n",
    "                          right_on=['codigo_uf'])\n",
    "states_incidence = states_incidence.drop(columns=['codigo_uf'])\n"
   ]
  },
  {
   "cell_type": "code",
   "execution_count": 60,
   "metadata": {},
   "outputs": [],
   "source": [
    "#Agrupa por macro regiões\n",
    "def region(x):\n",
    "    regions = {\n",
    "        'norte':['AM','RR','AP','PA','TO','RO','AC'],\n",
    "        'nordeste':['MA','PI','CE','RN','PE','PB','SE','AL','BA'],\n",
    "        'centro-oeste':['MT','MS','GO','DF'],\n",
    "        'sudeste':['MG','SP','RJ','ES'],\n",
    "        'sul':['PR','RS','SC']       \n",
    "    }\n",
    "    for k,v in regions.items():\n",
    "        if x['state'] in v:\n",
    "            return k\n",
    "    \n",
    "states_incidence['region'] = states_incidence.apply(region,axis=1)\n"
   ]
  },
  {
   "cell_type": "code",
   "execution_count": 66,
   "metadata": {},
   "outputs": [
    {
     "data": {
      "text/html": [
       "<div>\n",
       "<style scoped>\n",
       "    .dataframe tbody tr th:only-of-type {\n",
       "        vertical-align: middle;\n",
       "    }\n",
       "\n",
       "    .dataframe tbody tr th {\n",
       "        vertical-align: top;\n",
       "    }\n",
       "\n",
       "    .dataframe thead th {\n",
       "        text-align: right;\n",
       "    }\n",
       "</style>\n",
       "<table border=\"1\" class=\"dataframe\">\n",
       "  <thead>\n",
       "    <tr style=\"text-align: right;\">\n",
       "      <th></th>\n",
       "      <th>state</th>\n",
       "      <th>ibge_code</th>\n",
       "      <th>week</th>\n",
       "      <th>epidemiological_week</th>\n",
       "      <th>total_inhabitants_state</th>\n",
       "      <th>new_week_cases</th>\n",
       "      <th>new_week_cases_per_100k_inhabitantants</th>\n",
       "      <th>latitude</th>\n",
       "      <th>longitude</th>\n",
       "      <th>region</th>\n",
       "    </tr>\n",
       "  </thead>\n",
       "  <tbody>\n",
       "    <tr>\n",
       "      <th>1</th>\n",
       "      <td>AC</td>\n",
       "      <td>12.0</td>\n",
       "      <td>2020-03-28</td>\n",
       "      <td>13</td>\n",
       "      <td>8.944700e+05</td>\n",
       "      <td>14</td>\n",
       "      <td>1.565173</td>\n",
       "      <td>-8.77</td>\n",
       "      <td>-70.55</td>\n",
       "      <td>norte</td>\n",
       "    </tr>\n",
       "    <tr>\n",
       "      <th>2</th>\n",
       "      <td>AC</td>\n",
       "      <td>12.0</td>\n",
       "      <td>2020-04-04</td>\n",
       "      <td>14</td>\n",
       "      <td>8.944700e+05</td>\n",
       "      <td>21</td>\n",
       "      <td>2.347759</td>\n",
       "      <td>-8.77</td>\n",
       "      <td>-70.55</td>\n",
       "      <td>norte</td>\n",
       "    </tr>\n",
       "    <tr>\n",
       "      <th>3</th>\n",
       "      <td>AC</td>\n",
       "      <td>12.0</td>\n",
       "      <td>2020-04-11</td>\n",
       "      <td>15</td>\n",
       "      <td>8.944700e+05</td>\n",
       "      <td>26</td>\n",
       "      <td>2.906749</td>\n",
       "      <td>-8.77</td>\n",
       "      <td>-70.55</td>\n",
       "      <td>norte</td>\n",
       "    </tr>\n",
       "    <tr>\n",
       "      <th>4</th>\n",
       "      <td>AC</td>\n",
       "      <td>12.0</td>\n",
       "      <td>2020-04-18</td>\n",
       "      <td>16</td>\n",
       "      <td>8.944700e+05</td>\n",
       "      <td>70</td>\n",
       "      <td>7.825864</td>\n",
       "      <td>-8.77</td>\n",
       "      <td>-70.55</td>\n",
       "      <td>norte</td>\n",
       "    </tr>\n",
       "    <tr>\n",
       "      <th>5</th>\n",
       "      <td>AC</td>\n",
       "      <td>12.0</td>\n",
       "      <td>2020-04-25</td>\n",
       "      <td>17</td>\n",
       "      <td>8.944700e+05</td>\n",
       "      <td>116</td>\n",
       "      <td>12.968574</td>\n",
       "      <td>-8.77</td>\n",
       "      <td>-70.55</td>\n",
       "      <td>norte</td>\n",
       "    </tr>\n",
       "    <tr>\n",
       "      <th>...</th>\n",
       "      <td>...</td>\n",
       "      <td>...</td>\n",
       "      <td>...</td>\n",
       "      <td>...</td>\n",
       "      <td>...</td>\n",
       "      <td>...</td>\n",
       "      <td>...</td>\n",
       "      <td>...</td>\n",
       "      <td>...</td>\n",
       "      <td>...</td>\n",
       "    </tr>\n",
       "    <tr>\n",
       "      <th>295</th>\n",
       "      <td>PB</td>\n",
       "      <td>25.0</td>\n",
       "      <td>2020-04-11</td>\n",
       "      <td>15</td>\n",
       "      <td>4.039277e+06</td>\n",
       "      <td>67</td>\n",
       "      <td>1.658713</td>\n",
       "      <td>-7.28</td>\n",
       "      <td>-36.72</td>\n",
       "      <td>nordeste</td>\n",
       "    </tr>\n",
       "    <tr>\n",
       "      <th>296</th>\n",
       "      <td>PB</td>\n",
       "      <td>25.0</td>\n",
       "      <td>2020-04-18</td>\n",
       "      <td>16</td>\n",
       "      <td>4.039277e+06</td>\n",
       "      <td>135</td>\n",
       "      <td>3.342182</td>\n",
       "      <td>-7.28</td>\n",
       "      <td>-36.72</td>\n",
       "      <td>nordeste</td>\n",
       "    </tr>\n",
       "    <tr>\n",
       "      <th>297</th>\n",
       "      <td>PB</td>\n",
       "      <td>25.0</td>\n",
       "      <td>2020-04-25</td>\n",
       "      <td>17</td>\n",
       "      <td>4.039277e+06</td>\n",
       "      <td>263</td>\n",
       "      <td>6.511066</td>\n",
       "      <td>-7.28</td>\n",
       "      <td>-36.72</td>\n",
       "      <td>nordeste</td>\n",
       "    </tr>\n",
       "    <tr>\n",
       "      <th>298</th>\n",
       "      <td>PB</td>\n",
       "      <td>25.0</td>\n",
       "      <td>2020-05-02</td>\n",
       "      <td>18</td>\n",
       "      <td>4.039277e+06</td>\n",
       "      <td>670</td>\n",
       "      <td>16.587127</td>\n",
       "      <td>-7.28</td>\n",
       "      <td>-36.72</td>\n",
       "      <td>nordeste</td>\n",
       "    </tr>\n",
       "    <tr>\n",
       "      <th>299</th>\n",
       "      <td>PB</td>\n",
       "      <td>25.0</td>\n",
       "      <td>2020-05-09</td>\n",
       "      <td>19</td>\n",
       "      <td>4.039277e+06</td>\n",
       "      <td>987</td>\n",
       "      <td>24.435066</td>\n",
       "      <td>-7.28</td>\n",
       "      <td>-36.72</td>\n",
       "      <td>nordeste</td>\n",
       "    </tr>\n",
       "  </tbody>\n",
       "</table>\n",
       "<p>299 rows × 10 columns</p>\n",
       "</div>"
      ],
      "text/plain": [
       "    state  ibge_code        week  epidemiological_week  \\\n",
       "1      AC       12.0  2020-03-28                    13   \n",
       "2      AC       12.0  2020-04-04                    14   \n",
       "3      AC       12.0  2020-04-11                    15   \n",
       "4      AC       12.0  2020-04-18                    16   \n",
       "5      AC       12.0  2020-04-25                    17   \n",
       "..    ...        ...         ...                   ...   \n",
       "295    PB       25.0  2020-04-11                    15   \n",
       "296    PB       25.0  2020-04-18                    16   \n",
       "297    PB       25.0  2020-04-25                    17   \n",
       "298    PB       25.0  2020-05-02                    18   \n",
       "299    PB       25.0  2020-05-09                    19   \n",
       "\n",
       "     total_inhabitants_state  new_week_cases  \\\n",
       "1               8.944700e+05              14   \n",
       "2               8.944700e+05              21   \n",
       "3               8.944700e+05              26   \n",
       "4               8.944700e+05              70   \n",
       "5               8.944700e+05             116   \n",
       "..                       ...             ...   \n",
       "295             4.039277e+06              67   \n",
       "296             4.039277e+06             135   \n",
       "297             4.039277e+06             263   \n",
       "298             4.039277e+06             670   \n",
       "299             4.039277e+06             987   \n",
       "\n",
       "     new_week_cases_per_100k_inhabitantants  latitude  longitude    region  \n",
       "1                                  1.565173     -8.77     -70.55     norte  \n",
       "2                                  2.347759     -8.77     -70.55     norte  \n",
       "3                                  2.906749     -8.77     -70.55     norte  \n",
       "4                                  7.825864     -8.77     -70.55     norte  \n",
       "5                                 12.968574     -8.77     -70.55     norte  \n",
       "..                                      ...       ...        ...       ...  \n",
       "295                                1.658713     -7.28     -36.72  nordeste  \n",
       "296                                3.342182     -7.28     -36.72  nordeste  \n",
       "297                                6.511066     -7.28     -36.72  nordeste  \n",
       "298                               16.587127     -7.28     -36.72  nordeste  \n",
       "299                               24.435066     -7.28     -36.72  nordeste  \n",
       "\n",
       "[299 rows x 10 columns]"
      ]
     },
     "execution_count": 66,
     "metadata": {},
     "output_type": "execute_result"
    }
   ],
   "source": [
    "#Salvando em csv\n",
    "states_incidence.to_csv('resultados/states_incidence.csv')\n",
    "states_incidence[1:300]"
   ]
  },
  {
   "cell_type": "code",
   "execution_count": 62,
   "metadata": {},
   "outputs": [
    {
     "data": {
      "text/html": [
       "<div>\n",
       "<style scoped>\n",
       "    .dataframe tbody tr th:only-of-type {\n",
       "        vertical-align: middle;\n",
       "    }\n",
       "\n",
       "    .dataframe tbody tr th {\n",
       "        vertical-align: top;\n",
       "    }\n",
       "\n",
       "    .dataframe thead th {\n",
       "        text-align: right;\n",
       "    }\n",
       "</style>\n",
       "<table border=\"1\" class=\"dataframe\">\n",
       "  <thead>\n",
       "    <tr style=\"text-align: right;\">\n",
       "      <th></th>\n",
       "      <th>epidemiological_week</th>\n",
       "      <th>ibge_code</th>\n",
       "      <th>total_inhabitants_state</th>\n",
       "      <th>new_week_cases</th>\n",
       "      <th>new_week_cases_per_100k_inhabitantants</th>\n",
       "      <th>latitude</th>\n",
       "      <th>longitude</th>\n",
       "    </tr>\n",
       "  </thead>\n",
       "  <tbody>\n",
       "    <tr>\n",
       "      <th>0</th>\n",
       "      <td>9</td>\n",
       "      <td>35.0</td>\n",
       "      <td>4.628933e+07</td>\n",
       "      <td>2</td>\n",
       "      <td>0.004321</td>\n",
       "      <td>-22.19</td>\n",
       "      <td>-48.79</td>\n",
       "    </tr>\n",
       "    <tr>\n",
       "      <th>1</th>\n",
       "      <td>10</td>\n",
       "      <td>182.0</td>\n",
       "      <td>8.570254e+07</td>\n",
       "      <td>17</td>\n",
       "      <td>0.106041</td>\n",
       "      <td>-92.75</td>\n",
       "      <td>-221.36</td>\n",
       "    </tr>\n",
       "    <tr>\n",
       "      <th>2</th>\n",
       "      <td>11</td>\n",
       "      <td>584.0</td>\n",
       "      <td>1.741814e+08</td>\n",
       "      <td>117</td>\n",
       "      <td>1.047637</td>\n",
       "      <td>-274.98</td>\n",
       "      <td>-776.68</td>\n",
       "    </tr>\n",
       "    <tr>\n",
       "      <th>3</th>\n",
       "      <td>12</td>\n",
       "      <td>786.0</td>\n",
       "      <td>2.117557e+08</td>\n",
       "      <td>996</td>\n",
       "      <td>12.288473</td>\n",
       "      <td>-334.29</td>\n",
       "      <td>-1307.08</td>\n",
       "    </tr>\n",
       "    <tr>\n",
       "      <th>4</th>\n",
       "      <td>13</td>\n",
       "      <td>786.0</td>\n",
       "      <td>2.117557e+08</td>\n",
       "      <td>2821</td>\n",
       "      <td>29.991042</td>\n",
       "      <td>-334.29</td>\n",
       "      <td>-1307.08</td>\n",
       "    </tr>\n",
       "    <tr>\n",
       "      <th>5</th>\n",
       "      <td>14</td>\n",
       "      <td>786.0</td>\n",
       "      <td>2.117557e+08</td>\n",
       "      <td>6428</td>\n",
       "      <td>60.195930</td>\n",
       "      <td>-334.29</td>\n",
       "      <td>-1307.08</td>\n",
       "    </tr>\n",
       "    <tr>\n",
       "      <th>6</th>\n",
       "      <td>15</td>\n",
       "      <td>786.0</td>\n",
       "      <td>2.117557e+08</td>\n",
       "      <td>10610</td>\n",
       "      <td>119.569820</td>\n",
       "      <td>-334.29</td>\n",
       "      <td>-1307.08</td>\n",
       "    </tr>\n",
       "    <tr>\n",
       "      <th>7</th>\n",
       "      <td>16</td>\n",
       "      <td>786.0</td>\n",
       "      <td>2.117557e+08</td>\n",
       "      <td>16184</td>\n",
       "      <td>209.629809</td>\n",
       "      <td>-334.29</td>\n",
       "      <td>-1307.08</td>\n",
       "    </tr>\n",
       "    <tr>\n",
       "      <th>8</th>\n",
       "      <td>17</td>\n",
       "      <td>786.0</td>\n",
       "      <td>2.117557e+08</td>\n",
       "      <td>22331</td>\n",
       "      <td>313.286207</td>\n",
       "      <td>-334.29</td>\n",
       "      <td>-1307.08</td>\n",
       "    </tr>\n",
       "    <tr>\n",
       "      <th>9</th>\n",
       "      <td>18</td>\n",
       "      <td>786.0</td>\n",
       "      <td>2.117557e+08</td>\n",
       "      <td>37924</td>\n",
       "      <td>543.465410</td>\n",
       "      <td>-334.29</td>\n",
       "      <td>-1307.08</td>\n",
       "    </tr>\n",
       "    <tr>\n",
       "      <th>10</th>\n",
       "      <td>19</td>\n",
       "      <td>786.0</td>\n",
       "      <td>2.117557e+08</td>\n",
       "      <td>59818</td>\n",
       "      <td>1068.004901</td>\n",
       "      <td>-334.29</td>\n",
       "      <td>-1307.08</td>\n",
       "    </tr>\n",
       "    <tr>\n",
       "      <th>11</th>\n",
       "      <td>20</td>\n",
       "      <td>786.0</td>\n",
       "      <td>2.117557e+08</td>\n",
       "      <td>77327</td>\n",
       "      <td>1313.196982</td>\n",
       "      <td>-334.29</td>\n",
       "      <td>-1307.08</td>\n",
       "    </tr>\n",
       "    <tr>\n",
       "      <th>12</th>\n",
       "      <td>21</td>\n",
       "      <td>786.0</td>\n",
       "      <td>2.117557e+08</td>\n",
       "      <td>116550</td>\n",
       "      <td>2075.114942</td>\n",
       "      <td>-334.29</td>\n",
       "      <td>-1307.08</td>\n",
       "    </tr>\n",
       "    <tr>\n",
       "      <th>13</th>\n",
       "      <td>22</td>\n",
       "      <td>786.0</td>\n",
       "      <td>2.117557e+08</td>\n",
       "      <td>151788</td>\n",
       "      <td>2830.819314</td>\n",
       "      <td>-334.29</td>\n",
       "      <td>-1307.08</td>\n",
       "    </tr>\n",
       "    <tr>\n",
       "      <th>14</th>\n",
       "      <td>23</td>\n",
       "      <td>786.0</td>\n",
       "      <td>2.117557e+08</td>\n",
       "      <td>173980</td>\n",
       "      <td>3272.071775</td>\n",
       "      <td>-334.29</td>\n",
       "      <td>-1307.08</td>\n",
       "    </tr>\n",
       "    <tr>\n",
       "      <th>15</th>\n",
       "      <td>24</td>\n",
       "      <td>786.0</td>\n",
       "      <td>2.117557e+08</td>\n",
       "      <td>174886</td>\n",
       "      <td>3409.753118</td>\n",
       "      <td>-334.29</td>\n",
       "      <td>-1307.08</td>\n",
       "    </tr>\n",
       "    <tr>\n",
       "      <th>16</th>\n",
       "      <td>25</td>\n",
       "      <td>786.0</td>\n",
       "      <td>2.117557e+08</td>\n",
       "      <td>219558</td>\n",
       "      <td>4168.971772</td>\n",
       "      <td>-334.29</td>\n",
       "      <td>-1307.08</td>\n",
       "    </tr>\n",
       "    <tr>\n",
       "      <th>17</th>\n",
       "      <td>26</td>\n",
       "      <td>786.0</td>\n",
       "      <td>2.117557e+08</td>\n",
       "      <td>247214</td>\n",
       "      <td>5243.822300</td>\n",
       "      <td>-334.29</td>\n",
       "      <td>-1307.08</td>\n",
       "    </tr>\n",
       "    <tr>\n",
       "      <th>18</th>\n",
       "      <td>27</td>\n",
       "      <td>786.0</td>\n",
       "      <td>2.117557e+08</td>\n",
       "      <td>261490</td>\n",
       "      <td>4979.598390</td>\n",
       "      <td>-334.29</td>\n",
       "      <td>-1307.08</td>\n",
       "    </tr>\n",
       "    <tr>\n",
       "      <th>19</th>\n",
       "      <td>28</td>\n",
       "      <td>786.0</td>\n",
       "      <td>2.117557e+08</td>\n",
       "      <td>264272</td>\n",
       "      <td>4677.323116</td>\n",
       "      <td>-334.29</td>\n",
       "      <td>-1307.08</td>\n",
       "    </tr>\n",
       "    <tr>\n",
       "      <th>20</th>\n",
       "      <td>29</td>\n",
       "      <td>786.0</td>\n",
       "      <td>2.117557e+08</td>\n",
       "      <td>233642</td>\n",
       "      <td>4307.982155</td>\n",
       "      <td>-334.29</td>\n",
       "      <td>-1307.08</td>\n",
       "    </tr>\n",
       "    <tr>\n",
       "      <th>21</th>\n",
       "      <td>30</td>\n",
       "      <td>786.0</td>\n",
       "      <td>2.117557e+08</td>\n",
       "      <td>321038</td>\n",
       "      <td>5546.587281</td>\n",
       "      <td>-334.29</td>\n",
       "      <td>-1307.08</td>\n",
       "    </tr>\n",
       "    <tr>\n",
       "      <th>22</th>\n",
       "      <td>31</td>\n",
       "      <td>786.0</td>\n",
       "      <td>2.117557e+08</td>\n",
       "      <td>312999</td>\n",
       "      <td>5206.570895</td>\n",
       "      <td>-334.29</td>\n",
       "      <td>-1307.08</td>\n",
       "    </tr>\n",
       "  </tbody>\n",
       "</table>\n",
       "</div>"
      ],
      "text/plain": [
       "    epidemiological_week  ibge_code  total_inhabitants_state  new_week_cases  \\\n",
       "0                      9       35.0             4.628933e+07               2   \n",
       "1                     10      182.0             8.570254e+07              17   \n",
       "2                     11      584.0             1.741814e+08             117   \n",
       "3                     12      786.0             2.117557e+08             996   \n",
       "4                     13      786.0             2.117557e+08            2821   \n",
       "5                     14      786.0             2.117557e+08            6428   \n",
       "6                     15      786.0             2.117557e+08           10610   \n",
       "7                     16      786.0             2.117557e+08           16184   \n",
       "8                     17      786.0             2.117557e+08           22331   \n",
       "9                     18      786.0             2.117557e+08           37924   \n",
       "10                    19      786.0             2.117557e+08           59818   \n",
       "11                    20      786.0             2.117557e+08           77327   \n",
       "12                    21      786.0             2.117557e+08          116550   \n",
       "13                    22      786.0             2.117557e+08          151788   \n",
       "14                    23      786.0             2.117557e+08          173980   \n",
       "15                    24      786.0             2.117557e+08          174886   \n",
       "16                    25      786.0             2.117557e+08          219558   \n",
       "17                    26      786.0             2.117557e+08          247214   \n",
       "18                    27      786.0             2.117557e+08          261490   \n",
       "19                    28      786.0             2.117557e+08          264272   \n",
       "20                    29      786.0             2.117557e+08          233642   \n",
       "21                    30      786.0             2.117557e+08          321038   \n",
       "22                    31      786.0             2.117557e+08          312999   \n",
       "\n",
       "    new_week_cases_per_100k_inhabitantants  latitude  longitude  \n",
       "0                                 0.004321    -22.19     -48.79  \n",
       "1                                 0.106041    -92.75    -221.36  \n",
       "2                                 1.047637   -274.98    -776.68  \n",
       "3                                12.288473   -334.29   -1307.08  \n",
       "4                                29.991042   -334.29   -1307.08  \n",
       "5                                60.195930   -334.29   -1307.08  \n",
       "6                               119.569820   -334.29   -1307.08  \n",
       "7                               209.629809   -334.29   -1307.08  \n",
       "8                               313.286207   -334.29   -1307.08  \n",
       "9                               543.465410   -334.29   -1307.08  \n",
       "10                             1068.004901   -334.29   -1307.08  \n",
       "11                             1313.196982   -334.29   -1307.08  \n",
       "12                             2075.114942   -334.29   -1307.08  \n",
       "13                             2830.819314   -334.29   -1307.08  \n",
       "14                             3272.071775   -334.29   -1307.08  \n",
       "15                             3409.753118   -334.29   -1307.08  \n",
       "16                             4168.971772   -334.29   -1307.08  \n",
       "17                             5243.822300   -334.29   -1307.08  \n",
       "18                             4979.598390   -334.29   -1307.08  \n",
       "19                             4677.323116   -334.29   -1307.08  \n",
       "20                             4307.982155   -334.29   -1307.08  \n",
       "21                             5546.587281   -334.29   -1307.08  \n",
       "22                             5206.570895   -334.29   -1307.08  "
      ]
     },
     "execution_count": 62,
     "metadata": {},
     "output_type": "execute_result"
    }
   ],
   "source": [
    "#Agrupa os dados por semana epidemiológica, para todo Brasil\n",
    "states_incidence_brazil = states_incidence.groupby(['epidemiological_week']).sum().reset_index()\n",
    "states_incidence_brazil"
   ]
  },
  {
   "cell_type": "code",
   "execution_count": 63,
   "metadata": {},
   "outputs": [
    {
     "data": {
      "application/vnd.plotly.v1+json": {
       "config": {
        "plotlyServerURL": "https://plot.ly"
       },
       "data": [
        {
         "hovertemplate": "epidemiological_week=%{x}<br>new_week_cases_per_100k_inhabitantants=%{y}<extra></extra>",
         "legendgroup": "",
         "line": {
          "color": "#636efa",
          "dash": "solid"
         },
         "mode": "lines",
         "name": "",
         "orientation": "v",
         "showlegend": false,
         "type": "scatter",
         "x": [
          9,
          10,
          11,
          12,
          13,
          14,
          15,
          16,
          17,
          18,
          19,
          20,
          21,
          22,
          23,
          24,
          25,
          26,
          27,
          28,
          29,
          30,
          31
         ],
         "xaxis": "x",
         "y": [
          0.0043206498550553,
          0.10604119635412121,
          1.0476373273476267,
          12.288473202741443,
          29.991041730314763,
          60.19592986845214,
          119.56981975020943,
          209.62980886385475,
          313.28620698961447,
          543.4654103846475,
          1068.0049012610937,
          1313.1969815037903,
          2075.114941953256,
          2830.819313506941,
          3272.0717745545444,
          3409.7531175274817,
          4168.971771537269,
          5243.822299777945,
          4979.598390154559,
          4677.323116318339,
          4307.982154658615,
          5546.587281472093,
          5206.570894636468
         ],
         "yaxis": "y"
        }
       ],
       "layout": {
        "legend": {
         "tracegroupgap": 0
        },
        "template": {
         "data": {
          "bar": [
           {
            "error_x": {
             "color": "#2a3f5f"
            },
            "error_y": {
             "color": "#2a3f5f"
            },
            "marker": {
             "line": {
              "color": "#E5ECF6",
              "width": 0.5
             }
            },
            "type": "bar"
           }
          ],
          "barpolar": [
           {
            "marker": {
             "line": {
              "color": "#E5ECF6",
              "width": 0.5
             }
            },
            "type": "barpolar"
           }
          ],
          "carpet": [
           {
            "aaxis": {
             "endlinecolor": "#2a3f5f",
             "gridcolor": "white",
             "linecolor": "white",
             "minorgridcolor": "white",
             "startlinecolor": "#2a3f5f"
            },
            "baxis": {
             "endlinecolor": "#2a3f5f",
             "gridcolor": "white",
             "linecolor": "white",
             "minorgridcolor": "white",
             "startlinecolor": "#2a3f5f"
            },
            "type": "carpet"
           }
          ],
          "choropleth": [
           {
            "colorbar": {
             "outlinewidth": 0,
             "ticks": ""
            },
            "type": "choropleth"
           }
          ],
          "contour": [
           {
            "colorbar": {
             "outlinewidth": 0,
             "ticks": ""
            },
            "colorscale": [
             [
              0,
              "#0d0887"
             ],
             [
              0.1111111111111111,
              "#46039f"
             ],
             [
              0.2222222222222222,
              "#7201a8"
             ],
             [
              0.3333333333333333,
              "#9c179e"
             ],
             [
              0.4444444444444444,
              "#bd3786"
             ],
             [
              0.5555555555555556,
              "#d8576b"
             ],
             [
              0.6666666666666666,
              "#ed7953"
             ],
             [
              0.7777777777777778,
              "#fb9f3a"
             ],
             [
              0.8888888888888888,
              "#fdca26"
             ],
             [
              1,
              "#f0f921"
             ]
            ],
            "type": "contour"
           }
          ],
          "contourcarpet": [
           {
            "colorbar": {
             "outlinewidth": 0,
             "ticks": ""
            },
            "type": "contourcarpet"
           }
          ],
          "heatmap": [
           {
            "colorbar": {
             "outlinewidth": 0,
             "ticks": ""
            },
            "colorscale": [
             [
              0,
              "#0d0887"
             ],
             [
              0.1111111111111111,
              "#46039f"
             ],
             [
              0.2222222222222222,
              "#7201a8"
             ],
             [
              0.3333333333333333,
              "#9c179e"
             ],
             [
              0.4444444444444444,
              "#bd3786"
             ],
             [
              0.5555555555555556,
              "#d8576b"
             ],
             [
              0.6666666666666666,
              "#ed7953"
             ],
             [
              0.7777777777777778,
              "#fb9f3a"
             ],
             [
              0.8888888888888888,
              "#fdca26"
             ],
             [
              1,
              "#f0f921"
             ]
            ],
            "type": "heatmap"
           }
          ],
          "heatmapgl": [
           {
            "colorbar": {
             "outlinewidth": 0,
             "ticks": ""
            },
            "colorscale": [
             [
              0,
              "#0d0887"
             ],
             [
              0.1111111111111111,
              "#46039f"
             ],
             [
              0.2222222222222222,
              "#7201a8"
             ],
             [
              0.3333333333333333,
              "#9c179e"
             ],
             [
              0.4444444444444444,
              "#bd3786"
             ],
             [
              0.5555555555555556,
              "#d8576b"
             ],
             [
              0.6666666666666666,
              "#ed7953"
             ],
             [
              0.7777777777777778,
              "#fb9f3a"
             ],
             [
              0.8888888888888888,
              "#fdca26"
             ],
             [
              1,
              "#f0f921"
             ]
            ],
            "type": "heatmapgl"
           }
          ],
          "histogram": [
           {
            "marker": {
             "colorbar": {
              "outlinewidth": 0,
              "ticks": ""
             }
            },
            "type": "histogram"
           }
          ],
          "histogram2d": [
           {
            "colorbar": {
             "outlinewidth": 0,
             "ticks": ""
            },
            "colorscale": [
             [
              0,
              "#0d0887"
             ],
             [
              0.1111111111111111,
              "#46039f"
             ],
             [
              0.2222222222222222,
              "#7201a8"
             ],
             [
              0.3333333333333333,
              "#9c179e"
             ],
             [
              0.4444444444444444,
              "#bd3786"
             ],
             [
              0.5555555555555556,
              "#d8576b"
             ],
             [
              0.6666666666666666,
              "#ed7953"
             ],
             [
              0.7777777777777778,
              "#fb9f3a"
             ],
             [
              0.8888888888888888,
              "#fdca26"
             ],
             [
              1,
              "#f0f921"
             ]
            ],
            "type": "histogram2d"
           }
          ],
          "histogram2dcontour": [
           {
            "colorbar": {
             "outlinewidth": 0,
             "ticks": ""
            },
            "colorscale": [
             [
              0,
              "#0d0887"
             ],
             [
              0.1111111111111111,
              "#46039f"
             ],
             [
              0.2222222222222222,
              "#7201a8"
             ],
             [
              0.3333333333333333,
              "#9c179e"
             ],
             [
              0.4444444444444444,
              "#bd3786"
             ],
             [
              0.5555555555555556,
              "#d8576b"
             ],
             [
              0.6666666666666666,
              "#ed7953"
             ],
             [
              0.7777777777777778,
              "#fb9f3a"
             ],
             [
              0.8888888888888888,
              "#fdca26"
             ],
             [
              1,
              "#f0f921"
             ]
            ],
            "type": "histogram2dcontour"
           }
          ],
          "mesh3d": [
           {
            "colorbar": {
             "outlinewidth": 0,
             "ticks": ""
            },
            "type": "mesh3d"
           }
          ],
          "parcoords": [
           {
            "line": {
             "colorbar": {
              "outlinewidth": 0,
              "ticks": ""
             }
            },
            "type": "parcoords"
           }
          ],
          "pie": [
           {
            "automargin": true,
            "type": "pie"
           }
          ],
          "scatter": [
           {
            "marker": {
             "colorbar": {
              "outlinewidth": 0,
              "ticks": ""
             }
            },
            "type": "scatter"
           }
          ],
          "scatter3d": [
           {
            "line": {
             "colorbar": {
              "outlinewidth": 0,
              "ticks": ""
             }
            },
            "marker": {
             "colorbar": {
              "outlinewidth": 0,
              "ticks": ""
             }
            },
            "type": "scatter3d"
           }
          ],
          "scattercarpet": [
           {
            "marker": {
             "colorbar": {
              "outlinewidth": 0,
              "ticks": ""
             }
            },
            "type": "scattercarpet"
           }
          ],
          "scattergeo": [
           {
            "marker": {
             "colorbar": {
              "outlinewidth": 0,
              "ticks": ""
             }
            },
            "type": "scattergeo"
           }
          ],
          "scattergl": [
           {
            "marker": {
             "colorbar": {
              "outlinewidth": 0,
              "ticks": ""
             }
            },
            "type": "scattergl"
           }
          ],
          "scattermapbox": [
           {
            "marker": {
             "colorbar": {
              "outlinewidth": 0,
              "ticks": ""
             }
            },
            "type": "scattermapbox"
           }
          ],
          "scatterpolar": [
           {
            "marker": {
             "colorbar": {
              "outlinewidth": 0,
              "ticks": ""
             }
            },
            "type": "scatterpolar"
           }
          ],
          "scatterpolargl": [
           {
            "marker": {
             "colorbar": {
              "outlinewidth": 0,
              "ticks": ""
             }
            },
            "type": "scatterpolargl"
           }
          ],
          "scatterternary": [
           {
            "marker": {
             "colorbar": {
              "outlinewidth": 0,
              "ticks": ""
             }
            },
            "type": "scatterternary"
           }
          ],
          "surface": [
           {
            "colorbar": {
             "outlinewidth": 0,
             "ticks": ""
            },
            "colorscale": [
             [
              0,
              "#0d0887"
             ],
             [
              0.1111111111111111,
              "#46039f"
             ],
             [
              0.2222222222222222,
              "#7201a8"
             ],
             [
              0.3333333333333333,
              "#9c179e"
             ],
             [
              0.4444444444444444,
              "#bd3786"
             ],
             [
              0.5555555555555556,
              "#d8576b"
             ],
             [
              0.6666666666666666,
              "#ed7953"
             ],
             [
              0.7777777777777778,
              "#fb9f3a"
             ],
             [
              0.8888888888888888,
              "#fdca26"
             ],
             [
              1,
              "#f0f921"
             ]
            ],
            "type": "surface"
           }
          ],
          "table": [
           {
            "cells": {
             "fill": {
              "color": "#EBF0F8"
             },
             "line": {
              "color": "white"
             }
            },
            "header": {
             "fill": {
              "color": "#C8D4E3"
             },
             "line": {
              "color": "white"
             }
            },
            "type": "table"
           }
          ]
         },
         "layout": {
          "annotationdefaults": {
           "arrowcolor": "#2a3f5f",
           "arrowhead": 0,
           "arrowwidth": 1
          },
          "coloraxis": {
           "colorbar": {
            "outlinewidth": 0,
            "ticks": ""
           }
          },
          "colorscale": {
           "diverging": [
            [
             0,
             "#8e0152"
            ],
            [
             0.1,
             "#c51b7d"
            ],
            [
             0.2,
             "#de77ae"
            ],
            [
             0.3,
             "#f1b6da"
            ],
            [
             0.4,
             "#fde0ef"
            ],
            [
             0.5,
             "#f7f7f7"
            ],
            [
             0.6,
             "#e6f5d0"
            ],
            [
             0.7,
             "#b8e186"
            ],
            [
             0.8,
             "#7fbc41"
            ],
            [
             0.9,
             "#4d9221"
            ],
            [
             1,
             "#276419"
            ]
           ],
           "sequential": [
            [
             0,
             "#0d0887"
            ],
            [
             0.1111111111111111,
             "#46039f"
            ],
            [
             0.2222222222222222,
             "#7201a8"
            ],
            [
             0.3333333333333333,
             "#9c179e"
            ],
            [
             0.4444444444444444,
             "#bd3786"
            ],
            [
             0.5555555555555556,
             "#d8576b"
            ],
            [
             0.6666666666666666,
             "#ed7953"
            ],
            [
             0.7777777777777778,
             "#fb9f3a"
            ],
            [
             0.8888888888888888,
             "#fdca26"
            ],
            [
             1,
             "#f0f921"
            ]
           ],
           "sequentialminus": [
            [
             0,
             "#0d0887"
            ],
            [
             0.1111111111111111,
             "#46039f"
            ],
            [
             0.2222222222222222,
             "#7201a8"
            ],
            [
             0.3333333333333333,
             "#9c179e"
            ],
            [
             0.4444444444444444,
             "#bd3786"
            ],
            [
             0.5555555555555556,
             "#d8576b"
            ],
            [
             0.6666666666666666,
             "#ed7953"
            ],
            [
             0.7777777777777778,
             "#fb9f3a"
            ],
            [
             0.8888888888888888,
             "#fdca26"
            ],
            [
             1,
             "#f0f921"
            ]
           ]
          },
          "colorway": [
           "#636efa",
           "#EF553B",
           "#00cc96",
           "#ab63fa",
           "#FFA15A",
           "#19d3f3",
           "#FF6692",
           "#B6E880",
           "#FF97FF",
           "#FECB52"
          ],
          "font": {
           "color": "#2a3f5f"
          },
          "geo": {
           "bgcolor": "white",
           "lakecolor": "white",
           "landcolor": "#E5ECF6",
           "showlakes": true,
           "showland": true,
           "subunitcolor": "white"
          },
          "hoverlabel": {
           "align": "left"
          },
          "hovermode": "closest",
          "mapbox": {
           "style": "light"
          },
          "paper_bgcolor": "white",
          "plot_bgcolor": "#E5ECF6",
          "polar": {
           "angularaxis": {
            "gridcolor": "white",
            "linecolor": "white",
            "ticks": ""
           },
           "bgcolor": "#E5ECF6",
           "radialaxis": {
            "gridcolor": "white",
            "linecolor": "white",
            "ticks": ""
           }
          },
          "scene": {
           "xaxis": {
            "backgroundcolor": "#E5ECF6",
            "gridcolor": "white",
            "gridwidth": 2,
            "linecolor": "white",
            "showbackground": true,
            "ticks": "",
            "zerolinecolor": "white"
           },
           "yaxis": {
            "backgroundcolor": "#E5ECF6",
            "gridcolor": "white",
            "gridwidth": 2,
            "linecolor": "white",
            "showbackground": true,
            "ticks": "",
            "zerolinecolor": "white"
           },
           "zaxis": {
            "backgroundcolor": "#E5ECF6",
            "gridcolor": "white",
            "gridwidth": 2,
            "linecolor": "white",
            "showbackground": true,
            "ticks": "",
            "zerolinecolor": "white"
           }
          },
          "shapedefaults": {
           "line": {
            "color": "#2a3f5f"
           }
          },
          "ternary": {
           "aaxis": {
            "gridcolor": "white",
            "linecolor": "white",
            "ticks": ""
           },
           "baxis": {
            "gridcolor": "white",
            "linecolor": "white",
            "ticks": ""
           },
           "bgcolor": "#E5ECF6",
           "caxis": {
            "gridcolor": "white",
            "linecolor": "white",
            "ticks": ""
           }
          },
          "title": {
           "x": 0.05
          },
          "xaxis": {
           "automargin": true,
           "gridcolor": "white",
           "linecolor": "white",
           "ticks": "",
           "title": {
            "standoff": 15
           },
           "zerolinecolor": "white",
           "zerolinewidth": 2
          },
          "yaxis": {
           "automargin": true,
           "gridcolor": "white",
           "linecolor": "white",
           "ticks": "",
           "title": {
            "standoff": 15
           },
           "zerolinecolor": "white",
           "zerolinewidth": 2
          }
         }
        },
        "title": {
         "text": "Brazilian incidence"
        },
        "xaxis": {
         "anchor": "y",
         "domain": [
          0,
          1
         ],
         "title": {
          "text": "epidemiological_week"
         }
        },
        "yaxis": {
         "anchor": "x",
         "domain": [
          0,
          1
         ],
         "title": {
          "text": "new_week_cases_per_100k_inhabitantants"
         }
        }
       }
      },
      "text/html": [
       "<div>\n",
       "        \n",
       "        \n",
       "            <div id=\"1632c826-7793-47b3-a7a3-05b23736207d\" class=\"plotly-graph-div\" style=\"height:525px; width:100%;\"></div>\n",
       "            <script type=\"text/javascript\">\n",
       "                require([\"plotly\"], function(Plotly) {\n",
       "                    window.PLOTLYENV=window.PLOTLYENV || {};\n",
       "                    \n",
       "                if (document.getElementById(\"1632c826-7793-47b3-a7a3-05b23736207d\")) {\n",
       "                    Plotly.newPlot(\n",
       "                        '1632c826-7793-47b3-a7a3-05b23736207d',\n",
       "                        [{\"hovertemplate\": \"epidemiological_week=%{x}<br>new_week_cases_per_100k_inhabitantants=%{y}<extra></extra>\", \"legendgroup\": \"\", \"line\": {\"color\": \"#636efa\", \"dash\": \"solid\"}, \"mode\": \"lines\", \"name\": \"\", \"orientation\": \"v\", \"showlegend\": false, \"type\": \"scatter\", \"x\": [9, 10, 11, 12, 13, 14, 15, 16, 17, 18, 19, 20, 21, 22, 23, 24, 25, 26, 27, 28, 29, 30, 31], \"xaxis\": \"x\", \"y\": [0.0043206498550553, 0.10604119635412121, 1.0476373273476267, 12.288473202741443, 29.991041730314763, 60.19592986845214, 119.56981975020943, 209.62980886385475, 313.28620698961447, 543.4654103846475, 1068.0049012610937, 1313.1969815037903, 2075.114941953256, 2830.819313506941, 3272.0717745545444, 3409.7531175274817, 4168.971771537269, 5243.822299777945, 4979.598390154559, 4677.323116318339, 4307.982154658615, 5546.587281472093, 5206.570894636468], \"yaxis\": \"y\"}],\n",
       "                        {\"legend\": {\"tracegroupgap\": 0}, \"template\": {\"data\": {\"bar\": [{\"error_x\": {\"color\": \"#2a3f5f\"}, \"error_y\": {\"color\": \"#2a3f5f\"}, \"marker\": {\"line\": {\"color\": \"#E5ECF6\", \"width\": 0.5}}, \"type\": \"bar\"}], \"barpolar\": [{\"marker\": {\"line\": {\"color\": \"#E5ECF6\", \"width\": 0.5}}, \"type\": \"barpolar\"}], \"carpet\": [{\"aaxis\": {\"endlinecolor\": \"#2a3f5f\", \"gridcolor\": \"white\", \"linecolor\": \"white\", \"minorgridcolor\": \"white\", \"startlinecolor\": \"#2a3f5f\"}, \"baxis\": {\"endlinecolor\": \"#2a3f5f\", \"gridcolor\": \"white\", \"linecolor\": \"white\", \"minorgridcolor\": \"white\", \"startlinecolor\": \"#2a3f5f\"}, \"type\": \"carpet\"}], \"choropleth\": [{\"colorbar\": {\"outlinewidth\": 0, \"ticks\": \"\"}, \"type\": \"choropleth\"}], \"contour\": [{\"colorbar\": {\"outlinewidth\": 0, \"ticks\": \"\"}, \"colorscale\": [[0.0, \"#0d0887\"], [0.1111111111111111, \"#46039f\"], [0.2222222222222222, \"#7201a8\"], [0.3333333333333333, \"#9c179e\"], [0.4444444444444444, \"#bd3786\"], [0.5555555555555556, \"#d8576b\"], [0.6666666666666666, \"#ed7953\"], [0.7777777777777778, \"#fb9f3a\"], [0.8888888888888888, \"#fdca26\"], [1.0, \"#f0f921\"]], \"type\": \"contour\"}], \"contourcarpet\": [{\"colorbar\": {\"outlinewidth\": 0, \"ticks\": \"\"}, \"type\": \"contourcarpet\"}], \"heatmap\": [{\"colorbar\": {\"outlinewidth\": 0, \"ticks\": \"\"}, \"colorscale\": [[0.0, \"#0d0887\"], [0.1111111111111111, \"#46039f\"], [0.2222222222222222, \"#7201a8\"], [0.3333333333333333, \"#9c179e\"], [0.4444444444444444, \"#bd3786\"], [0.5555555555555556, \"#d8576b\"], [0.6666666666666666, \"#ed7953\"], [0.7777777777777778, \"#fb9f3a\"], [0.8888888888888888, \"#fdca26\"], [1.0, \"#f0f921\"]], \"type\": \"heatmap\"}], \"heatmapgl\": [{\"colorbar\": {\"outlinewidth\": 0, \"ticks\": \"\"}, \"colorscale\": [[0.0, \"#0d0887\"], [0.1111111111111111, \"#46039f\"], [0.2222222222222222, \"#7201a8\"], [0.3333333333333333, \"#9c179e\"], [0.4444444444444444, \"#bd3786\"], [0.5555555555555556, \"#d8576b\"], [0.6666666666666666, \"#ed7953\"], [0.7777777777777778, \"#fb9f3a\"], [0.8888888888888888, \"#fdca26\"], [1.0, \"#f0f921\"]], \"type\": \"heatmapgl\"}], \"histogram\": [{\"marker\": {\"colorbar\": {\"outlinewidth\": 0, \"ticks\": \"\"}}, \"type\": \"histogram\"}], \"histogram2d\": [{\"colorbar\": {\"outlinewidth\": 0, \"ticks\": \"\"}, \"colorscale\": [[0.0, \"#0d0887\"], [0.1111111111111111, \"#46039f\"], [0.2222222222222222, \"#7201a8\"], [0.3333333333333333, \"#9c179e\"], [0.4444444444444444, \"#bd3786\"], [0.5555555555555556, \"#d8576b\"], [0.6666666666666666, \"#ed7953\"], [0.7777777777777778, \"#fb9f3a\"], [0.8888888888888888, \"#fdca26\"], [1.0, \"#f0f921\"]], \"type\": \"histogram2d\"}], \"histogram2dcontour\": [{\"colorbar\": {\"outlinewidth\": 0, \"ticks\": \"\"}, \"colorscale\": [[0.0, \"#0d0887\"], [0.1111111111111111, \"#46039f\"], [0.2222222222222222, \"#7201a8\"], [0.3333333333333333, \"#9c179e\"], [0.4444444444444444, \"#bd3786\"], [0.5555555555555556, \"#d8576b\"], [0.6666666666666666, \"#ed7953\"], [0.7777777777777778, \"#fb9f3a\"], [0.8888888888888888, \"#fdca26\"], [1.0, \"#f0f921\"]], \"type\": \"histogram2dcontour\"}], \"mesh3d\": [{\"colorbar\": {\"outlinewidth\": 0, \"ticks\": \"\"}, \"type\": \"mesh3d\"}], \"parcoords\": [{\"line\": {\"colorbar\": {\"outlinewidth\": 0, \"ticks\": \"\"}}, \"type\": \"parcoords\"}], \"pie\": [{\"automargin\": true, \"type\": \"pie\"}], \"scatter\": [{\"marker\": {\"colorbar\": {\"outlinewidth\": 0, \"ticks\": \"\"}}, \"type\": \"scatter\"}], \"scatter3d\": [{\"line\": {\"colorbar\": {\"outlinewidth\": 0, \"ticks\": \"\"}}, \"marker\": {\"colorbar\": {\"outlinewidth\": 0, \"ticks\": \"\"}}, \"type\": \"scatter3d\"}], \"scattercarpet\": [{\"marker\": {\"colorbar\": {\"outlinewidth\": 0, \"ticks\": \"\"}}, \"type\": \"scattercarpet\"}], \"scattergeo\": [{\"marker\": {\"colorbar\": {\"outlinewidth\": 0, \"ticks\": \"\"}}, \"type\": \"scattergeo\"}], \"scattergl\": [{\"marker\": {\"colorbar\": {\"outlinewidth\": 0, \"ticks\": \"\"}}, \"type\": \"scattergl\"}], \"scattermapbox\": [{\"marker\": {\"colorbar\": {\"outlinewidth\": 0, \"ticks\": \"\"}}, \"type\": \"scattermapbox\"}], \"scatterpolar\": [{\"marker\": {\"colorbar\": {\"outlinewidth\": 0, \"ticks\": \"\"}}, \"type\": \"scatterpolar\"}], \"scatterpolargl\": [{\"marker\": {\"colorbar\": {\"outlinewidth\": 0, \"ticks\": \"\"}}, \"type\": \"scatterpolargl\"}], \"scatterternary\": [{\"marker\": {\"colorbar\": {\"outlinewidth\": 0, \"ticks\": \"\"}}, \"type\": \"scatterternary\"}], \"surface\": [{\"colorbar\": {\"outlinewidth\": 0, \"ticks\": \"\"}, \"colorscale\": [[0.0, \"#0d0887\"], [0.1111111111111111, \"#46039f\"], [0.2222222222222222, \"#7201a8\"], [0.3333333333333333, \"#9c179e\"], [0.4444444444444444, \"#bd3786\"], [0.5555555555555556, \"#d8576b\"], [0.6666666666666666, \"#ed7953\"], [0.7777777777777778, \"#fb9f3a\"], [0.8888888888888888, \"#fdca26\"], [1.0, \"#f0f921\"]], \"type\": \"surface\"}], \"table\": [{\"cells\": {\"fill\": {\"color\": \"#EBF0F8\"}, \"line\": {\"color\": \"white\"}}, \"header\": {\"fill\": {\"color\": \"#C8D4E3\"}, \"line\": {\"color\": \"white\"}}, \"type\": \"table\"}]}, \"layout\": {\"annotationdefaults\": {\"arrowcolor\": \"#2a3f5f\", \"arrowhead\": 0, \"arrowwidth\": 1}, \"coloraxis\": {\"colorbar\": {\"outlinewidth\": 0, \"ticks\": \"\"}}, \"colorscale\": {\"diverging\": [[0, \"#8e0152\"], [0.1, \"#c51b7d\"], [0.2, \"#de77ae\"], [0.3, \"#f1b6da\"], [0.4, \"#fde0ef\"], [0.5, \"#f7f7f7\"], [0.6, \"#e6f5d0\"], [0.7, \"#b8e186\"], [0.8, \"#7fbc41\"], [0.9, \"#4d9221\"], [1, \"#276419\"]], \"sequential\": [[0.0, \"#0d0887\"], [0.1111111111111111, \"#46039f\"], [0.2222222222222222, \"#7201a8\"], [0.3333333333333333, \"#9c179e\"], [0.4444444444444444, \"#bd3786\"], [0.5555555555555556, \"#d8576b\"], [0.6666666666666666, \"#ed7953\"], [0.7777777777777778, \"#fb9f3a\"], [0.8888888888888888, \"#fdca26\"], [1.0, \"#f0f921\"]], \"sequentialminus\": [[0.0, \"#0d0887\"], [0.1111111111111111, \"#46039f\"], [0.2222222222222222, \"#7201a8\"], [0.3333333333333333, \"#9c179e\"], [0.4444444444444444, \"#bd3786\"], [0.5555555555555556, \"#d8576b\"], [0.6666666666666666, \"#ed7953\"], [0.7777777777777778, \"#fb9f3a\"], [0.8888888888888888, \"#fdca26\"], [1.0, \"#f0f921\"]]}, \"colorway\": [\"#636efa\", \"#EF553B\", \"#00cc96\", \"#ab63fa\", \"#FFA15A\", \"#19d3f3\", \"#FF6692\", \"#B6E880\", \"#FF97FF\", \"#FECB52\"], \"font\": {\"color\": \"#2a3f5f\"}, \"geo\": {\"bgcolor\": \"white\", \"lakecolor\": \"white\", \"landcolor\": \"#E5ECF6\", \"showlakes\": true, \"showland\": true, \"subunitcolor\": \"white\"}, \"hoverlabel\": {\"align\": \"left\"}, \"hovermode\": \"closest\", \"mapbox\": {\"style\": \"light\"}, \"paper_bgcolor\": \"white\", \"plot_bgcolor\": \"#E5ECF6\", \"polar\": {\"angularaxis\": {\"gridcolor\": \"white\", \"linecolor\": \"white\", \"ticks\": \"\"}, \"bgcolor\": \"#E5ECF6\", \"radialaxis\": {\"gridcolor\": \"white\", \"linecolor\": \"white\", \"ticks\": \"\"}}, \"scene\": {\"xaxis\": {\"backgroundcolor\": \"#E5ECF6\", \"gridcolor\": \"white\", \"gridwidth\": 2, \"linecolor\": \"white\", \"showbackground\": true, \"ticks\": \"\", \"zerolinecolor\": \"white\"}, \"yaxis\": {\"backgroundcolor\": \"#E5ECF6\", \"gridcolor\": \"white\", \"gridwidth\": 2, \"linecolor\": \"white\", \"showbackground\": true, \"ticks\": \"\", \"zerolinecolor\": \"white\"}, \"zaxis\": {\"backgroundcolor\": \"#E5ECF6\", \"gridcolor\": \"white\", \"gridwidth\": 2, \"linecolor\": \"white\", \"showbackground\": true, \"ticks\": \"\", \"zerolinecolor\": \"white\"}}, \"shapedefaults\": {\"line\": {\"color\": \"#2a3f5f\"}}, \"ternary\": {\"aaxis\": {\"gridcolor\": \"white\", \"linecolor\": \"white\", \"ticks\": \"\"}, \"baxis\": {\"gridcolor\": \"white\", \"linecolor\": \"white\", \"ticks\": \"\"}, \"bgcolor\": \"#E5ECF6\", \"caxis\": {\"gridcolor\": \"white\", \"linecolor\": \"white\", \"ticks\": \"\"}}, \"title\": {\"x\": 0.05}, \"xaxis\": {\"automargin\": true, \"gridcolor\": \"white\", \"linecolor\": \"white\", \"ticks\": \"\", \"title\": {\"standoff\": 15}, \"zerolinecolor\": \"white\", \"zerolinewidth\": 2}, \"yaxis\": {\"automargin\": true, \"gridcolor\": \"white\", \"linecolor\": \"white\", \"ticks\": \"\", \"title\": {\"standoff\": 15}, \"zerolinecolor\": \"white\", \"zerolinewidth\": 2}}}, \"title\": {\"text\": \"Brazilian incidence\"}, \"xaxis\": {\"anchor\": \"y\", \"domain\": [0.0, 1.0], \"title\": {\"text\": \"epidemiological_week\"}}, \"yaxis\": {\"anchor\": \"x\", \"domain\": [0.0, 1.0], \"title\": {\"text\": \"new_week_cases_per_100k_inhabitantants\"}}},\n",
       "                        {\"responsive\": true}\n",
       "                    ).then(function(){\n",
       "                            \n",
       "var gd = document.getElementById('1632c826-7793-47b3-a7a3-05b23736207d');\n",
       "var x = new MutationObserver(function (mutations, observer) {{\n",
       "        var display = window.getComputedStyle(gd).display;\n",
       "        if (!display || display === 'none') {{\n",
       "            console.log([gd, 'removed!']);\n",
       "            Plotly.purge(gd);\n",
       "            observer.disconnect();\n",
       "        }}\n",
       "}});\n",
       "\n",
       "// Listen for the removal of the full notebook cells\n",
       "var notebookContainer = gd.closest('#notebook-container');\n",
       "if (notebookContainer) {{\n",
       "    x.observe(notebookContainer, {childList: true});\n",
       "}}\n",
       "\n",
       "// Listen for the clearing of the current output cell\n",
       "var outputEl = gd.closest('.output');\n",
       "if (outputEl) {{\n",
       "    x.observe(outputEl, {childList: true});\n",
       "}}\n",
       "\n",
       "                        })\n",
       "                };\n",
       "                });\n",
       "            </script>\n",
       "        </div>"
      ]
     },
     "metadata": {},
     "output_type": "display_data"
    }
   ],
   "source": [
    "#Gráfico Brasil\n",
    "import plotly.express as px\n",
    "\n",
    "fig = px.line(states_incidence_brazil,x='epidemiological_week',\n",
    "              y='new_week_cases_per_100k_inhabitantants',title = 'Brazilian incidence')\n",
    "fig.show()"
   ]
  },
  {
   "cell_type": "code",
   "execution_count": 31,
   "metadata": {},
   "outputs": [],
   "source": [
    "#Agrupa os dados por regiões e por semana epidemiológica\n",
    "states_incidence_grouped = states_incidence.groupby(['region','epidemiological_week']).sum().reset_index()\n"
   ]
  },
  {
   "cell_type": "code",
   "execution_count": 32,
   "metadata": {},
   "outputs": [
    {
     "data": {
      "application/vnd.plotly.v1+json": {
       "config": {
        "plotlyServerURL": "https://plot.ly"
       },
       "data": [
        {
         "hovertemplate": "region=centro-oeste<br>epidemiological_week=%{x}<br>new_week_cases_per_100k_inhabitantants=%{y}<extra></extra>",
         "legendgroup": "centro-oeste",
         "line": {
          "color": "#636efa",
          "dash": "solid"
         },
         "mode": "lines",
         "name": "centro-oeste",
         "orientation": "v",
         "showlegend": true,
         "type": "scatter",
         "x": [
          10,
          11,
          12,
          13,
          14,
          15,
          16,
          17,
          18,
          19,
          20,
          21,
          22,
          23,
          24,
          25,
          26,
          27,
          28,
          29,
          30,
          31
         ],
         "xaxis": "x",
         "y": [
          0.03275953908638887,
          0.35671672839415,
          4.013429339422394,
          6.316907289177421,
          9.574370600971847,
          9.027370883069741,
          12.647063706055953,
          13.257099837560673,
          27.858475401196287,
          42.878592875430265,
          75.26236520327596,
          106.86810617938187,
          174.41726213332993,
          305.4304686198089,
          327.966433066647,
          606.3777677134675,
          654.5466098155209,
          786.4430385495676,
          866.1162421059112,
          715.438889416552,
          1113.9499876272998,
          1090.7258794781576
         ],
         "yaxis": "y"
        },
        {
         "hovertemplate": "region=nordeste<br>epidemiological_week=%{x}<br>new_week_cases_per_100k_inhabitantants=%{y}<extra></extra>",
         "legendgroup": "nordeste",
         "line": {
          "color": "#EF553B",
          "dash": "solid"
         },
         "mode": "lines",
         "name": "nordeste",
         "orientation": "v",
         "showlegend": true,
         "type": "scatter",
         "x": [
          10,
          11,
          12,
          13,
          14,
          15,
          16,
          17,
          18,
          19,
          20,
          21,
          22,
          23,
          24,
          25,
          26,
          27,
          28,
          29,
          30,
          31
         ],
         "xaxis": "x",
         "y": [
          0.013395466734178857,
          0.20753358027008728,
          2.3806171260928437,
          6.385274701983633,
          14.260471991055969,
          28.621297591391063,
          62.34158659712379,
          107.1290906206846,
          190.54875476902336,
          311.92667779288587,
          455.31130800293886,
          675.183994961712,
          865.5190900695566,
          1048.0724998296155,
          1163.6526160102067,
          1395.1811213529563,
          1339.8085973098016,
          1664.4924778961724,
          1474.4381120098387,
          1338.1052961835903,
          1594.438752278254,
          1575.876886026342
         ],
         "yaxis": "y"
        },
        {
         "hovertemplate": "region=norte<br>epidemiological_week=%{x}<br>new_week_cases_per_100k_inhabitantants=%{y}<extra></extra>",
         "legendgroup": "norte",
         "line": {
          "color": "#00cc96",
          "dash": "solid"
         },
         "mode": "lines",
         "name": "norte",
         "orientation": "v",
         "showlegend": true,
         "type": "scatter",
         "x": [
          11,
          12,
          13,
          14,
          15,
          16,
          17,
          18,
          19,
          20,
          21,
          22,
          23,
          24,
          25,
          26,
          27,
          28,
          29,
          30,
          31
         ],
         "xaxis": "x",
         "y": [
          0.04753174844033653,
          2.19235221153442,
          7.2992258154977625,
          15.57611575928329,
          48.968276886826445,
          85.03971627147291,
          141.57696952764599,
          219.91788008743188,
          586.085556610739,
          626.9648243066421,
          1029.2461836911548,
          1460.9247037890552,
          1538.3423197201514,
          1492.044403920135,
          1613.8218925097312,
          2623.1521964738477,
          1751.6924546338894,
          1556.6185748025437,
          1527.6557356180783,
          1905.7437222651288,
          1572.279696988679
         ],
         "yaxis": "y"
        },
        {
         "hovertemplate": "region=sudeste<br>epidemiological_week=%{x}<br>new_week_cases_per_100k_inhabitantants=%{y}<extra></extra>",
         "legendgroup": "sudeste",
         "line": {
          "color": "#ab63fa",
          "dash": "solid"
         },
         "mode": "lines",
         "name": "sudeste",
         "orientation": "v",
         "showlegend": true,
         "type": "scatter",
         "x": [
          9,
          10,
          11,
          12,
          13,
          14,
          15,
          16,
          17,
          18,
          19,
          20,
          21,
          22,
          23,
          24,
          25,
          26,
          27,
          28,
          29,
          30,
          31
         ],
         "xaxis": "x",
         "y": [
          0.0043206498550553,
          0.05988619053355347,
          0.27979876707606083,
          2.0947831512542017,
          6.275506202369982,
          14.212645829754502,
          23.219195835374457,
          42.129503502941375,
          43.313566507974464,
          82.36186173923144,
          102.70227697090208,
          123.19559348450458,
          206.84271075220482,
          262.4782556034796,
          302.50671580393526,
          352.59108222554346,
          422.7438593711078,
          430.53508713113746,
          513.6727975494497,
          489.9922414237164,
          400.03001758403263,
          516.3932963352045,
          491.2110198001357
         ],
         "yaxis": "y"
        },
        {
         "hovertemplate": "region=sul<br>epidemiological_week=%{x}<br>new_week_cases_per_100k_inhabitantants=%{y}<extra></extra>",
         "legendgroup": "sul",
         "line": {
          "color": "#FFA15A",
          "dash": "solid"
         },
         "mode": "lines",
         "name": "sul",
         "orientation": "v",
         "showlegend": true,
         "type": "scatter",
         "x": [
          11,
          12,
          13,
          14,
          15,
          16,
          17,
          18,
          19,
          20,
          21,
          22,
          23,
          24,
          25,
          26,
          27,
          28,
          29,
          30,
          31
         ],
         "xaxis": "x",
         "y": [
          0.15605650316699227,
          1.6072913744375832,
          3.7141277212859602,
          6.572325687386533,
          9.733678553547708,
          7.471938786260682,
          8.009480495748782,
          22.778438387764602,
          24.41179701113675,
          32.46289050642885,
          56.97394636880256,
          67.4800019115186,
          77.71977058103307,
          73.49858230495025,
          130.84713059000626,
          195.77980904763533,
          263.2976215254804,
          290.15794597632896,
          326.75221585636234,
          416.06152296620536,
          476.4774123431539
         ],
         "yaxis": "y"
        }
       ],
       "layout": {
        "legend": {
         "title": {
          "text": "region"
         },
         "tracegroupgap": 0
        },
        "template": {
         "data": {
          "bar": [
           {
            "error_x": {
             "color": "#2a3f5f"
            },
            "error_y": {
             "color": "#2a3f5f"
            },
            "marker": {
             "line": {
              "color": "#E5ECF6",
              "width": 0.5
             }
            },
            "type": "bar"
           }
          ],
          "barpolar": [
           {
            "marker": {
             "line": {
              "color": "#E5ECF6",
              "width": 0.5
             }
            },
            "type": "barpolar"
           }
          ],
          "carpet": [
           {
            "aaxis": {
             "endlinecolor": "#2a3f5f",
             "gridcolor": "white",
             "linecolor": "white",
             "minorgridcolor": "white",
             "startlinecolor": "#2a3f5f"
            },
            "baxis": {
             "endlinecolor": "#2a3f5f",
             "gridcolor": "white",
             "linecolor": "white",
             "minorgridcolor": "white",
             "startlinecolor": "#2a3f5f"
            },
            "type": "carpet"
           }
          ],
          "choropleth": [
           {
            "colorbar": {
             "outlinewidth": 0,
             "ticks": ""
            },
            "type": "choropleth"
           }
          ],
          "contour": [
           {
            "colorbar": {
             "outlinewidth": 0,
             "ticks": ""
            },
            "colorscale": [
             [
              0,
              "#0d0887"
             ],
             [
              0.1111111111111111,
              "#46039f"
             ],
             [
              0.2222222222222222,
              "#7201a8"
             ],
             [
              0.3333333333333333,
              "#9c179e"
             ],
             [
              0.4444444444444444,
              "#bd3786"
             ],
             [
              0.5555555555555556,
              "#d8576b"
             ],
             [
              0.6666666666666666,
              "#ed7953"
             ],
             [
              0.7777777777777778,
              "#fb9f3a"
             ],
             [
              0.8888888888888888,
              "#fdca26"
             ],
             [
              1,
              "#f0f921"
             ]
            ],
            "type": "contour"
           }
          ],
          "contourcarpet": [
           {
            "colorbar": {
             "outlinewidth": 0,
             "ticks": ""
            },
            "type": "contourcarpet"
           }
          ],
          "heatmap": [
           {
            "colorbar": {
             "outlinewidth": 0,
             "ticks": ""
            },
            "colorscale": [
             [
              0,
              "#0d0887"
             ],
             [
              0.1111111111111111,
              "#46039f"
             ],
             [
              0.2222222222222222,
              "#7201a8"
             ],
             [
              0.3333333333333333,
              "#9c179e"
             ],
             [
              0.4444444444444444,
              "#bd3786"
             ],
             [
              0.5555555555555556,
              "#d8576b"
             ],
             [
              0.6666666666666666,
              "#ed7953"
             ],
             [
              0.7777777777777778,
              "#fb9f3a"
             ],
             [
              0.8888888888888888,
              "#fdca26"
             ],
             [
              1,
              "#f0f921"
             ]
            ],
            "type": "heatmap"
           }
          ],
          "heatmapgl": [
           {
            "colorbar": {
             "outlinewidth": 0,
             "ticks": ""
            },
            "colorscale": [
             [
              0,
              "#0d0887"
             ],
             [
              0.1111111111111111,
              "#46039f"
             ],
             [
              0.2222222222222222,
              "#7201a8"
             ],
             [
              0.3333333333333333,
              "#9c179e"
             ],
             [
              0.4444444444444444,
              "#bd3786"
             ],
             [
              0.5555555555555556,
              "#d8576b"
             ],
             [
              0.6666666666666666,
              "#ed7953"
             ],
             [
              0.7777777777777778,
              "#fb9f3a"
             ],
             [
              0.8888888888888888,
              "#fdca26"
             ],
             [
              1,
              "#f0f921"
             ]
            ],
            "type": "heatmapgl"
           }
          ],
          "histogram": [
           {
            "marker": {
             "colorbar": {
              "outlinewidth": 0,
              "ticks": ""
             }
            },
            "type": "histogram"
           }
          ],
          "histogram2d": [
           {
            "colorbar": {
             "outlinewidth": 0,
             "ticks": ""
            },
            "colorscale": [
             [
              0,
              "#0d0887"
             ],
             [
              0.1111111111111111,
              "#46039f"
             ],
             [
              0.2222222222222222,
              "#7201a8"
             ],
             [
              0.3333333333333333,
              "#9c179e"
             ],
             [
              0.4444444444444444,
              "#bd3786"
             ],
             [
              0.5555555555555556,
              "#d8576b"
             ],
             [
              0.6666666666666666,
              "#ed7953"
             ],
             [
              0.7777777777777778,
              "#fb9f3a"
             ],
             [
              0.8888888888888888,
              "#fdca26"
             ],
             [
              1,
              "#f0f921"
             ]
            ],
            "type": "histogram2d"
           }
          ],
          "histogram2dcontour": [
           {
            "colorbar": {
             "outlinewidth": 0,
             "ticks": ""
            },
            "colorscale": [
             [
              0,
              "#0d0887"
             ],
             [
              0.1111111111111111,
              "#46039f"
             ],
             [
              0.2222222222222222,
              "#7201a8"
             ],
             [
              0.3333333333333333,
              "#9c179e"
             ],
             [
              0.4444444444444444,
              "#bd3786"
             ],
             [
              0.5555555555555556,
              "#d8576b"
             ],
             [
              0.6666666666666666,
              "#ed7953"
             ],
             [
              0.7777777777777778,
              "#fb9f3a"
             ],
             [
              0.8888888888888888,
              "#fdca26"
             ],
             [
              1,
              "#f0f921"
             ]
            ],
            "type": "histogram2dcontour"
           }
          ],
          "mesh3d": [
           {
            "colorbar": {
             "outlinewidth": 0,
             "ticks": ""
            },
            "type": "mesh3d"
           }
          ],
          "parcoords": [
           {
            "line": {
             "colorbar": {
              "outlinewidth": 0,
              "ticks": ""
             }
            },
            "type": "parcoords"
           }
          ],
          "pie": [
           {
            "automargin": true,
            "type": "pie"
           }
          ],
          "scatter": [
           {
            "marker": {
             "colorbar": {
              "outlinewidth": 0,
              "ticks": ""
             }
            },
            "type": "scatter"
           }
          ],
          "scatter3d": [
           {
            "line": {
             "colorbar": {
              "outlinewidth": 0,
              "ticks": ""
             }
            },
            "marker": {
             "colorbar": {
              "outlinewidth": 0,
              "ticks": ""
             }
            },
            "type": "scatter3d"
           }
          ],
          "scattercarpet": [
           {
            "marker": {
             "colorbar": {
              "outlinewidth": 0,
              "ticks": ""
             }
            },
            "type": "scattercarpet"
           }
          ],
          "scattergeo": [
           {
            "marker": {
             "colorbar": {
              "outlinewidth": 0,
              "ticks": ""
             }
            },
            "type": "scattergeo"
           }
          ],
          "scattergl": [
           {
            "marker": {
             "colorbar": {
              "outlinewidth": 0,
              "ticks": ""
             }
            },
            "type": "scattergl"
           }
          ],
          "scattermapbox": [
           {
            "marker": {
             "colorbar": {
              "outlinewidth": 0,
              "ticks": ""
             }
            },
            "type": "scattermapbox"
           }
          ],
          "scatterpolar": [
           {
            "marker": {
             "colorbar": {
              "outlinewidth": 0,
              "ticks": ""
             }
            },
            "type": "scatterpolar"
           }
          ],
          "scatterpolargl": [
           {
            "marker": {
             "colorbar": {
              "outlinewidth": 0,
              "ticks": ""
             }
            },
            "type": "scatterpolargl"
           }
          ],
          "scatterternary": [
           {
            "marker": {
             "colorbar": {
              "outlinewidth": 0,
              "ticks": ""
             }
            },
            "type": "scatterternary"
           }
          ],
          "surface": [
           {
            "colorbar": {
             "outlinewidth": 0,
             "ticks": ""
            },
            "colorscale": [
             [
              0,
              "#0d0887"
             ],
             [
              0.1111111111111111,
              "#46039f"
             ],
             [
              0.2222222222222222,
              "#7201a8"
             ],
             [
              0.3333333333333333,
              "#9c179e"
             ],
             [
              0.4444444444444444,
              "#bd3786"
             ],
             [
              0.5555555555555556,
              "#d8576b"
             ],
             [
              0.6666666666666666,
              "#ed7953"
             ],
             [
              0.7777777777777778,
              "#fb9f3a"
             ],
             [
              0.8888888888888888,
              "#fdca26"
             ],
             [
              1,
              "#f0f921"
             ]
            ],
            "type": "surface"
           }
          ],
          "table": [
           {
            "cells": {
             "fill": {
              "color": "#EBF0F8"
             },
             "line": {
              "color": "white"
             }
            },
            "header": {
             "fill": {
              "color": "#C8D4E3"
             },
             "line": {
              "color": "white"
             }
            },
            "type": "table"
           }
          ]
         },
         "layout": {
          "annotationdefaults": {
           "arrowcolor": "#2a3f5f",
           "arrowhead": 0,
           "arrowwidth": 1
          },
          "coloraxis": {
           "colorbar": {
            "outlinewidth": 0,
            "ticks": ""
           }
          },
          "colorscale": {
           "diverging": [
            [
             0,
             "#8e0152"
            ],
            [
             0.1,
             "#c51b7d"
            ],
            [
             0.2,
             "#de77ae"
            ],
            [
             0.3,
             "#f1b6da"
            ],
            [
             0.4,
             "#fde0ef"
            ],
            [
             0.5,
             "#f7f7f7"
            ],
            [
             0.6,
             "#e6f5d0"
            ],
            [
             0.7,
             "#b8e186"
            ],
            [
             0.8,
             "#7fbc41"
            ],
            [
             0.9,
             "#4d9221"
            ],
            [
             1,
             "#276419"
            ]
           ],
           "sequential": [
            [
             0,
             "#0d0887"
            ],
            [
             0.1111111111111111,
             "#46039f"
            ],
            [
             0.2222222222222222,
             "#7201a8"
            ],
            [
             0.3333333333333333,
             "#9c179e"
            ],
            [
             0.4444444444444444,
             "#bd3786"
            ],
            [
             0.5555555555555556,
             "#d8576b"
            ],
            [
             0.6666666666666666,
             "#ed7953"
            ],
            [
             0.7777777777777778,
             "#fb9f3a"
            ],
            [
             0.8888888888888888,
             "#fdca26"
            ],
            [
             1,
             "#f0f921"
            ]
           ],
           "sequentialminus": [
            [
             0,
             "#0d0887"
            ],
            [
             0.1111111111111111,
             "#46039f"
            ],
            [
             0.2222222222222222,
             "#7201a8"
            ],
            [
             0.3333333333333333,
             "#9c179e"
            ],
            [
             0.4444444444444444,
             "#bd3786"
            ],
            [
             0.5555555555555556,
             "#d8576b"
            ],
            [
             0.6666666666666666,
             "#ed7953"
            ],
            [
             0.7777777777777778,
             "#fb9f3a"
            ],
            [
             0.8888888888888888,
             "#fdca26"
            ],
            [
             1,
             "#f0f921"
            ]
           ]
          },
          "colorway": [
           "#636efa",
           "#EF553B",
           "#00cc96",
           "#ab63fa",
           "#FFA15A",
           "#19d3f3",
           "#FF6692",
           "#B6E880",
           "#FF97FF",
           "#FECB52"
          ],
          "font": {
           "color": "#2a3f5f"
          },
          "geo": {
           "bgcolor": "white",
           "lakecolor": "white",
           "landcolor": "#E5ECF6",
           "showlakes": true,
           "showland": true,
           "subunitcolor": "white"
          },
          "hoverlabel": {
           "align": "left"
          },
          "hovermode": "closest",
          "mapbox": {
           "style": "light"
          },
          "paper_bgcolor": "white",
          "plot_bgcolor": "#E5ECF6",
          "polar": {
           "angularaxis": {
            "gridcolor": "white",
            "linecolor": "white",
            "ticks": ""
           },
           "bgcolor": "#E5ECF6",
           "radialaxis": {
            "gridcolor": "white",
            "linecolor": "white",
            "ticks": ""
           }
          },
          "scene": {
           "xaxis": {
            "backgroundcolor": "#E5ECF6",
            "gridcolor": "white",
            "gridwidth": 2,
            "linecolor": "white",
            "showbackground": true,
            "ticks": "",
            "zerolinecolor": "white"
           },
           "yaxis": {
            "backgroundcolor": "#E5ECF6",
            "gridcolor": "white",
            "gridwidth": 2,
            "linecolor": "white",
            "showbackground": true,
            "ticks": "",
            "zerolinecolor": "white"
           },
           "zaxis": {
            "backgroundcolor": "#E5ECF6",
            "gridcolor": "white",
            "gridwidth": 2,
            "linecolor": "white",
            "showbackground": true,
            "ticks": "",
            "zerolinecolor": "white"
           }
          },
          "shapedefaults": {
           "line": {
            "color": "#2a3f5f"
           }
          },
          "ternary": {
           "aaxis": {
            "gridcolor": "white",
            "linecolor": "white",
            "ticks": ""
           },
           "baxis": {
            "gridcolor": "white",
            "linecolor": "white",
            "ticks": ""
           },
           "bgcolor": "#E5ECF6",
           "caxis": {
            "gridcolor": "white",
            "linecolor": "white",
            "ticks": ""
           }
          },
          "title": {
           "x": 0.05
          },
          "xaxis": {
           "automargin": true,
           "gridcolor": "white",
           "linecolor": "white",
           "ticks": "",
           "title": {
            "standoff": 15
           },
           "zerolinecolor": "white",
           "zerolinewidth": 2
          },
          "yaxis": {
           "automargin": true,
           "gridcolor": "white",
           "linecolor": "white",
           "ticks": "",
           "title": {
            "standoff": 15
           },
           "zerolinecolor": "white",
           "zerolinewidth": 2
          }
         }
        },
        "title": {
         "text": "Brazilian incidence per region"
        },
        "xaxis": {
         "anchor": "y",
         "domain": [
          0,
          1
         ],
         "title": {
          "text": "epidemiological_week"
         }
        },
        "yaxis": {
         "anchor": "x",
         "domain": [
          0,
          1
         ],
         "title": {
          "text": "new_week_cases_per_100k_inhabitantants"
         }
        }
       }
      },
      "text/html": [
       "<div>\n",
       "        \n",
       "        \n",
       "            <div id=\"8228ec28-7f42-4531-87a8-51946d50cb58\" class=\"plotly-graph-div\" style=\"height:525px; width:100%;\"></div>\n",
       "            <script type=\"text/javascript\">\n",
       "                require([\"plotly\"], function(Plotly) {\n",
       "                    window.PLOTLYENV=window.PLOTLYENV || {};\n",
       "                    \n",
       "                if (document.getElementById(\"8228ec28-7f42-4531-87a8-51946d50cb58\")) {\n",
       "                    Plotly.newPlot(\n",
       "                        '8228ec28-7f42-4531-87a8-51946d50cb58',\n",
       "                        [{\"hovertemplate\": \"region=centro-oeste<br>epidemiological_week=%{x}<br>new_week_cases_per_100k_inhabitantants=%{y}<extra></extra>\", \"legendgroup\": \"centro-oeste\", \"line\": {\"color\": \"#636efa\", \"dash\": \"solid\"}, \"mode\": \"lines\", \"name\": \"centro-oeste\", \"orientation\": \"v\", \"showlegend\": true, \"type\": \"scatter\", \"x\": [10, 11, 12, 13, 14, 15, 16, 17, 18, 19, 20, 21, 22, 23, 24, 25, 26, 27, 28, 29, 30, 31], \"xaxis\": \"x\", \"y\": [0.03275953908638887, 0.35671672839415, 4.013429339422394, 6.316907289177421, 9.574370600971847, 9.027370883069741, 12.647063706055953, 13.257099837560673, 27.858475401196287, 42.878592875430265, 75.26236520327596, 106.86810617938187, 174.41726213332993, 305.4304686198089, 327.966433066647, 606.3777677134675, 654.5466098155209, 786.4430385495676, 866.1162421059112, 715.438889416552, 1113.9499876272998, 1090.7258794781576], \"yaxis\": \"y\"}, {\"hovertemplate\": \"region=nordeste<br>epidemiological_week=%{x}<br>new_week_cases_per_100k_inhabitantants=%{y}<extra></extra>\", \"legendgroup\": \"nordeste\", \"line\": {\"color\": \"#EF553B\", \"dash\": \"solid\"}, \"mode\": \"lines\", \"name\": \"nordeste\", \"orientation\": \"v\", \"showlegend\": true, \"type\": \"scatter\", \"x\": [10, 11, 12, 13, 14, 15, 16, 17, 18, 19, 20, 21, 22, 23, 24, 25, 26, 27, 28, 29, 30, 31], \"xaxis\": \"x\", \"y\": [0.013395466734178857, 0.20753358027008728, 2.3806171260928437, 6.385274701983633, 14.260471991055969, 28.621297591391063, 62.34158659712379, 107.1290906206846, 190.54875476902336, 311.92667779288587, 455.31130800293886, 675.183994961712, 865.5190900695566, 1048.0724998296155, 1163.6526160102067, 1395.1811213529563, 1339.8085973098016, 1664.4924778961724, 1474.4381120098387, 1338.1052961835903, 1594.438752278254, 1575.876886026342], \"yaxis\": \"y\"}, {\"hovertemplate\": \"region=norte<br>epidemiological_week=%{x}<br>new_week_cases_per_100k_inhabitantants=%{y}<extra></extra>\", \"legendgroup\": \"norte\", \"line\": {\"color\": \"#00cc96\", \"dash\": \"solid\"}, \"mode\": \"lines\", \"name\": \"norte\", \"orientation\": \"v\", \"showlegend\": true, \"type\": \"scatter\", \"x\": [11, 12, 13, 14, 15, 16, 17, 18, 19, 20, 21, 22, 23, 24, 25, 26, 27, 28, 29, 30, 31], \"xaxis\": \"x\", \"y\": [0.04753174844033653, 2.19235221153442, 7.2992258154977625, 15.57611575928329, 48.968276886826445, 85.03971627147291, 141.57696952764599, 219.91788008743188, 586.085556610739, 626.9648243066421, 1029.2461836911548, 1460.9247037890552, 1538.3423197201514, 1492.044403920135, 1613.8218925097312, 2623.1521964738477, 1751.6924546338894, 1556.6185748025437, 1527.6557356180783, 1905.7437222651288, 1572.279696988679], \"yaxis\": \"y\"}, {\"hovertemplate\": \"region=sudeste<br>epidemiological_week=%{x}<br>new_week_cases_per_100k_inhabitantants=%{y}<extra></extra>\", \"legendgroup\": \"sudeste\", \"line\": {\"color\": \"#ab63fa\", \"dash\": \"solid\"}, \"mode\": \"lines\", \"name\": \"sudeste\", \"orientation\": \"v\", \"showlegend\": true, \"type\": \"scatter\", \"x\": [9, 10, 11, 12, 13, 14, 15, 16, 17, 18, 19, 20, 21, 22, 23, 24, 25, 26, 27, 28, 29, 30, 31], \"xaxis\": \"x\", \"y\": [0.0043206498550553, 0.05988619053355347, 0.27979876707606083, 2.0947831512542017, 6.275506202369982, 14.212645829754502, 23.219195835374457, 42.129503502941375, 43.313566507974464, 82.36186173923144, 102.70227697090208, 123.19559348450458, 206.84271075220482, 262.4782556034796, 302.50671580393526, 352.59108222554346, 422.7438593711078, 430.53508713113746, 513.6727975494497, 489.9922414237164, 400.03001758403263, 516.3932963352045, 491.2110198001357], \"yaxis\": \"y\"}, {\"hovertemplate\": \"region=sul<br>epidemiological_week=%{x}<br>new_week_cases_per_100k_inhabitantants=%{y}<extra></extra>\", \"legendgroup\": \"sul\", \"line\": {\"color\": \"#FFA15A\", \"dash\": \"solid\"}, \"mode\": \"lines\", \"name\": \"sul\", \"orientation\": \"v\", \"showlegend\": true, \"type\": \"scatter\", \"x\": [11, 12, 13, 14, 15, 16, 17, 18, 19, 20, 21, 22, 23, 24, 25, 26, 27, 28, 29, 30, 31], \"xaxis\": \"x\", \"y\": [0.15605650316699227, 1.6072913744375832, 3.7141277212859602, 6.572325687386533, 9.733678553547708, 7.471938786260682, 8.009480495748782, 22.778438387764602, 24.41179701113675, 32.46289050642885, 56.97394636880256, 67.4800019115186, 77.71977058103307, 73.49858230495025, 130.84713059000626, 195.77980904763533, 263.2976215254804, 290.15794597632896, 326.75221585636234, 416.06152296620536, 476.4774123431539], \"yaxis\": \"y\"}],\n",
       "                        {\"legend\": {\"title\": {\"text\": \"region\"}, \"tracegroupgap\": 0}, \"template\": {\"data\": {\"bar\": [{\"error_x\": {\"color\": \"#2a3f5f\"}, \"error_y\": {\"color\": \"#2a3f5f\"}, \"marker\": {\"line\": {\"color\": \"#E5ECF6\", \"width\": 0.5}}, \"type\": \"bar\"}], \"barpolar\": [{\"marker\": {\"line\": {\"color\": \"#E5ECF6\", \"width\": 0.5}}, \"type\": \"barpolar\"}], \"carpet\": [{\"aaxis\": {\"endlinecolor\": \"#2a3f5f\", \"gridcolor\": \"white\", \"linecolor\": \"white\", \"minorgridcolor\": \"white\", \"startlinecolor\": \"#2a3f5f\"}, \"baxis\": {\"endlinecolor\": \"#2a3f5f\", \"gridcolor\": \"white\", \"linecolor\": \"white\", \"minorgridcolor\": \"white\", \"startlinecolor\": \"#2a3f5f\"}, \"type\": \"carpet\"}], \"choropleth\": [{\"colorbar\": {\"outlinewidth\": 0, \"ticks\": \"\"}, \"type\": \"choropleth\"}], \"contour\": [{\"colorbar\": {\"outlinewidth\": 0, \"ticks\": \"\"}, \"colorscale\": [[0.0, \"#0d0887\"], [0.1111111111111111, \"#46039f\"], [0.2222222222222222, \"#7201a8\"], [0.3333333333333333, \"#9c179e\"], [0.4444444444444444, \"#bd3786\"], [0.5555555555555556, \"#d8576b\"], [0.6666666666666666, \"#ed7953\"], [0.7777777777777778, \"#fb9f3a\"], [0.8888888888888888, \"#fdca26\"], [1.0, \"#f0f921\"]], \"type\": \"contour\"}], \"contourcarpet\": [{\"colorbar\": {\"outlinewidth\": 0, \"ticks\": \"\"}, \"type\": \"contourcarpet\"}], \"heatmap\": [{\"colorbar\": {\"outlinewidth\": 0, \"ticks\": \"\"}, \"colorscale\": [[0.0, \"#0d0887\"], [0.1111111111111111, \"#46039f\"], [0.2222222222222222, \"#7201a8\"], [0.3333333333333333, \"#9c179e\"], [0.4444444444444444, \"#bd3786\"], [0.5555555555555556, \"#d8576b\"], [0.6666666666666666, \"#ed7953\"], [0.7777777777777778, \"#fb9f3a\"], [0.8888888888888888, \"#fdca26\"], [1.0, \"#f0f921\"]], \"type\": \"heatmap\"}], \"heatmapgl\": [{\"colorbar\": {\"outlinewidth\": 0, \"ticks\": \"\"}, \"colorscale\": [[0.0, \"#0d0887\"], [0.1111111111111111, \"#46039f\"], [0.2222222222222222, \"#7201a8\"], [0.3333333333333333, \"#9c179e\"], [0.4444444444444444, \"#bd3786\"], [0.5555555555555556, \"#d8576b\"], [0.6666666666666666, \"#ed7953\"], [0.7777777777777778, \"#fb9f3a\"], [0.8888888888888888, \"#fdca26\"], [1.0, \"#f0f921\"]], \"type\": \"heatmapgl\"}], \"histogram\": [{\"marker\": {\"colorbar\": {\"outlinewidth\": 0, \"ticks\": \"\"}}, \"type\": \"histogram\"}], \"histogram2d\": [{\"colorbar\": {\"outlinewidth\": 0, \"ticks\": \"\"}, \"colorscale\": [[0.0, \"#0d0887\"], [0.1111111111111111, \"#46039f\"], [0.2222222222222222, \"#7201a8\"], [0.3333333333333333, \"#9c179e\"], [0.4444444444444444, \"#bd3786\"], [0.5555555555555556, \"#d8576b\"], [0.6666666666666666, \"#ed7953\"], [0.7777777777777778, \"#fb9f3a\"], [0.8888888888888888, \"#fdca26\"], [1.0, \"#f0f921\"]], \"type\": \"histogram2d\"}], \"histogram2dcontour\": [{\"colorbar\": {\"outlinewidth\": 0, \"ticks\": \"\"}, \"colorscale\": [[0.0, \"#0d0887\"], [0.1111111111111111, \"#46039f\"], [0.2222222222222222, \"#7201a8\"], [0.3333333333333333, \"#9c179e\"], [0.4444444444444444, \"#bd3786\"], [0.5555555555555556, \"#d8576b\"], [0.6666666666666666, \"#ed7953\"], [0.7777777777777778, \"#fb9f3a\"], [0.8888888888888888, \"#fdca26\"], [1.0, \"#f0f921\"]], \"type\": \"histogram2dcontour\"}], \"mesh3d\": [{\"colorbar\": {\"outlinewidth\": 0, \"ticks\": \"\"}, \"type\": \"mesh3d\"}], \"parcoords\": [{\"line\": {\"colorbar\": {\"outlinewidth\": 0, \"ticks\": \"\"}}, \"type\": \"parcoords\"}], \"pie\": [{\"automargin\": true, \"type\": \"pie\"}], \"scatter\": [{\"marker\": {\"colorbar\": {\"outlinewidth\": 0, \"ticks\": \"\"}}, \"type\": \"scatter\"}], \"scatter3d\": [{\"line\": {\"colorbar\": {\"outlinewidth\": 0, \"ticks\": \"\"}}, \"marker\": {\"colorbar\": {\"outlinewidth\": 0, \"ticks\": \"\"}}, \"type\": \"scatter3d\"}], \"scattercarpet\": [{\"marker\": {\"colorbar\": {\"outlinewidth\": 0, \"ticks\": \"\"}}, \"type\": \"scattercarpet\"}], \"scattergeo\": [{\"marker\": {\"colorbar\": {\"outlinewidth\": 0, \"ticks\": \"\"}}, \"type\": \"scattergeo\"}], \"scattergl\": [{\"marker\": {\"colorbar\": {\"outlinewidth\": 0, \"ticks\": \"\"}}, \"type\": \"scattergl\"}], \"scattermapbox\": [{\"marker\": {\"colorbar\": {\"outlinewidth\": 0, \"ticks\": \"\"}}, \"type\": \"scattermapbox\"}], \"scatterpolar\": [{\"marker\": {\"colorbar\": {\"outlinewidth\": 0, \"ticks\": \"\"}}, \"type\": \"scatterpolar\"}], \"scatterpolargl\": [{\"marker\": {\"colorbar\": {\"outlinewidth\": 0, \"ticks\": \"\"}}, \"type\": \"scatterpolargl\"}], \"scatterternary\": [{\"marker\": {\"colorbar\": {\"outlinewidth\": 0, \"ticks\": \"\"}}, \"type\": \"scatterternary\"}], \"surface\": [{\"colorbar\": {\"outlinewidth\": 0, \"ticks\": \"\"}, \"colorscale\": [[0.0, \"#0d0887\"], [0.1111111111111111, \"#46039f\"], [0.2222222222222222, \"#7201a8\"], [0.3333333333333333, \"#9c179e\"], [0.4444444444444444, \"#bd3786\"], [0.5555555555555556, \"#d8576b\"], [0.6666666666666666, \"#ed7953\"], [0.7777777777777778, \"#fb9f3a\"], [0.8888888888888888, \"#fdca26\"], [1.0, \"#f0f921\"]], \"type\": \"surface\"}], \"table\": [{\"cells\": {\"fill\": {\"color\": \"#EBF0F8\"}, \"line\": {\"color\": \"white\"}}, \"header\": {\"fill\": {\"color\": \"#C8D4E3\"}, \"line\": {\"color\": \"white\"}}, \"type\": \"table\"}]}, \"layout\": {\"annotationdefaults\": {\"arrowcolor\": \"#2a3f5f\", \"arrowhead\": 0, \"arrowwidth\": 1}, \"coloraxis\": {\"colorbar\": {\"outlinewidth\": 0, \"ticks\": \"\"}}, \"colorscale\": {\"diverging\": [[0, \"#8e0152\"], [0.1, \"#c51b7d\"], [0.2, \"#de77ae\"], [0.3, \"#f1b6da\"], [0.4, \"#fde0ef\"], [0.5, \"#f7f7f7\"], [0.6, \"#e6f5d0\"], [0.7, \"#b8e186\"], [0.8, \"#7fbc41\"], [0.9, \"#4d9221\"], [1, \"#276419\"]], \"sequential\": [[0.0, \"#0d0887\"], [0.1111111111111111, \"#46039f\"], [0.2222222222222222, \"#7201a8\"], [0.3333333333333333, \"#9c179e\"], [0.4444444444444444, \"#bd3786\"], [0.5555555555555556, \"#d8576b\"], [0.6666666666666666, \"#ed7953\"], [0.7777777777777778, \"#fb9f3a\"], [0.8888888888888888, \"#fdca26\"], [1.0, \"#f0f921\"]], \"sequentialminus\": [[0.0, \"#0d0887\"], [0.1111111111111111, \"#46039f\"], [0.2222222222222222, \"#7201a8\"], [0.3333333333333333, \"#9c179e\"], [0.4444444444444444, \"#bd3786\"], [0.5555555555555556, \"#d8576b\"], [0.6666666666666666, \"#ed7953\"], [0.7777777777777778, \"#fb9f3a\"], [0.8888888888888888, \"#fdca26\"], [1.0, \"#f0f921\"]]}, \"colorway\": [\"#636efa\", \"#EF553B\", \"#00cc96\", \"#ab63fa\", \"#FFA15A\", \"#19d3f3\", \"#FF6692\", \"#B6E880\", \"#FF97FF\", \"#FECB52\"], \"font\": {\"color\": \"#2a3f5f\"}, \"geo\": {\"bgcolor\": \"white\", \"lakecolor\": \"white\", \"landcolor\": \"#E5ECF6\", \"showlakes\": true, \"showland\": true, \"subunitcolor\": \"white\"}, \"hoverlabel\": {\"align\": \"left\"}, \"hovermode\": \"closest\", \"mapbox\": {\"style\": \"light\"}, \"paper_bgcolor\": \"white\", \"plot_bgcolor\": \"#E5ECF6\", \"polar\": {\"angularaxis\": {\"gridcolor\": \"white\", \"linecolor\": \"white\", \"ticks\": \"\"}, \"bgcolor\": \"#E5ECF6\", \"radialaxis\": {\"gridcolor\": \"white\", \"linecolor\": \"white\", \"ticks\": \"\"}}, \"scene\": {\"xaxis\": {\"backgroundcolor\": \"#E5ECF6\", \"gridcolor\": \"white\", \"gridwidth\": 2, \"linecolor\": \"white\", \"showbackground\": true, \"ticks\": \"\", \"zerolinecolor\": \"white\"}, \"yaxis\": {\"backgroundcolor\": \"#E5ECF6\", \"gridcolor\": \"white\", \"gridwidth\": 2, \"linecolor\": \"white\", \"showbackground\": true, \"ticks\": \"\", \"zerolinecolor\": \"white\"}, \"zaxis\": {\"backgroundcolor\": \"#E5ECF6\", \"gridcolor\": \"white\", \"gridwidth\": 2, \"linecolor\": \"white\", \"showbackground\": true, \"ticks\": \"\", \"zerolinecolor\": \"white\"}}, \"shapedefaults\": {\"line\": {\"color\": \"#2a3f5f\"}}, \"ternary\": {\"aaxis\": {\"gridcolor\": \"white\", \"linecolor\": \"white\", \"ticks\": \"\"}, \"baxis\": {\"gridcolor\": \"white\", \"linecolor\": \"white\", \"ticks\": \"\"}, \"bgcolor\": \"#E5ECF6\", \"caxis\": {\"gridcolor\": \"white\", \"linecolor\": \"white\", \"ticks\": \"\"}}, \"title\": {\"x\": 0.05}, \"xaxis\": {\"automargin\": true, \"gridcolor\": \"white\", \"linecolor\": \"white\", \"ticks\": \"\", \"title\": {\"standoff\": 15}, \"zerolinecolor\": \"white\", \"zerolinewidth\": 2}, \"yaxis\": {\"automargin\": true, \"gridcolor\": \"white\", \"linecolor\": \"white\", \"ticks\": \"\", \"title\": {\"standoff\": 15}, \"zerolinecolor\": \"white\", \"zerolinewidth\": 2}}}, \"title\": {\"text\": \"Brazilian incidence per region\"}, \"xaxis\": {\"anchor\": \"y\", \"domain\": [0.0, 1.0], \"title\": {\"text\": \"epidemiological_week\"}}, \"yaxis\": {\"anchor\": \"x\", \"domain\": [0.0, 1.0], \"title\": {\"text\": \"new_week_cases_per_100k_inhabitantants\"}}},\n",
       "                        {\"responsive\": true}\n",
       "                    ).then(function(){\n",
       "                            \n",
       "var gd = document.getElementById('8228ec28-7f42-4531-87a8-51946d50cb58');\n",
       "var x = new MutationObserver(function (mutations, observer) {{\n",
       "        var display = window.getComputedStyle(gd).display;\n",
       "        if (!display || display === 'none') {{\n",
       "            console.log([gd, 'removed!']);\n",
       "            Plotly.purge(gd);\n",
       "            observer.disconnect();\n",
       "        }}\n",
       "}});\n",
       "\n",
       "// Listen for the removal of the full notebook cells\n",
       "var notebookContainer = gd.closest('#notebook-container');\n",
       "if (notebookContainer) {{\n",
       "    x.observe(notebookContainer, {childList: true});\n",
       "}}\n",
       "\n",
       "// Listen for the clearing of the current output cell\n",
       "var outputEl = gd.closest('.output');\n",
       "if (outputEl) {{\n",
       "    x.observe(outputEl, {childList: true});\n",
       "}}\n",
       "\n",
       "                        })\n",
       "                };\n",
       "                });\n",
       "            </script>\n",
       "        </div>"
      ]
     },
     "metadata": {},
     "output_type": "display_data"
    }
   ],
   "source": [
    "#Gráficos por Regiões\n",
    "import plotly.express as px\n",
    "\n",
    "fig = px.line(states_incidence_grouped,x='epidemiological_week',\n",
    "              y='new_week_cases_per_100k_inhabitantants',\n",
    "              title = 'Brazilian incidence per region',color='region')\n",
    "fig.show()\n"
   ]
  },
  {
   "cell_type": "code",
   "execution_count": null,
   "metadata": {},
   "outputs": [],
   "source": []
  },
  {
   "cell_type": "code",
   "execution_count": null,
   "metadata": {},
   "outputs": [],
   "source": []
  },
  {
   "cell_type": "code",
   "execution_count": 64,
   "metadata": {},
   "outputs": [
    {
     "data": {
      "text/plain": [
       "\"'for i in range(len(pop_state)):\\n    one_state_incidence = states_incidence.loc[lambda df: df['state']== pop_state['state'][i]]\\n\\n    fig =one_state_incidence.plot(y='new_week_cases_per_100k_inhabitantants',x='week',\\n                                  ylim=(0,1000), \\n                                  figsize = (14,8),\\n                              title = (pop_state['state'][i] +' new_week_cases_per_100k_inhabitantants')).get_figure()\\n    fig.savefig(('graficos/'+pop_state['state'][i] +' new_week_cases_per_100k_inhabitantants.pdf'))\""
      ]
     },
     "execution_count": 64,
     "metadata": {},
     "output_type": "execute_result"
    }
   ],
   "source": [
    "#Gráficos por estados Retirados por não serem requisito do projeto\n",
    "''''for i in range(len(pop_state)):\n",
    "    one_state_incidence = states_incidence.loc[lambda df: df['state']== pop_state['state'][i]]\n",
    "\n",
    "    fig =one_state_incidence.plot(y='new_week_cases_per_100k_inhabitantants',x='week',\n",
    "                                  ylim=(0,1000), \n",
    "                                  figsize = (14,8),\n",
    "                              title = (pop_state['state'][i] +' new_week_cases_per_100k_inhabitantants')).get_figure()\n",
    "    fig.savefig(('graficos/'+pop_state['state'][i] +' new_week_cases_per_100k_inhabitantants.pdf'))'''"
   ]
  },
  {
   "cell_type": "code",
   "execution_count": 13,
   "metadata": {},
   "outputs": [],
   "source": [
    "#_________________________Tratamento dos casos por Cidades_________________________________________________"
   ]
  },
  {
   "cell_type": "code",
   "execution_count": 14,
   "metadata": {},
   "outputs": [],
   "source": [
    "#Abre os bancos de dados\n",
    "pop = pd.read_csv('base_csv/pop2020.csv')\n",
    "io = pd.read_csv('base_csv/caso_full.csv')"
   ]
  },
  {
   "cell_type": "code",
   "execution_count": 15,
   "metadata": {},
   "outputs": [],
   "source": [
    "#Renomeia as colunas do DF pop e cria um novo DF só com os dados de interesse\n",
    "pop.rename(columns={'Total':'total_inhabitants', 'Armenor':'city_ibge_code'}, inplace = True)\n",
    "pop_cities = pop[['city_ibge_code','total_inhabitants']].copy()\n"
   ]
  },
  {
   "cell_type": "code",
   "execution_count": 16,
   "metadata": {},
   "outputs": [],
   "source": [
    "#Filtra somente os dados do último dia das semanas epidemiológicas\n",
    "'''\n",
    "dates = pd.date_range('20200229',freq='W-SAT',periods=25)\n",
    "\n",
    "Usei para achar todos os dias e copiei a lista com os dias. Não usei direto, pois estava pegando\n",
    "os objetos e não consegui trasformar em lista, mas deixei aqui para ficar fácil de alterar as semanas. \n",
    "'''\n",
    "dates = ['2020-02-29', '2020-03-07', '2020-03-14', '2020-03-21',\n",
    "               '2020-03-28', '2020-04-04', '2020-04-11', '2020-04-18',\n",
    "               '2020-04-25', '2020-05-02', '2020-05-09', '2020-05-16',\n",
    "               '2020-05-23', '2020-05-30', '2020-06-06', '2020-06-13',\n",
    "               '2020-06-20', '2020-06-27', '2020-07-04', '2020-07-11',\n",
    "               '2020-07-18', '2020-07-25', '2020-08-01', '2020-08-08',\n",
    "               '2020-08-15']\n",
    "\n",
    "datesDF = pd.DataFrame(dates,columns=['date'])\n",
    "\n",
    "select_for_dates = pd.merge(io,datesDF, how = 'inner')\n"
   ]
  },
  {
   "cell_type": "code",
   "execution_count": 17,
   "metadata": {},
   "outputs": [],
   "source": [
    "#Coloca o total da população dos estados na planilha\n",
    "citiesDF = pd.merge(select_for_dates,pop_cities, how = 'inner')\n"
   ]
  },
  {
   "cell_type": "code",
   "execution_count": 18,
   "metadata": {},
   "outputs": [],
   "source": [
    "#Encontrar o valor dos novos casoso por semana\n",
    "citiesDF = citiesDF.sort_values(by=['city_ibge_code','date']).copy()\n",
    "\n",
    "last_city = 0\n",
    "last_num = 0 \n",
    "\n",
    "\n",
    "    \n",
    "def get_num(x):\n",
    "    global last_num, last_city\n",
    "    if last_city == x['city_ibge_code']:\n",
    "        current = x['last_available_confirmed']-last_num\n",
    "        last_num = x['last_available_confirmed']\n",
    "        return current\n",
    "    else:\n",
    "        last_city = x['city_ibge_code']\n",
    "        last_num = 0\n",
    "        return get_num(x)\n",
    "\n",
    "\n",
    "\n",
    "citiesDF['new_week_cases'] = citiesDF.apply(get_num , axis=1)\n",
    "\n"
   ]
  },
  {
   "cell_type": "code",
   "execution_count": 19,
   "metadata": {},
   "outputs": [],
   "source": [
    "#Passa os novos casoso por semana para casos por 100k habitantes\n",
    "citiesDF['new_week_cases_per_100k_inhabitantants'] = citiesDF.apply(lambda x:x['new_week_cases']*100000/x['total_inhabitants'] , axis=1)\n"
   ]
  },
  {
   "cell_type": "code",
   "execution_count": 20,
   "metadata": {},
   "outputs": [],
   "source": [
    "#Filtra somente as colunas de interesse\n",
    "cities_incidence = citiesDF[['city','state','city_ibge_code','date','total_inhabitants','new_week_cases','new_week_cases_per_100k_inhabitantants']].copy()\n",
    "cities_incidence.rename(columns={'date':'week'}, inplace = True)"
   ]
  },
  {
   "cell_type": "code",
   "execution_count": 21,
   "metadata": {},
   "outputs": [],
   "source": [
    "#Inserindo coordenadas geogŕaficas nos municípios\n",
    "municipios = pd.read_csv('base_csv/municipios.csv')\n",
    "municipios = municipios[['codigo_ibge','latitude','longitude']].copy()\n",
    "\n",
    "cities_incidence = pd.merge(cities_incidence,municipios,\n",
    "                          how = 'inner', left_on=['city_ibge_code'],\n",
    "                          right_on=['codigo_ibge'])\n",
    "cities_incidence = cities_incidence.drop(columns=['codigo_ibge'])\n",
    "\n"
   ]
  },
  {
   "cell_type": "code",
   "execution_count": 22,
   "metadata": {},
   "outputs": [
    {
     "data": {
      "text/html": [
       "<div>\n",
       "<style scoped>\n",
       "    .dataframe tbody tr th:only-of-type {\n",
       "        vertical-align: middle;\n",
       "    }\n",
       "\n",
       "    .dataframe tbody tr th {\n",
       "        vertical-align: top;\n",
       "    }\n",
       "\n",
       "    .dataframe thead th {\n",
       "        text-align: right;\n",
       "    }\n",
       "</style>\n",
       "<table border=\"1\" class=\"dataframe\">\n",
       "  <thead>\n",
       "    <tr style=\"text-align: right;\">\n",
       "      <th></th>\n",
       "      <th>city</th>\n",
       "      <th>state</th>\n",
       "      <th>city_ibge_code</th>\n",
       "      <th>week</th>\n",
       "      <th>total_inhabitants</th>\n",
       "      <th>new_week_cases</th>\n",
       "      <th>new_week_cases_per_100k_inhabitantants</th>\n",
       "      <th>latitude</th>\n",
       "      <th>longitude</th>\n",
       "    </tr>\n",
       "  </thead>\n",
       "  <tbody>\n",
       "    <tr>\n",
       "      <th>0</th>\n",
       "      <td>Alta Floresta D'Oeste</td>\n",
       "      <td>RO</td>\n",
       "      <td>1100015.0</td>\n",
       "      <td>2020-05-02</td>\n",
       "      <td>2.208105e+04</td>\n",
       "      <td>1</td>\n",
       "      <td>4.528770</td>\n",
       "      <td>-11.9283</td>\n",
       "      <td>-61.9953</td>\n",
       "    </tr>\n",
       "    <tr>\n",
       "      <th>1</th>\n",
       "      <td>Alta Floresta D'Oeste</td>\n",
       "      <td>RO</td>\n",
       "      <td>1100015.0</td>\n",
       "      <td>2020-05-09</td>\n",
       "      <td>2.208105e+04</td>\n",
       "      <td>0</td>\n",
       "      <td>0.000000</td>\n",
       "      <td>-11.9283</td>\n",
       "      <td>-61.9953</td>\n",
       "    </tr>\n",
       "    <tr>\n",
       "      <th>2</th>\n",
       "      <td>Alta Floresta D'Oeste</td>\n",
       "      <td>RO</td>\n",
       "      <td>1100015.0</td>\n",
       "      <td>2020-05-16</td>\n",
       "      <td>2.208105e+04</td>\n",
       "      <td>0</td>\n",
       "      <td>0.000000</td>\n",
       "      <td>-11.9283</td>\n",
       "      <td>-61.9953</td>\n",
       "    </tr>\n",
       "    <tr>\n",
       "      <th>3</th>\n",
       "      <td>Alta Floresta D'Oeste</td>\n",
       "      <td>RO</td>\n",
       "      <td>1100015.0</td>\n",
       "      <td>2020-05-23</td>\n",
       "      <td>2.208105e+04</td>\n",
       "      <td>3</td>\n",
       "      <td>13.586309</td>\n",
       "      <td>-11.9283</td>\n",
       "      <td>-61.9953</td>\n",
       "    </tr>\n",
       "    <tr>\n",
       "      <th>4</th>\n",
       "      <td>Alta Floresta D'Oeste</td>\n",
       "      <td>RO</td>\n",
       "      <td>1100015.0</td>\n",
       "      <td>2020-05-30</td>\n",
       "      <td>2.208105e+04</td>\n",
       "      <td>-1</td>\n",
       "      <td>-4.528770</td>\n",
       "      <td>-11.9283</td>\n",
       "      <td>-61.9953</td>\n",
       "    </tr>\n",
       "    <tr>\n",
       "      <th>...</th>\n",
       "      <td>...</td>\n",
       "      <td>...</td>\n",
       "      <td>...</td>\n",
       "      <td>...</td>\n",
       "      <td>...</td>\n",
       "      <td>...</td>\n",
       "      <td>...</td>\n",
       "      <td>...</td>\n",
       "      <td>...</td>\n",
       "    </tr>\n",
       "    <tr>\n",
       "      <th>79342</th>\n",
       "      <td>Brasília</td>\n",
       "      <td>DF</td>\n",
       "      <td>5300108.0</td>\n",
       "      <td>2020-07-18</td>\n",
       "      <td>3.052546e+06</td>\n",
       "      <td>10747</td>\n",
       "      <td>352.066767</td>\n",
       "      <td>-15.7795</td>\n",
       "      <td>-47.9297</td>\n",
       "    </tr>\n",
       "    <tr>\n",
       "      <th>79343</th>\n",
       "      <td>Brasília</td>\n",
       "      <td>DF</td>\n",
       "      <td>5300108.0</td>\n",
       "      <td>2020-07-25</td>\n",
       "      <td>3.052546e+06</td>\n",
       "      <td>11488</td>\n",
       "      <td>376.341585</td>\n",
       "      <td>-15.7795</td>\n",
       "      <td>-47.9297</td>\n",
       "    </tr>\n",
       "    <tr>\n",
       "      <th>79344</th>\n",
       "      <td>Brasília</td>\n",
       "      <td>DF</td>\n",
       "      <td>5300108.0</td>\n",
       "      <td>2020-08-01</td>\n",
       "      <td>3.052546e+06</td>\n",
       "      <td>11930</td>\n",
       "      <td>390.821301</td>\n",
       "      <td>-15.7795</td>\n",
       "      <td>-47.9297</td>\n",
       "    </tr>\n",
       "    <tr>\n",
       "      <th>79345</th>\n",
       "      <td>Brasília</td>\n",
       "      <td>DF</td>\n",
       "      <td>5300108.0</td>\n",
       "      <td>2020-08-08</td>\n",
       "      <td>3.052546e+06</td>\n",
       "      <td>12415</td>\n",
       "      <td>406.709678</td>\n",
       "      <td>-15.7795</td>\n",
       "      <td>-47.9297</td>\n",
       "    </tr>\n",
       "    <tr>\n",
       "      <th>79346</th>\n",
       "      <td>Brasília</td>\n",
       "      <td>DF</td>\n",
       "      <td>5300108.0</td>\n",
       "      <td>2020-08-15</td>\n",
       "      <td>3.052546e+06</td>\n",
       "      <td>11501</td>\n",
       "      <td>376.767459</td>\n",
       "      <td>-15.7795</td>\n",
       "      <td>-47.9297</td>\n",
       "    </tr>\n",
       "  </tbody>\n",
       "</table>\n",
       "<p>79347 rows × 9 columns</p>\n",
       "</div>"
      ],
      "text/plain": [
       "                        city state  city_ibge_code        week  \\\n",
       "0      Alta Floresta D'Oeste    RO       1100015.0  2020-05-02   \n",
       "1      Alta Floresta D'Oeste    RO       1100015.0  2020-05-09   \n",
       "2      Alta Floresta D'Oeste    RO       1100015.0  2020-05-16   \n",
       "3      Alta Floresta D'Oeste    RO       1100015.0  2020-05-23   \n",
       "4      Alta Floresta D'Oeste    RO       1100015.0  2020-05-30   \n",
       "...                      ...   ...             ...         ...   \n",
       "79342               Brasília    DF       5300108.0  2020-07-18   \n",
       "79343               Brasília    DF       5300108.0  2020-07-25   \n",
       "79344               Brasília    DF       5300108.0  2020-08-01   \n",
       "79345               Brasília    DF       5300108.0  2020-08-08   \n",
       "79346               Brasília    DF       5300108.0  2020-08-15   \n",
       "\n",
       "       total_inhabitants  new_week_cases  \\\n",
       "0           2.208105e+04               1   \n",
       "1           2.208105e+04               0   \n",
       "2           2.208105e+04               0   \n",
       "3           2.208105e+04               3   \n",
       "4           2.208105e+04              -1   \n",
       "...                  ...             ...   \n",
       "79342       3.052546e+06           10747   \n",
       "79343       3.052546e+06           11488   \n",
       "79344       3.052546e+06           11930   \n",
       "79345       3.052546e+06           12415   \n",
       "79346       3.052546e+06           11501   \n",
       "\n",
       "       new_week_cases_per_100k_inhabitantants  latitude  longitude  \n",
       "0                                    4.528770  -11.9283   -61.9953  \n",
       "1                                    0.000000  -11.9283   -61.9953  \n",
       "2                                    0.000000  -11.9283   -61.9953  \n",
       "3                                   13.586309  -11.9283   -61.9953  \n",
       "4                                   -4.528770  -11.9283   -61.9953  \n",
       "...                                       ...       ...        ...  \n",
       "79342                              352.066767  -15.7795   -47.9297  \n",
       "79343                              376.341585  -15.7795   -47.9297  \n",
       "79344                              390.821301  -15.7795   -47.9297  \n",
       "79345                              406.709678  -15.7795   -47.9297  \n",
       "79346                              376.767459  -15.7795   -47.9297  \n",
       "\n",
       "[79347 rows x 9 columns]"
      ]
     },
     "execution_count": 22,
     "metadata": {},
     "output_type": "execute_result"
    }
   ],
   "source": [
    "#Salvando em csv\n",
    "\n",
    "cities_incidence.to_csv('resultados/cities_incidence.csv')\n",
    "cities_incidence"
   ]
  },
  {
   "cell_type": "code",
   "execution_count": null,
   "metadata": {},
   "outputs": [],
   "source": []
  },
  {
   "cell_type": "code",
   "execution_count": null,
   "metadata": {},
   "outputs": [],
   "source": []
  },
  {
   "cell_type": "code",
   "execution_count": null,
   "metadata": {},
   "outputs": [],
   "source": []
  }
 ],
 "metadata": {
  "kernelspec": {
   "display_name": "Python 3.8.2 64-bit",
   "language": "python",
   "name": "python38264bite48921a23c424b23b18f136fca3d6c2d"
  },
  "language_info": {
   "codemirror_mode": {
    "name": "ipython",
    "version": 3
   },
   "file_extension": ".py",
   "mimetype": "text/x-python",
   "name": "python",
   "nbconvert_exporter": "python",
   "pygments_lexer": "ipython3",
   "version": "3.8.2"
  }
 },
 "nbformat": 4,
 "nbformat_minor": 4
}
