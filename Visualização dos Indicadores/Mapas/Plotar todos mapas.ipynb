{
 "cells": [
  {
   "cell_type": "code",
   "execution_count": null,
   "metadata": {},
   "outputs": [],
   "source": [
    "import sqlite3\n",
    "import geopandas as gpd\n",
    "import pandas as pd\n",
    "import geobr\n",
    "import matplotlib.pyplot as plt\n",
    "import numpy as np\n",
    "from shapely.wkt import loads as load_wkt\n",
    "from shapely.geometry import Point\n",
    "from PIL import Image\n",
    "import re"
   ]
  },
  {
   "cell_type": "markdown",
   "metadata": {},
   "source": [
    "## Defina a pasta de referência"
   ]
  },
  {
   "cell_type": "code",
   "execution_count": null,
   "metadata": {},
   "outputs": [],
   "source": [
    "diretorio = \"/home/marchesotti/Grupo A\""
   ]
  },
  {
   "cell_type": "markdown",
   "metadata": {},
   "source": [
    "# Sincronização com a base de dados"
   ]
  },
  {
   "cell_type": "code",
   "execution_count": null,
   "metadata": {},
   "outputs": [],
   "source": [
    "cnx = sqlite3.connect(f'{diretorio}/indicadores.db')\n",
    "\n",
    "brazil_df = pd.read_sql_query(\"SELECT * FROM brazil_df\", cnx)\n",
    "region_df = pd.read_sql_query(\"SELECT * FROM region_df\", cnx)\n",
    "states_df = pd.read_sql_query(\"SELECT * FROM states_df\", cnx)\n",
    "cities_df = pd.read_sql_query(\"SELECT * FROM cities_df\", cnx)"
   ]
  },
  {
   "cell_type": "markdown",
   "metadata": {},
   "source": [
    "# Nivel de Macrorregião"
   ]
  },
  {
   "cell_type": "markdown",
   "metadata": {},
   "source": [
    "## Coleta dos dados do IBGE"
   ]
  },
  {
   "cell_type": "code",
   "execution_count": null,
   "metadata": {},
   "outputs": [],
   "source": [
    "#Pega os dados geográficos do IBGE\n",
    "geometry_region = geobr.read_region(year=2018)"
   ]
  },
  {
   "cell_type": "code",
   "execution_count": null,
   "metadata": {},
   "outputs": [],
   "source": [
    "geometry_region"
   ]
  },
  {
   "cell_type": "code",
   "execution_count": null,
   "metadata": {},
   "outputs": [],
   "source": [
    "#Reordena a tabela do ibge na mesma ordem da base de dados\n",
    "geometry_region = geometry_region.reindex([4,1,0,2,3])\n",
    "geometry_region"
   ]
  },
  {
   "cell_type": "code",
   "execution_count": null,
   "metadata": {},
   "outputs": [],
   "source": [
    "#Renomeia a coluna de geometry_region para dar o merge com region_df\n",
    "geometry_region = geometry_region.rename(columns={'name_region':'region'})\n",
    "geometry_region['region'] = geometry_region['region'].replace(['Norte', 'Nordeste', 'Sudeste', 'Sul', 'Centro Oeste'],['norte', 'nordeste', 'sudeste', 'sul', 'centro-oeste'])\n",
    "geometry_region"
   ]
  },
  {
   "cell_type": "code",
   "execution_count": null,
   "metadata": {},
   "outputs": [],
   "source": [
    "#Associa o shape a sua respectiva macrorregião\n",
    "region_df = pd.merge(region_df, geometry_region, how='left', on='region')\n",
    "region_df"
   ]
  },
  {
   "cell_type": "code",
   "execution_count": null,
   "metadata": {},
   "outputs": [],
   "source": [
    "#Renomear as regiões para escrever corretamente no mapa\n",
    "geometry_region['region'] = geometry_region['region'].replace(['norte', 'nordeste', 'sudeste', 'sul', 'centro-oeste'],['Norte', 'Nordeste', 'Sudeste', 'Sul', 'Centro Oeste'])"
   ]
  },
  {
   "cell_type": "code",
   "execution_count": null,
   "metadata": {},
   "outputs": [],
   "source": [
    "#Faz o typecasting do dataframe para GeoDataFrame\n",
    "geometry_region = gpd.GeoDataFrame(geometry_region)\n",
    "region_df = gpd.GeoDataFrame(region_df)\n",
    "#Cria uma nova coluna com as coordenadas do ponto representativo de cada macrorregião\n",
    "geometry_region['coords'] = geometry_region['geometry'].apply(lambda x: x.representative_point().coords[:])\n",
    "geometry_region['coords'] = [coords[0] for coords in geometry_region['coords']]"
   ]
  },
  {
   "cell_type": "markdown",
   "metadata": {},
   "source": [
    "## Letalidade"
   ]
  },
  {
   "cell_type": "code",
   "execution_count": null,
   "metadata": {},
   "outputs": [],
   "source": [
    "#Faz a plotagem dos mapas por semana epidemiológica\n",
    "for semana in range(9,32):\n",
    "    semana_x = region_df[region_df.epidemiological_week == semana]\n",
    "\n",
    "    #Cria uma cópia do dataframe para não persistir nenhuma alteração\n",
    "    df_copy = gpd.GeoDataFrame(region_df)\n",
    "\n",
    "    #Prepara a base onde as outras camadas do mapa são plotadas\n",
    "    fig, ax = plt.subplots(figsize=(20, 15))\n",
    "    #Plota as cores nas macrorregiões de acordo com a letalidade\n",
    "    semana_x.plot(column='lethality', cmap='Reds', vmin=0.0, legend=True,legend_kwds={'label': f\"(Em %)\", 'orientation': \"vertical\"},vmax=region_df['lethality'].max(), ax=ax)\n",
    "\n",
    "    #Escreve qual a semana representada\n",
    "    ax.annotate(f'Semana {semana}', xy=(0.1,.225),xycoords='figure fraction',horizontalalignment='left', verticalalignment='top',fontsize=35)\n",
    "    #Desenha as linhas de limite entre as macrorregiões\n",
    "    df_copy.geometry.boundary.plot(color=None,edgecolor='#888888',linewidth = 0.1,ax=ax)\n",
    "    #Escreve o título\n",
    "    ax.set_title(f\"Letalidade COVID-19 por Macrorregião (em %)\", fontdict={'fontsize':25})\n",
    "    #Remove os eixos x e y\n",
    "    ax.axis('off')\n",
    "    \n",
    "    #Escreve o nome de cada macrorregião no ponto representativo predefinido\n",
    "    for i, j in geometry_region.iterrows():\n",
    "        plt.annotate(s=j['region'], xy=j['coords'], horizontalalignment='center', verticalalignment='center', fontsize=20)\n",
    "    #Salva cada mapa como um png\n",
    "    chart = ax.get_figure()\n",
    "    chart.savefig(f'{diretorio}/Mapas/Macrorregião/Letalidade/semana_{semana}_letalidade_macrorregioes.png', dpi=120)"
   ]
  },
  {
   "cell_type": "code",
   "execution_count": null,
   "metadata": {},
   "outputs": [],
   "source": [
    "#Cria um arquivo gif a partir de todos os pngs\n",
    "images = []\n",
    "for semana in range(9,32):\n",
    "    images.append(Image.open(f'{diretorio}/Mapas/Macrorregião/Letalidade/semana_{semana}_letalidade_macrorregioes.png'))\n",
    "\n",
    "images[0].save(f'{diretorio}/Mapas/Gifs/mapa_letalidade_macrorregioes.gif', save_all=True, append_images=images, duration=500, loop=0)"
   ]
  },
  {
   "cell_type": "markdown",
   "metadata": {},
   "source": [
    "## Mortalidade"
   ]
  },
  {
   "cell_type": "code",
   "execution_count": null,
   "metadata": {},
   "outputs": [],
   "source": [
    "#Faz a plotagem dos mapas por semana epidemiológica\n",
    "for semana in range(9,32):\n",
    "    semana_x = region_df[region_df.epidemiological_week == semana]\n",
    "\n",
    "    #Cria uma cópia do dataframe para não persistir nenhuma alteração\n",
    "    df_copy = gpd.GeoDataFrame(region_df)\n",
    "\n",
    "    #Prepara a base onde as outras camadas do mapa são plotadas\n",
    "    fig, ax = plt.subplots(figsize=(20, 15))\n",
    "    #Plota as cores nas macrorregiões de acordo com a mortalidade\n",
    "    semana_x.plot(column='mortality', cmap='Reds', vmin=0.0, legend=True,legend_kwds={'label': f\"(Por 100 mil habitantes)\", 'orientation': \"vertical\"},vmax=region_df['mortality'].max(), ax=ax)\n",
    "\n",
    "    #Escreve qual a semana representada\n",
    "    ax.annotate(f'Semana {semana}', xy=(0.1,.225),xycoords='figure fraction',horizontalalignment='left', verticalalignment='top',fontsize=35)\n",
    "    #Desenha as linhas de limite entre as macrorregiões\n",
    "    df_copy.geometry.boundary.plot(color=None,edgecolor='#888888',linewidth = 0.1,ax=ax)\n",
    "    #Escreve o título\n",
    "    ax.set_title(f\"Mortalidade COVID-19 por Macrorregião (por 100 mil habitantes)\", fontdict={'fontsize':25})\n",
    "    #Remove os eixos x e y\n",
    "    ax.axis('off')\n",
    "    \n",
    "    #Escreve o nome de cada macrorregião no ponto representativo predefinido\n",
    "    for i, j in geometry_region.iterrows():\n",
    "        plt.annotate(s=j['region'], xy=j['coords'], horizontalalignment='center', verticalalignment='center', fontsize=20)\n",
    "    #Salva cada mapa como um png\n",
    "    chart = ax.get_figure()\n",
    "    chart.savefig(f'{diretorio}/Mapas/Macrorregião/Mortalidade/semana_{semana}_mortalidade_macrorregioes.png', dpi=120)"
   ]
  },
  {
   "cell_type": "code",
   "execution_count": null,
   "metadata": {},
   "outputs": [],
   "source": [
    "#Cria um arquivo gif a partir de todos os pngs\n",
    "images = []\n",
    "for semana in range(9,32):\n",
    "    images.append(Image.open(f'{diretorio}/Mapas/Macrorregião/Mortalidade/semana_{semana}_mortalidade_macrorregioes.png'))\n",
    "\n",
    "images[0].save(f'{diretorio}/Mapas/Gifs/mapa_mortalidade_macrorregioes.gif', save_all=True, append_images=images, duration=500, loop=0)"
   ]
  },
  {
   "cell_type": "markdown",
   "metadata": {},
   "source": [
    "## Incidência de Casos"
   ]
  },
  {
   "cell_type": "code",
   "execution_count": null,
   "metadata": {},
   "outputs": [],
   "source": [
    "#Faz a plotagem dos mapas por semana epidemiológica\n",
    "for semana in range(9,32):\n",
    "    semana_x = region_df[region_df.epidemiological_week == semana]\n",
    "\n",
    "    #Cria uma cópia do dataframe para não persistir nenhuma alteração\n",
    "    df_copy = gpd.GeoDataFrame(region_df)\n",
    "\n",
    "    #Prepara a base onde as outras camadas do mapa são plotadas\n",
    "    fig, ax = plt.subplots(figsize=(20, 15))\n",
    "    #Plota as cores nas macrorregiões de acordo com a incidência de casos\n",
    "    semana_x.plot(column='incidence_cases', cmap='Blues', vmin=0.0, legend=True,legend_kwds={'label': f\"(Por 100 mil habitantes)\", 'orientation': \"vertical\"},vmax=region_df['incidence_cases'].max(), ax=ax)\n",
    "\n",
    "    #Escreve qual a semana representada\n",
    "    ax.annotate(f'Semana {semana}', xy=(0.1,.225),xycoords='figure fraction',horizontalalignment='left', verticalalignment='top',fontsize=35)\n",
    "    #Desenha as linhas de limite entre as macrorregiões\n",
    "    df_copy.geometry.boundary.plot(color=None,edgecolor='#888888',linewidth = 0.1,ax=ax)\n",
    "    #Escreve o título\n",
    "    ax.set_title(f\"Incidência de Casos de COVID-19 por Macrorregião (por 100 mil habitantes)\", fontdict={'fontsize':25})\n",
    "    #Remove os eixos x e y\n",
    "    ax.axis('off')\n",
    "    \n",
    "    #Escreve o nome de cada macrorregião no ponto representativo predefinido\n",
    "    for i, j in geometry_region.iterrows():\n",
    "        plt.annotate(s=j['region'], xy=j['coords'], horizontalalignment='center', verticalalignment='center', fontsize=20)\n",
    "    #Salva cada mapa como um png\n",
    "    chart = ax.get_figure()\n",
    "    chart.savefig(f'{diretorio}/Mapas/Macrorregião/Incidência de Casos/semana_{semana}_incidencia_casos_macrorregioes.png', dpi=120)"
   ]
  },
  {
   "cell_type": "code",
   "execution_count": null,
   "metadata": {},
   "outputs": [],
   "source": [
    "#Cria um arquivo gif a partir de todos os pngs\n",
    "images = []\n",
    "for semana in range(9,32):\n",
    "    images.append(Image.open(f'{diretorio}/Mapas/Macrorregião/Incidência de Casos/semana_{semana}_incidencia_casos_macrorregioes.png'))\n",
    "\n",
    "images[0].save(f'{diretorio}/Mapas/Gifs/mapa_incidencia_casos_macrorregioes.gif', save_all=True, append_images=images, duration=500, loop=0)"
   ]
  },
  {
   "cell_type": "markdown",
   "metadata": {},
   "source": [
    "## Incidência de Óbitos"
   ]
  },
  {
   "cell_type": "code",
   "execution_count": null,
   "metadata": {},
   "outputs": [],
   "source": [
    "#Faz a plotagem dos mapas por semana epidemiológica\n",
    "for semana in range(9,32):\n",
    "    semana_x = region_df[region_df.epidemiological_week == semana]\n",
    "\n",
    "    #Cria uma cópia do dataframe para não persistir nenhuma alteração\n",
    "    df_copy = gpd.GeoDataFrame(region_df)\n",
    "\n",
    "    #Prepara a base onde as outras camadas do mapa são plotadas\n",
    "    fig, ax = plt.subplots(figsize=(20, 15))\n",
    "    #Plota as cores nas macrorregiões de acordo com a incidência de óbitos\n",
    "    semana_x.plot(column='incidence_deaths', cmap='Reds', vmin=0.0, legend=True,legend_kwds={'label': f\"(Por 100 mil habitantes)\", 'orientation': \"vertical\"},vmax=region_df['incidence_deaths'].max(), ax=ax)\n",
    "\n",
    "    #Escreve qual a semana representada\n",
    "    ax.annotate(f'Semana {semana}', xy=(0.1,.225),xycoords='figure fraction',horizontalalignment='left', verticalalignment='top',fontsize=35)\n",
    "    #Desenha as linhas de limite entre as macrorregiões\n",
    "    df_copy.geometry.boundary.plot(color=None,edgecolor='#888888',linewidth = 0.1,ax=ax)\n",
    "    #Escreve o título\n",
    "    ax.set_title(f\"Incidência de Óbitos de COVID-19 por Macrorregião (por 100 mil habitantes)\", fontdict={'fontsize':25})\n",
    "    #Remove os eixos x e y\n",
    "    ax.axis('off')\n",
    "    \n",
    "    #Escreve o nome de cada macrorregião no ponto representativo predefinido\n",
    "    for i, j in geometry_region.iterrows():\n",
    "        plt.annotate(s=j['region'], xy=j['coords'], horizontalalignment='center', verticalalignment='center', fontsize=20)\n",
    "    #Salva cada mapa como um png\n",
    "    chart = ax.get_figure()\n",
    "    chart.savefig(f'{diretorio}/Mapas/Macrorregião/Incidência de Óbitos/semana_{semana}_incidencia_obitos_macrorregioes.png', dpi=120)"
   ]
  },
  {
   "cell_type": "code",
   "execution_count": null,
   "metadata": {},
   "outputs": [],
   "source": [
    "#Cria um arquivo gif a partir de todos os pngs\n",
    "images = []\n",
    "for semana in range(9,32):\n",
    "    images.append(Image.open(f'{diretorio}/Mapas/Macrorregião/Incidência de Óbitos/semana_{semana}_incidencia_obitos_macrorregioes.png'))\n",
    "\n",
    "images[0].save(f'{diretorio}/Mapas/Gifs/mapa_incidencia_obitos_macrorregioes.gif', save_all=True, append_images=images, duration=500, loop=0)"
   ]
  },
  {
   "cell_type": "markdown",
   "metadata": {},
   "source": [
    "## Fator de Crescimento de Casos"
   ]
  },
  {
   "cell_type": "code",
   "execution_count": null,
   "metadata": {},
   "outputs": [],
   "source": [
    "#Faz a plotagem dos mapas por semana epidemiológica\n",
    "for semana in range(9,32):\n",
    "    semana_x = region_df[region_df.epidemiological_week == semana]\n",
    "\n",
    "    #Cria uma cópia do dataframe para não persistir nenhuma alteração\n",
    "    df_copy = gpd.GeoDataFrame(region_df)\n",
    "\n",
    "    #Prepara a base onde as outras camadas do mapa são plotadas\n",
    "    fig, ax = plt.subplots(figsize=(20, 15))\n",
    "    #Plota as cores nas macrorregiões de acordo com o fator de crescimento de casos\n",
    "    semana_x.plot(column='cases_growth_factor', cmap='Blues', vmin=0.0, legend=True,legend_kwds={'label': f\"(Em relação a semana epidemiológica anterior)\", 'orientation': \"vertical\"},vmax=region_df['cases_growth_factor'].max(), ax=ax)\n",
    "\n",
    "    #Escreve qual a semana representada\n",
    "    ax.annotate(f'Semana {semana}', xy=(0.1,.225),xycoords='figure fraction',horizontalalignment='left', verticalalignment='top',fontsize=35)\n",
    "    #Desenha as linhas de limite entre as macrorregiões\n",
    "    df_copy.geometry.boundary.plot(color=None,edgecolor='#888888',linewidth = 0.1,ax=ax)\n",
    "    #Escreve o título\n",
    "    ax.set_title(f\"Fator de Crescimento de Casos de COVID-19 por Macrorregião\", fontdict={'fontsize':25})\n",
    "    #Remove os eixos x e y\n",
    "    ax.axis('off')\n",
    "    \n",
    "    #Escreve o nome de cada macrorregião no ponto representativo predefinido\n",
    "    for i, j in geometry_region.iterrows():\n",
    "        plt.annotate(s=j['region'], xy=j['coords'], horizontalalignment='center', verticalalignment='center', fontsize=20)\n",
    "    #Salva cada mapa como um png\n",
    "    chart = ax.get_figure()\n",
    "    chart.savefig(f'{diretorio}/Mapas/Macrorregião/Fator de Crescimento de Casos/semana_{semana}_crescimento_casos_macrorregioes.png', dpi=120)"
   ]
  },
  {
   "cell_type": "code",
   "execution_count": null,
   "metadata": {},
   "outputs": [],
   "source": [
    "#Cria um arquivo gif a partir de todos os pngs\n",
    "images = []\n",
    "for semana in range(9,32):\n",
    "    images.append(Image.open(f'{diretorio}/Mapas/Macrorregião/Fator de Crescimento de Casos/semana_{semana}_crescimento_casos_macrorregioes.png'))\n",
    "\n",
    "images[0].save(f'{diretorio}/Mapas/Gifs/mapa_crescimento_casos_macrorregioes.gif', save_all=True, append_images=images, duration=500, loop=0)"
   ]
  },
  {
   "cell_type": "markdown",
   "metadata": {},
   "source": [
    "## Fator de Crescimento de Óbitos"
   ]
  },
  {
   "cell_type": "code",
   "execution_count": null,
   "metadata": {},
   "outputs": [],
   "source": [
    "#Faz a plotagem dos mapas por semana epidemiológica\n",
    "for semana in range(9,32):\n",
    "    semana_x = region_df[region_df.epidemiological_week == semana]\n",
    "\n",
    "    #Cria uma cópia do dataframe para não persistir nenhuma alteração\n",
    "    df_copy = gpd.GeoDataFrame(region_df)\n",
    "\n",
    "    #Prepara a base onde as outras camadas do mapa são plotadas\n",
    "    fig, ax = plt.subplots(figsize=(20, 15))\n",
    "    #Plota as cores nas macrorregiões de acordo com o fator de crescimento de óbitos\n",
    "    semana_x.plot(column='deaths_growth_factor', cmap='Reds', vmin=0.0, legend=True,legend_kwds={'label': f\"Em relação a semana epidemiológica anterior\", 'orientation': \"vertical\"},vmax=region_df['deaths_growth_factor'].max(), ax=ax)\n",
    "\n",
    "    #Escreve qual a semana representada\n",
    "    ax.annotate(f'Semana {semana}', xy=(0.1,.225),xycoords='figure fraction',horizontalalignment='left', verticalalignment='top',fontsize=35)\n",
    "    #Desenha as linhas de limite entre as macrorregiões\n",
    "    df_copy.geometry.boundary.plot(color=None,edgecolor='#888888',linewidth = 0.1,ax=ax)\n",
    "    #Escreve o título\n",
    "    ax.set_title(f\"Fator de Crescimento de Óbitos de COVID-19 por Macrorregião\", fontdict={'fontsize':25})\n",
    "    #Remove os eixos x e y\n",
    "    ax.axis('off')\n",
    "    \n",
    "    #Escreve o nome de cada macrorregião no ponto representativo predefinido\n",
    "    for i, j in geometry_region.iterrows():\n",
    "        plt.annotate(s=j['region'], xy=j['coords'], horizontalalignment='center', verticalalignment='center', fontsize=20)\n",
    "    #Salva cada mapa como um png\n",
    "    chart = ax.get_figure()\n",
    "    chart.savefig(f'{diretorio}/Mapas/Macrorregião/Fator de Crescimento de Óbitos/semana_{semana}_crescimento_obitos_macrorregioes.png', dpi=120)"
   ]
  },
  {
   "cell_type": "code",
   "execution_count": null,
   "metadata": {},
   "outputs": [],
   "source": [
    "#Cria um arquivo gif a partir de todos os pngs\n",
    "images = []\n",
    "for semana in range(9,32):\n",
    "    images.append(Image.open(f'{diretorio}/Mapas/Macrorregião/Fator de Crescimento de Óbitos/semana_{semana}_crescimento_obitos_macrorregioes.png'))\n",
    "\n",
    "images[0].save(f'{diretorio}/Mapas/Gifs/mapa_crescimento_obitos_macrorregioes.gif', save_all=True, append_images=images, duration=500, loop=0)"
   ]
  },
  {
   "cell_type": "markdown",
   "metadata": {},
   "source": [
    "## Prevalência"
   ]
  },
  {
   "cell_type": "code",
   "execution_count": null,
   "metadata": {},
   "outputs": [],
   "source": [
    "#Faz a plotagem dos mapas por semana epidemiológica\n",
    "for semana in range(9,32):\n",
    "    semana_x = region_df[region_df.epidemiological_week == semana]\n",
    "\n",
    "    #Cria uma cópia do dataframe para não persistir nenhuma alteração\n",
    "    df_copy = gpd.GeoDataFrame(region_df)\n",
    "\n",
    "    #Prepara a base onde as outras camadas do mapa são plotadas\n",
    "    fig, ax = plt.subplots(figsize=(20, 15))\n",
    "    #Plota as cores nas macrorregiões de acordo com a prevalência\n",
    "    semana_x.plot(column='prevalence', cmap='Blues', vmin=0.0, legend=True,legend_kwds={'label': f\"Por 100 mil habitantes\", 'orientation': \"vertical\"},vmax=region_df['prevalence'].max(), ax=ax)\n",
    "\n",
    "    #Escreve qual a semana representada\n",
    "    ax.annotate(f'Semana {semana}', xy=(0.1,.225),xycoords='figure fraction',horizontalalignment='left', verticalalignment='top',fontsize=35)\n",
    "    #Desenha as linhas de limite entre as macrorregiões\n",
    "    df_copy.geometry.boundary.plot(color=None,edgecolor='#888888',linewidth = 0.1,ax=ax)\n",
    "    #Escreve o título\n",
    "    ax.set_title(f\"Prevalência de COVID-19 por Macrorregião (por 100 mil habitantes)\", fontdict={'fontsize':25})\n",
    "    #Remove os eixos x e y\n",
    "    ax.axis('off')\n",
    "    \n",
    "    #Escreve o nome de cada macrorregião no ponto representativo predefinido\n",
    "    for i, j in geometry_region.iterrows():\n",
    "        plt.annotate(s=j['region'], xy=j['coords'], horizontalalignment='center', verticalalignment='center', fontsize=20)\n",
    "    #Salva cada mapa como um png\n",
    "    chart = ax.get_figure()\n",
    "    chart.savefig(f'{diretorio}/Mapas/Macrorregião/Prevalência/semana_{semana}_prevalencia_macrorregioes.png', dpi=120)"
   ]
  },
  {
   "cell_type": "code",
   "execution_count": null,
   "metadata": {},
   "outputs": [],
   "source": [
    "#Cria um arquivo gif a partir de todos os pngs\n",
    "images = []\n",
    "for semana in range(9,32):\n",
    "    images.append(Image.open(f'{diretorio}/Mapas/Macrorregião/Prevalência/semana_{semana}_prevalencia_macrorregioes.png'))\n",
    "\n",
    "images[0].save(f'{diretorio}/Mapas/Gifs/mapa_prevalencia_macrorregioes.gif', save_all=True, append_images=images, duration=500, loop=0)"
   ]
  },
  {
   "cell_type": "markdown",
   "metadata": {},
   "source": [
    "## Casos Acumulados"
   ]
  },
  {
   "cell_type": "code",
   "execution_count": null,
   "metadata": {},
   "outputs": [],
   "source": [
    "#Pré-plota para gerar uma escala para a legenda, tendo como base a semana 31\n",
    "fig, ax = plt.subplots(figsize=(20, 20))\n",
    "semana_x = region_df[region_df.epidemiological_week == 31]\n",
    "\n",
    "markersize = []\n",
    "for linha in semana_x.itertuples():\n",
    "    markersize.append(linha.last_available_confirmed/40)\n",
    "    \n",
    "semana_x.plot(ax=ax, facecolor='#cccccc')\n",
    "\n",
    "#Pega as coordenadas que serão os centros dos círculos\n",
    "xs=[coordenada[0] for coordenada in geometry_region['coords']]\n",
    "ys=[coordenada[1] for coordenada in geometry_region['coords']]\n",
    "scatter = ax.scatter(xs, ys, markersize, alpha=0.6, color=\"#267bb4\")\n",
    "\n",
    "handles, labels = scatter.legend_elements(prop=\"sizes\", alpha=0.6, color='#267bb4', num=5)\n",
    "for i in range(len(labels)):\n",
    "    labels[i] = re.findall(r\"\\{.+\\}\", labels[i])[0][1:-1]\n",
    "    labels[i] = str(int(labels[i])*40)"
   ]
  },
  {
   "cell_type": "code",
   "execution_count": null,
   "metadata": {},
   "outputs": [],
   "source": [
    "#Defineção da legenda\n",
    "legend ='''ax.legend(handles, labels, title=\"Número de casos\", loc=3,borderpad=3, labelspacing=2.7, handlelength=9, title_fontsize=25, fontsize=18, frameon=False)'''\n",
    "#Loop para cada semana epidemiológica\n",
    "for semana in range(9, 32):\n",
    "    #Plota a base do mapa\n",
    "    fig, ax = plt.subplots(figsize=(20, 20))\n",
    "    semana_x = region_df[region_df.epidemiological_week == semana]\n",
    "\n",
    "    #Define o tamanho de cada círculo\n",
    "    markersize = []\n",
    "    for linha in semana_x.itertuples():\n",
    "        markersize.append(linha.last_available_confirmed/20)\n",
    "\n",
    "    #Plota as linhas dos limites das macrorregiões\n",
    "    geometry_region.plot(ax=ax, facecolor='#cccccc')\n",
    "    semana_x.geometry.boundary.plot(color=None, edgecolor='#444444', linewidth = 0.2, ax=ax)\n",
    "    \n",
    "    #Plota os circulos\n",
    "    ax.scatter(xs, ys, markersize, alpha=0.6, color=\"#267bb4\")\n",
    "\n",
    "    #Desenhar a seta que representa o Norte\n",
    "    ax.annotate('', xy=(-35, -30), xytext=(-35, -33), arrowprops=dict(arrowstyle= '->', color='k', lw=2, mutation_scale=20))\n",
    "    ax.text(-35, -30, \"N\", ha=\"center\", va=\"bottom\", size=20)\n",
    "    ax.axis('off')\n",
    "\n",
    "    #Escreve a sigla de cada estado\n",
    "    for i, j in geometry_region.iterrows():\n",
    "        plt.annotate(s=j['region'], xy=j['coords'], horizontalalignment='center', verticalalignment='center', fontsize=20)\n",
    "\n",
    "    #Executa a definição prévia da legenda\n",
    "    exec(legend)\n",
    "    #Define o título\n",
    "    plt.title(f\"Casos acumulados por Macrorregião - Semana {semana}\", fontsize=30)\n",
    "    #Salva o arquivo da imagem\n",
    "    plt.savefig(f\"{diretorio}/Mapas/Macrorregião/Casos Acumulados/semana_{semana}_casos_acumulados_macrorregioes.png\")\n",
    "    #Retira parte das bordas da imagem\n",
    "    im = Image.open(f\"{diretorio}/Mapas/Macrorregião/Casos Acumulados/semana_{semana}_casos_acumulados_macrorregioes.png\")\n",
    "    im = im.crop((150,120,1290,1270))\n",
    "    im.save(f\"{diretorio}/Mapas/Macrorregião/Casos Acumulados/semana_{semana}_casos_acumulados_macrorregioes.png\")"
   ]
  },
  {
   "cell_type": "code",
   "execution_count": null,
   "metadata": {},
   "outputs": [],
   "source": [
    "#Cria um arquivo gif a partir de todos os pngs\n",
    "images = []\n",
    "for semana in range(9,32):\n",
    "    images.append(Image.open(f'{diretorio}/Mapas/Macrorregião/Casos Acumulados/semana_{semana}_casos_acumulados_macrorregioes.png'))\n",
    "\n",
    "images[0].save(f'{diretorio}/Mapas/Gifs/mapa_casos_acumulados_macrorregioes.gif', save_all=True, append_images=images, duration=500, loop=0)"
   ]
  },
  {
   "cell_type": "markdown",
   "metadata": {},
   "source": [
    "## Óbitos Acumulados"
   ]
  },
  {
   "cell_type": "code",
   "execution_count": null,
   "metadata": {},
   "outputs": [],
   "source": [
    "#Pré-plot pra gerar uma escala para a legenda de óbitos por municipio, tendo como base a semana 31\n",
    "fig, ax = plt.subplots(figsize=(20, 20))\n",
    "semana_x = region_df[region_df.epidemiological_week == 31]\n",
    "\n",
    "markersize = []\n",
    "for linha in semana_x.itertuples():\n",
    "    markersize.append(linha.last_available_deaths/1.5)\n",
    "    \n",
    "semana_x.plot(ax=ax, facecolor='#cccccc')\n",
    "\n",
    "#Pega as coordenadas que serão os centros dos círculos\n",
    "xs=[coordenada[0] for coordenada in geometry_region['coords']]\n",
    "ys=[coordenada[1] for coordenada in geometry_region['coords']]\n",
    "scatter = ax.scatter(xs, ys, markersize, alpha=0.6, color=\"#f24646\")\n",
    "\n",
    "handles, labels = scatter.legend_elements(prop=\"sizes\", alpha=0.6, color='#f24646', num=5)\n",
    "for i in range(len(labels)):\n",
    "    labels[i] = re.findall(r\"\\{.+\\}\", labels[i])[0][1:-1]\n",
    "    labels[i] = str(int(labels[i])*1.5)"
   ]
  },
  {
   "cell_type": "code",
   "execution_count": null,
   "metadata": {},
   "outputs": [],
   "source": [
    "#Defineção da legenda\n",
    "legend ='''ax.legend(handles, labels, title=\"Número de óbitos\", loc=3,borderpad=3, labelspacing=2.8, handlelength=9, title_fontsize=25, fontsize=18, frameon=False)'''\n",
    "#Loop para cada semana epidemiológica\n",
    "for semana in range(9, 32):\n",
    "    #Plota a base do mapa\n",
    "    fig, ax = plt.subplots(figsize=(20, 20))\n",
    "    semana_x = region_df[region_df.epidemiological_week == semana]\n",
    "\n",
    "    #Define o tamanho de cada círculo\n",
    "    markersize = []\n",
    "    for linha in semana_x.itertuples():\n",
    "        markersize.append(linha.last_available_deaths/1.5)\n",
    "\n",
    "    #Plota as linhas dos limites das macrorregiões\n",
    "    geometry_region.plot(ax=ax, facecolor='#cccccc')\n",
    "    semana_x.geometry.boundary.plot(color=None, edgecolor='#444444', linewidth = 0.2, ax=ax)\n",
    "    \n",
    "    #Plota os circulos\n",
    "    ax.scatter(xs, ys, markersize, alpha=0.6, color=\"#f24646\")\n",
    "\n",
    "    #Desenhar a seta que representa o Norte\n",
    "    ax.annotate('', xy=(-35, -30), xytext=(-35, -33), arrowprops=dict(arrowstyle= '->', color='k', lw=2, mutation_scale=20))\n",
    "    ax.text(-35, -30, \"N\", ha=\"center\", va=\"bottom\", size=20)\n",
    "    ax.axis('off')\n",
    "\n",
    "    #Escreve a sigla de cada estado\n",
    "    for i, j in geometry_region.iterrows():\n",
    "        plt.annotate(s=j['region'], xy=j['coords'], horizontalalignment='center', verticalalignment='center', fontsize=20)\n",
    "\n",
    "    #Executa a definição prévia da legenda\n",
    "    exec(legend)\n",
    "    #Define o título\n",
    "    plt.title(f\"Óbitos acumulados por Macrorregião - Semana {semana}\", fontsize=30)\n",
    "    #Salva o arquivo da imagem\n",
    "    plt.savefig(f\"{diretorio}/Mapas/Macrorregião/Óbitos Acumulados/semana_{semana}_obitos_acumulados_macrorregioes.png\")\n",
    "    #Retira parte das bordas da imagem\n",
    "    im = Image.open(f\"{diretorio}/Mapas/Macrorregião/Óbitos Acumulados/semana_{semana}_obitos_acumulados_macrorregioes.png\")\n",
    "    im = im.crop((150,120,1290,1270))\n",
    "    im.save(f\"{diretorio}/Mapas/Macrorregião/Óbitos Acumulados/semana_{semana}_obitos_acumulados_macrorregioes.png\")"
   ]
  },
  {
   "cell_type": "code",
   "execution_count": null,
   "metadata": {},
   "outputs": [],
   "source": [
    "#Cria um arquivo gif a partir de todos os pngs\n",
    "images = []\n",
    "for semana in range(9,32):\n",
    "    images.append(Image.open(f'{diretorio}/Mapas/Macrorregião/Óbitos Acumulados/semana_{semana}_obitos_acumulados_macrorregioes.png'))\n",
    "\n",
    "images[0].save(f'{diretorio}/Mapas/Gifs/mapa_obitos_acumulados_macrorregioes.gif', save_all=True, append_images=images, duration=500, loop=0)"
   ]
  },
  {
   "cell_type": "markdown",
   "metadata": {},
   "source": [
    "## Novos Casos"
   ]
  },
  {
   "cell_type": "code",
   "execution_count": null,
   "metadata": {},
   "outputs": [],
   "source": [
    "#Pré-plota para gerar uma escala para a legenda, tendo como base a semana 31\n",
    "fig, ax = plt.subplots(figsize=(20, 20))\n",
    "semana_x = region_df[region_df.epidemiological_week == 31]\n",
    "\n",
    "markersize = []\n",
    "for linha in semana_x.itertuples():\n",
    "    markersize.append(linha.new_week_cases/5)\n",
    "    \n",
    "semana_x.plot(ax=ax, facecolor='#cccccc')\n",
    "\n",
    "#Pega as coordenadas que serão os centros dos círculos\n",
    "xs=[coordenada[0] for coordenada in geometry_region['coords']]\n",
    "ys=[coordenada[1] for coordenada in geometry_region['coords']]\n",
    "scatter = ax.scatter(xs, ys, markersize, alpha=0.6, color=\"#267bb4\")\n",
    "\n",
    "handles, labels = scatter.legend_elements(prop=\"sizes\", alpha=0.6, color='#267bb4', num=5)\n",
    "for i in range(len(labels)):\n",
    "    labels[i] = re.findall(r\"\\{.+\\}\", labels[i])[0][1:-1]\n",
    "    labels[i] = str(int(labels[i])*5)"
   ]
  },
  {
   "cell_type": "code",
   "execution_count": null,
   "metadata": {},
   "outputs": [],
   "source": [
    "#Defineção da legenda\n",
    "legend ='''ax.legend(handles, labels, title=\"Número de casos\", loc=3,borderpad=3, labelspacing=2.5, handlelength=7, title_fontsize=25, fontsize=18, frameon=False)'''\n",
    "#Loop para cada semana epidemiológica\n",
    "for semana in range(9, 32):\n",
    "    #Plota a base do mapa\n",
    "    fig, ax = plt.subplots(figsize=(20, 20))\n",
    "    semana_x = region_df[region_df.epidemiological_week == semana]\n",
    "\n",
    "    #Define o tamanho de cada círculo\n",
    "    markersize = []\n",
    "    for linha in semana_x.itertuples():\n",
    "        markersize.append(linha.new_week_cases/3)\n",
    "\n",
    "    #Plota as linhas dos limites das macrorregiões\n",
    "    geometry_region.plot(ax=ax, facecolor='#cccccc')\n",
    "    semana_x.geometry.boundary.plot(color=None, edgecolor='#444444', linewidth = 0.2, ax=ax)\n",
    "    \n",
    "    #Plota os circulos\n",
    "    ax.scatter(xs, ys, markersize, alpha=0.6, color=\"#267bb4\")\n",
    "\n",
    "    #Desenhar a seta que representa o Norte\n",
    "    ax.annotate('', xy=(-35, -30), xytext=(-35, -33), arrowprops=dict(arrowstyle= '->', color='k', lw=2, mutation_scale=20))\n",
    "    ax.text(-35, -30, \"N\", ha=\"center\", va=\"bottom\", size=20)\n",
    "    ax.axis('off')\n",
    "\n",
    "    #Escreve a sigla de cada estado\n",
    "    for i, j in geometry_region.iterrows():\n",
    "        plt.annotate(s=j['region'], xy=j['coords'], horizontalalignment='center', verticalalignment='center', fontsize=20)\n",
    "\n",
    "    #Executa a definição prévia da legenda\n",
    "    exec(legend)\n",
    "    #Define o título\n",
    "    plt.title(f\"Novos casos por macrorregião - Semana {semana}\", fontsize=30)\n",
    "    #Salva o arquivo da imagem\n",
    "    plt.savefig(f\"{diretorio}/Mapas/Macrorregião/Novos Casos/semana_{semana}_novos_casos_macrorregioes.png\")\n",
    "    #Retira parte das bordas da imagem\n",
    "    im = Image.open(f\"{diretorio}/Mapas/Macrorregião/Novos Casos/semana_{semana}_novos_casos_macrorregioes.png\")\n",
    "    im = im.crop((150,120,1290,1270))\n",
    "    im.save(f\"{diretorio}/Mapas/Macrorregião/Novos Casos/semana_{semana}_novos_casos_macrorregioes.png\")"
   ]
  },
  {
   "cell_type": "code",
   "execution_count": null,
   "metadata": {},
   "outputs": [],
   "source": [
    "#Cria um arquivo gif a partir de todos os pngs\n",
    "images = []\n",
    "for semana in range(9,32):\n",
    "    images.append(Image.open(f'{diretorio}/Mapas/Macrorregião/Novos Casos/semana_{semana}_novos_casos_macrorregioes.png'))\n",
    "\n",
    "images[0].save(f'{diretorio}/Mapas/Gifs/mapa_novos_casos_macrorregioes.gif', save_all=True, append_images=images, duration=500, loop=0)"
   ]
  },
  {
   "cell_type": "markdown",
   "metadata": {},
   "source": [
    "## Novos Óbitos"
   ]
  },
  {
   "cell_type": "code",
   "execution_count": null,
   "metadata": {},
   "outputs": [],
   "source": [
    "#Pré-plot pra gerar uma escala para a legenda de óbitos por municipio, tendo como base a semana 31\n",
    "fig, ax = plt.subplots(figsize=(20, 20))\n",
    "semana_x = region_df[region_df.epidemiological_week == 31]\n",
    "\n",
    "markersize = []\n",
    "for linha in semana_x.itertuples():\n",
    "    markersize.append(linha.new_week_deaths*8)\n",
    "    \n",
    "semana_x.plot(ax=ax, facecolor='#cccccc')\n",
    "\n",
    "#Pega as coordenadas que serão os centros dos círculos\n",
    "xs=[coordenada[0] for coordenada in geometry_region['coords']]\n",
    "ys=[coordenada[1] for coordenada in geometry_region['coords']]\n",
    "scatter = ax.scatter(xs, ys, markersize, alpha=0.6, color=\"#f24646\")\n",
    "\n",
    "handles, labels = scatter.legend_elements(prop=\"sizes\", alpha=0.6, color='#f24646', num=5)\n",
    "for i in range(len(labels)):\n",
    "    labels[i] = re.findall(r\"\\{.+\\}\", labels[i])[0][1:-1]\n",
    "    labels[i] = str(int(labels[i])//8)"
   ]
  },
  {
   "cell_type": "code",
   "execution_count": null,
   "metadata": {},
   "outputs": [],
   "source": [
    "#Defineção da legenda\n",
    "legend ='''ax.legend(handles, labels, title=\"Número de óbitos\", loc=3,borderpad=3, labelspacing=2.8, handlelength=9, title_fontsize=25, fontsize=18, frameon=False)'''\n",
    "#Loop para cada semana epidemiológica\n",
    "for semana in range(9, 32):\n",
    "    #Plota a base do mapa\n",
    "    fig, ax = plt.subplots(figsize=(20, 20))\n",
    "    semana_x = region_df[region_df.epidemiological_week == semana]\n",
    "\n",
    "    #Define o tamanho de cada círculo\n",
    "    markersize = []\n",
    "    for linha in semana_x.itertuples():\n",
    "        markersize.append(linha.new_week_deaths*10)\n",
    "\n",
    "    #Plota as linhas dos limites das macrorregiões\n",
    "    geometry_region.plot(ax=ax, facecolor='#cccccc')\n",
    "    semana_x.geometry.boundary.plot(color=None, edgecolor='#444444', linewidth = 0.2, ax=ax)\n",
    "    \n",
    "    #Plota os circulos\n",
    "    ax.scatter(xs, ys, markersize, alpha=0.6, color=\"#f24646\")\n",
    "\n",
    "    #Desenhar a seta que representa o Norte\n",
    "    ax.annotate('', xy=(-35, -30), xytext=(-35, -33), arrowprops=dict(arrowstyle= '->', color='k', lw=2, mutation_scale=20))\n",
    "    ax.text(-35, -30, \"N\", ha=\"center\", va=\"bottom\", size=20)\n",
    "    ax.axis('off')\n",
    "\n",
    "    #Escreve a sigla de cada estado\n",
    "    for i, j in geometry_region.iterrows():\n",
    "        plt.annotate(s=j['region'], xy=j['coords'], horizontalalignment='center', verticalalignment='center', fontsize=20)\n",
    "\n",
    "    #Executa a definição prévia da legenda\n",
    "    exec(legend)\n",
    "    #Define o título\n",
    "    plt.title(f\"Novos óbitos por macrorregião - Semana {semana}\", fontsize=30)\n",
    "    #Salva o arquivo da imagem\n",
    "    plt.savefig(f\"{diretorio}/Mapas/Macrorregião/Novos Óbitos/semana_{semana}_novos_obitos_macrorregioes.png\")\n",
    "    #Retira parte das bordas da imagem\n",
    "    im = Image.open(f\"{diretorio}/Mapas/Macrorregião/Novos Óbitos/semana_{semana}_novos_obitos_macrorregioes.png\")\n",
    "    im = im.crop((150,120,1290,1270))\n",
    "    im.save(f\"{diretorio}/Mapas/Macrorregião/Novos Óbitos/semana_{semana}_novos_obitos_macrorregioes.png\")"
   ]
  },
  {
   "cell_type": "code",
   "execution_count": null,
   "metadata": {},
   "outputs": [],
   "source": [
    "#Cria um arquivo gif a partir de todos os pngs\n",
    "images = []\n",
    "for semana in range(9,32):\n",
    "    images.append(Image.open(f'{diretorio}/Mapas/Macrorregião/Novos Óbitos/semana_{semana}_novos_obitos_macrorregioes.png'))\n",
    "\n",
    "images[0].save(f'{diretorio}/Mapas/Gifs/mapa_novos_obitos_macrorregioes.gif', save_all=True, append_images=images, duration=500, loop=0)"
   ]
  },
  {
   "cell_type": "markdown",
   "metadata": {},
   "source": [
    "# Nível de Unidade Federativa"
   ]
  },
  {
   "cell_type": "code",
   "execution_count": null,
   "metadata": {},
   "outputs": [],
   "source": [
    "geometry_states = geobr.read_state(year=2018)"
   ]
  },
  {
   "cell_type": "code",
   "execution_count": null,
   "metadata": {},
   "outputs": [],
   "source": [
    "geometry_states['code_state'] = geometry_states['code_state'].astype('int64') \n",
    "geometry_states"
   ]
  },
  {
   "cell_type": "code",
   "execution_count": null,
   "metadata": {},
   "outputs": [],
   "source": [
    "geometry_states = geometry_states.rename(columns={'abbrev_state':'state'})\n",
    "geometry_states"
   ]
  },
  {
   "cell_type": "code",
   "execution_count": null,
   "metadata": {},
   "outputs": [],
   "source": [
    "states_df = pd.merge(states_df, geometry_states, how='left', on='state')\n",
    "states_df"
   ]
  },
  {
   "cell_type": "code",
   "execution_count": null,
   "metadata": {},
   "outputs": [],
   "source": [
    "#Cria uma cópia do dataframe para não persistir nenhuma alteração\n",
    "geometry_states = gpd.GeoDataFrame(geometry_states)\n",
    "states_df = gpd.GeoDataFrame(states_df)\n",
    "#Cria uma nova coluna com as coordenadas do ponto representativo de cada macrorregião\n",
    "geometry_states['coords'] = geometry_states['geometry'].apply(lambda x: x.representative_point().coords[:])\n",
    "geometry_states['coords'] = [coords[0] for coords in geometry_states['coords']]"
   ]
  },
  {
   "cell_type": "markdown",
   "metadata": {},
   "source": [
    "## Letalidade"
   ]
  },
  {
   "cell_type": "code",
   "execution_count": null,
   "metadata": {},
   "outputs": [],
   "source": [
    "#Faz a plotagem dos mapas por semana epidemiológica\n",
    "for semana in range(9,32):\n",
    "    semana_x = states_df[states_df.epidemiological_week == semana]\n",
    "\n",
    "    #Cria uma cópia do dataframe para não persistir nenhuma alteração\n",
    "    df_copy = gpd.GeoDataFrame(states_df)\n",
    "\n",
    "    #Prepara a base onde as outras camadas do mapa são plotadas\n",
    "    fig, ax = plt.subplots(figsize=(20, 15))\n",
    "    #Plota as cores nas macrorregiões de acordo com a letalidade\n",
    "    semana_x.plot(column='lethality', cmap='Reds', vmin=0.0, legend=True,legend_kwds={'label': f\"(Em %)\", 'orientation': \"vertical\"},vmax=states_df['lethality'].max(), ax=ax)\n",
    "\n",
    "    #Escreve qual a semana representada\n",
    "    ax.annotate(f'Semana {semana}', xy=(0.1,.225),xycoords='figure fraction',horizontalalignment='left', verticalalignment='top',fontsize=35)\n",
    "    #Desenha as linhas de limite entre as macrorregiões\n",
    "    df_copy.geometry.boundary.plot(color=None,edgecolor='#888888',linewidth = 0.1,ax=ax)\n",
    "    #Escreve o título\n",
    "    ax.set_title(f\"Letalidade COVID-19 por Unidade Federativa (em %)\", fontdict={'fontsize':25})\n",
    "    #Remove os eixos x e y\n",
    "    ax.axis('off')\n",
    "    \n",
    "    #Escreve o nome de cada macrorregião no ponto representativo predefinido\n",
    "    for i, j in geometry_states.iterrows():\n",
    "        plt.annotate(s=j['state'], xy=j['coords'], horizontalalignment='center', verticalalignment='center', fontsize=20)\n",
    "    #Salva cada mapa como um png\n",
    "    chart = ax.get_figure()\n",
    "    chart.savefig(f'{diretorio}/Mapas/Unidade Federativa/Letalidade/semana_{semana}_letalidade_estados.png', dpi=120)"
   ]
  },
  {
   "cell_type": "code",
   "execution_count": null,
   "metadata": {},
   "outputs": [],
   "source": [
    "#Cria um arquivo gif a partir de todos os pngs\n",
    "images = []\n",
    "for semana in range(9,32):\n",
    "    images.append(Image.open(f'{diretorio}/Mapas/Unidade Federativa/Letalidade/semana_{semana}_letalidade_estados.png'))\n",
    "\n",
    "images[0].save(f'{diretorio}/Mapas/Gifs/mapa_letalidade_estados.gif', save_all=True, append_images=images, duration=500, loop=0)"
   ]
  },
  {
   "cell_type": "markdown",
   "metadata": {},
   "source": [
    "## Mortalidade"
   ]
  },
  {
   "cell_type": "code",
   "execution_count": null,
   "metadata": {},
   "outputs": [],
   "source": [
    "#Faz a plotagem dos mapas por semana epidemiológica\n",
    "for semana in range(9,32):\n",
    "    semana_x = states_df[states_df.epidemiological_week == semana]\n",
    "\n",
    "    #Cria uma cópia do dataframe para não persistir nenhuma alteração\n",
    "    df_copy = gpd.GeoDataFrame(states_df)\n",
    "\n",
    "    #Prepara a base onde as outras camadas do mapa são plotadas\n",
    "    fig, ax = plt.subplots(figsize=(20, 15))\n",
    "    #Plota as cores nas macrorregiões de acordo com a letalidade\n",
    "    semana_x.plot(column='mortality', cmap='Reds', vmin=0.0, legend=True,legend_kwds={'label': f\"(Por 100 mil habitantes)\", 'orientation': \"vertical\"},vmax=states_df['mortality'].max(), ax=ax)\n",
    "\n",
    "    #Escreve qual a semana representada\n",
    "    ax.annotate(f'Semana {semana}', xy=(0.1,.225),xycoords='figure fraction',horizontalalignment='left', verticalalignment='top',fontsize=35)\n",
    "    #Desenha as linhas de limite entre as macrorregiões\n",
    "    df_copy.geometry.boundary.plot(color=None,edgecolor='#888888',linewidth = 0.1,ax=ax)\n",
    "    #Escreve o título\n",
    "    ax.set_title(f\"Mortalidade COVID-19 por Unidade Federativa (por 100 mil habitantes)\", fontdict={'fontsize':25})\n",
    "    #Remove os eixos x e y\n",
    "    ax.axis('off')\n",
    "    \n",
    "    #Escreve o nome de cada macrorregião no ponto representativo predefinido\n",
    "    for i, j in geometry_states.iterrows():\n",
    "        plt.annotate(s=j['state'], xy=j['coords'], horizontalalignment='center', verticalalignment='center', fontsize=20)\n",
    "    #Salva cada mapa como um png\n",
    "    chart = ax.get_figure()\n",
    "    chart.savefig(f'{diretorio}/Mapas/Unidade Federativa/Mortalidade/semana_{semana}_mortalidade_estados.png', dpi=120)"
   ]
  },
  {
   "cell_type": "code",
   "execution_count": null,
   "metadata": {},
   "outputs": [],
   "source": [
    "#Cria um arquivo gif a partir de todos os pngs\n",
    "images = []\n",
    "for semana in range(9,32):\n",
    "    images.append(Image.open(f'{diretorio}/Mapas/Unidade Federativa/Mortalidade/semana_{semana}_mortalidade_estados.png'))\n",
    "\n",
    "images[0].save(f'{diretorio}/Mapas/Gifs/mapa_mortalidade_estados.gif', save_all=True, append_images=images, duration=500, loop=0)"
   ]
  },
  {
   "cell_type": "markdown",
   "metadata": {},
   "source": [
    "## Incidência de Casos"
   ]
  },
  {
   "cell_type": "code",
   "execution_count": null,
   "metadata": {},
   "outputs": [],
   "source": [
    "#Faz a plotagem dos mapas por semana epidemiológica\n",
    "for semana in range(9,32):\n",
    "    semana_x = states_df[states_df.epidemiological_week == semana]\n",
    "\n",
    "    #Cria uma cópia do dataframe para não persistir nenhuma alteração\n",
    "    df_copy = gpd.GeoDataFrame(states_df)\n",
    "\n",
    "    #Prepara a base onde as outras camadas do mapa são plotadas\n",
    "    fig, ax = plt.subplots(figsize=(20, 15))\n",
    "    #Plota as cores nas macrorregiões de acordo com a letalidade\n",
    "    semana_x.plot(column='incidence_cases', cmap='Blues', vmin=0.0, legend=True,legend_kwds={'label': f\"(Por 100 mil habitantes)\", 'orientation': \"vertical\"},vmax=states_df['incidence_cases'].max(), ax=ax)\n",
    "\n",
    "    #Escreve qual a semana representada\n",
    "    ax.annotate(f'Semana {semana}', xy=(0.1,.225),xycoords='figure fraction',horizontalalignment='left', verticalalignment='top',fontsize=35)\n",
    "    #Desenha as linhas de limite entre as macrorregiões\n",
    "    df_copy.geometry.boundary.plot(color=None,edgecolor='#888888',linewidth = 0.1,ax=ax)\n",
    "    #Escreve o título\n",
    "    ax.set_title(f\"Incidência de Casos de COVID-19 por Unidade Federativa (por 100 mil habitantes)\", fontdict={'fontsize':25})\n",
    "    #Remove os eixos x e y\n",
    "    ax.axis('off')\n",
    "    \n",
    "    #Escreve o nome de cada macrorregião no ponto representativo predefinido\n",
    "    for i, j in geometry_states.iterrows():\n",
    "        plt.annotate(s=j['state'], xy=j['coords'], horizontalalignment='center', verticalalignment='center', fontsize=20)\n",
    "    #Salva cada mapa como um png\n",
    "    chart = ax.get_figure()\n",
    "    chart.savefig(f'{diretorio}/Mapas/Unidade Federativa/Incidência de Casos/semana_{semana}_incidencia_casos_estados.png', dpi=120)"
   ]
  },
  {
   "cell_type": "code",
   "execution_count": null,
   "metadata": {},
   "outputs": [],
   "source": [
    "#Cria um arquivo gif a partir de todos os pngs\n",
    "images = []\n",
    "for semana in range(9,32):\n",
    "    images.append(Image.open(f'{diretorio}/Mapas/Unidade Federativa/Incidência de Casos/semana_{semana}_incidencia_casos_estados.png'))\n",
    "\n",
    "images[0].save(f'{diretorio}/Mapas/Gifs/mapa_incidencia_casos_estados.gif', save_all=True, append_images=images, duration=500, loop=0)"
   ]
  },
  {
   "cell_type": "markdown",
   "metadata": {},
   "source": [
    "## Incidência de Óbitos"
   ]
  },
  {
   "cell_type": "code",
   "execution_count": null,
   "metadata": {},
   "outputs": [],
   "source": [
    "#Faz a plotagem dos mapas por semana epidemiológica\n",
    "for semana in range(9,32):\n",
    "    semana_x = states_df[states_df.epidemiological_week == semana]\n",
    "\n",
    "    #Cria uma cópia do dataframe para não persistir nenhuma alteração\n",
    "    df_copy = gpd.GeoDataFrame(states_df)\n",
    "\n",
    "    #Prepara a base onde as outras camadas do mapa são plotadas\n",
    "    fig, ax = plt.subplots(figsize=(20, 15))\n",
    "    #Plota as cores nas macrorregiões de acordo com a letalidade\n",
    "    semana_x.plot(column='incidence_deaths', cmap='Reds', vmin=0.0, legend=True,legend_kwds={'label': f\"(Por 100 mil habitantes)\", 'orientation': \"vertical\"},vmax=states_df['incidence_deaths'].max(), ax=ax)\n",
    "\n",
    "    #Escreve qual a semana representada\n",
    "    ax.annotate(f'Semana {semana}', xy=(0.1,.225),xycoords='figure fraction',horizontalalignment='left', verticalalignment='top',fontsize=35)\n",
    "    #Desenha as linhas de limite entre as macrorregiões\n",
    "    df_copy.geometry.boundary.plot(color=None,edgecolor='#888888',linewidth = 0.1,ax=ax)\n",
    "    #Escreve o título\n",
    "    ax.set_title(f\"Incidência de Óbitos de COVID-19 por Unidade Federativa (por 100 mil habitantes)\", fontdict={'fontsize':25})\n",
    "    #Remove os eixos x e y\n",
    "    ax.axis('off')\n",
    "    \n",
    "    #Escreve o nome de cada macrorregião no ponto representativo predefinido\n",
    "    for i, j in geometry_states.iterrows():\n",
    "        plt.annotate(s=j['state'], xy=j['coords'], horizontalalignment='center', verticalalignment='center', fontsize=20)\n",
    "    #Salva cada mapa como um png\n",
    "    chart = ax.get_figure()\n",
    "    chart.savefig(f'{diretorio}/Mapas/Unidade Federativa/Incidência de Óbitos/semana_{semana}_incidencia_obitos_estados.png', dpi=120)"
   ]
  },
  {
   "cell_type": "code",
   "execution_count": null,
   "metadata": {},
   "outputs": [],
   "source": [
    "#Cria um arquivo gif a partir de todos os pngs\n",
    "images = []\n",
    "for semana in range(9,32):\n",
    "    images.append(Image.open(f'{diretorio}/Mapas/Unidade Federativa/Incidência de Óbitos/semana_{semana}_incidencia_obitos_estados.png'))\n",
    "\n",
    "images[0].save(f'{diretorio}/Mapas/Gifs/mapa_incidencia_obitos_estados.gif', save_all=True, append_images=images, duration=500, loop=0)"
   ]
  },
  {
   "cell_type": "markdown",
   "metadata": {},
   "source": [
    "## Fator de Crescimento de Casos"
   ]
  },
  {
   "cell_type": "code",
   "execution_count": null,
   "metadata": {},
   "outputs": [],
   "source": [
    "#Faz a plotagem dos mapas por semana epidemiológica\n",
    "for semana in range(9,32):\n",
    "    semana_x = states_df[states_df.epidemiological_week == semana]\n",
    "\n",
    "    #Cria uma cópia do dataframe para não persistir nenhuma alteração\n",
    "    df_copy = gpd.GeoDataFrame(states_df)\n",
    "\n",
    "    #Prepara a base onde as outras camadas do mapa são plotadas\n",
    "    fig, ax = plt.subplots(figsize=(20, 15))\n",
    "    #Plota as cores nas macrorregiões de acordo com a letalidade\n",
    "    semana_x.plot(column='cases_growth_factor', cmap='Blues', vmin=0.0, legend=True,legend_kwds={'label': f\"(Em relação a semana epidemiológica anterior)\", 'orientation': \"vertical\"},vmax=states_df['cases_growth_factor'].max(), ax=ax)\n",
    "\n",
    "    #Escreve qual a semana representada\n",
    "    ax.annotate(f'Semana {semana}', xy=(0.1,.225),xycoords='figure fraction',horizontalalignment='left', verticalalignment='top',fontsize=35)\n",
    "    #Desenha as linhas de limite entre as macrorregiões\n",
    "    df_copy.geometry.boundary.plot(color=None,edgecolor='#888888',linewidth = 0.1,ax=ax)\n",
    "    #Escreve o título\n",
    "    ax.set_title(f\"Fator de Crescimento de Casos de COVID-19 por Unidade Federativa\", fontdict={'fontsize':25})\n",
    "    #Remove os eixos x e y\n",
    "    ax.axis('off')\n",
    "    \n",
    "    #Escreve o nome de cada macrorregião no ponto representativo predefinido\n",
    "    for i, j in geometry_states.iterrows():\n",
    "        plt.annotate(s=j['state'], xy=j['coords'], horizontalalignment='center', verticalalignment='center', fontsize=20)\n",
    "    #Salva cada mapa como um png\n",
    "    chart = ax.get_figure()\n",
    "    chart.savefig(f'{diretorio}/Mapas/Unidade Federativa/Fator de Crescimento de Casos/semana_{semana}_crescimento_casos_estados.png', dpi=120)"
   ]
  },
  {
   "cell_type": "code",
   "execution_count": null,
   "metadata": {},
   "outputs": [],
   "source": [
    "#Cria um arquivo gif a partir de todos os pngs\n",
    "images = []\n",
    "for semana in range(9,32):\n",
    "    images.append(Image.open(f'{diretorio}/Mapas/Unidade Federativa/Fator de Crescimento de Casos/semana_{semana}_crescimento_casos_estados.png'))\n",
    "\n",
    "images[0].save(f'{diretorio}/Mapas/Gifs/mapa_crescimento_casos_estados.gif', save_all=True, append_images=images, duration=500, loop=0)"
   ]
  },
  {
   "cell_type": "markdown",
   "metadata": {},
   "source": [
    "## Fator de Crescimento de Óbitos"
   ]
  },
  {
   "cell_type": "code",
   "execution_count": null,
   "metadata": {},
   "outputs": [],
   "source": [
    "#Faz a plotagem dos mapas por semana epidemiológica\n",
    "for semana in range(9,32):\n",
    "    semana_x = states_df[states_df.epidemiological_week == semana]\n",
    "\n",
    "    #Cria uma cópia do dataframe para não persistir nenhuma alteração\n",
    "    df_copy = gpd.GeoDataFrame(states_df)\n",
    "\n",
    "    #Prepara a base onde as outras camadas do mapa são plotadas\n",
    "    fig, ax = plt.subplots(figsize=(20, 15))\n",
    "    #Plota as cores nas macrorregiões de acordo com a letalidade\n",
    "    semana_x.plot(column='deaths_growth_factor', cmap='Reds', vmin=0.0, legend=True,legend_kwds={'label': f\"Em relação a semana epidemiológica anterior\", 'orientation': \"vertical\"},vmax=states_df['deaths_growth_factor'].max(), ax=ax)\n",
    "\n",
    "    #Escreve qual a semana representada\n",
    "    ax.annotate(f'Semana {semana}', xy=(0.1,.225),xycoords='figure fraction',horizontalalignment='left', verticalalignment='top',fontsize=35)\n",
    "    #Desenha as linhas de limite entre as macrorregiões\n",
    "    df_copy.geometry.boundary.plot(color=None,edgecolor='#888888',linewidth = 0.1,ax=ax)\n",
    "    #Escreve o título\n",
    "    ax.set_title(f\"Fator de Crescimento de Óbitos de COVID-19 por Unidade Federativa\", fontdict={'fontsize':25})\n",
    "    #Remove os eixos x e y\n",
    "    ax.axis('off')\n",
    "    \n",
    "    #Escreve o nome de cada macrorregião no ponto representativo predefinido\n",
    "    for i, j in geometry_states.iterrows():\n",
    "        plt.annotate(s=j['state'], xy=j['coords'], horizontalalignment='center', verticalalignment='center', fontsize=20)\n",
    "    #Salva cada mapa como um png\n",
    "    chart = ax.get_figure()\n",
    "    chart.savefig(f'{diretorio}/Mapas/Unidade Federativa/Fator de Crescimento de Óbitos/semana_{semana}_crescimento_obitos_estados.png', dpi=120)"
   ]
  },
  {
   "cell_type": "code",
   "execution_count": null,
   "metadata": {},
   "outputs": [],
   "source": [
    "#Cria um arquivo gif a partir de todos os pngs\n",
    "images = []\n",
    "for semana in range(9,32):\n",
    "    images.append(Image.open(f'{diretorio}/Mapas/Unidade Federativa/Fator de Crescimento de Óbitos/semana_{semana}_crescimento_obitos_estados.png'))\n",
    "\n",
    "images[0].save(f'{diretorio}/Mapas/Gifs/mapa_crescimento_obitos_estados.gif', save_all=True, append_images=images, duration=500, loop=0)"
   ]
  },
  {
   "cell_type": "markdown",
   "metadata": {},
   "source": [
    "## Prevalência"
   ]
  },
  {
   "cell_type": "code",
   "execution_count": null,
   "metadata": {},
   "outputs": [],
   "source": [
    "#Faz a plotagem dos mapas por semana epidemiológica\n",
    "for semana in range(9,32):\n",
    "    semana_x = states_df[states_df.epidemiological_week == semana]\n",
    "\n",
    "    #Cria uma cópia do dataframe para não persistir nenhuma alteração\n",
    "    df_copy = gpd.GeoDataFrame(states_df)\n",
    "\n",
    "    #Prepara a base onde as outras camadas do mapa são plotadas\n",
    "    fig, ax = plt.subplots(figsize=(20, 15))\n",
    "    #Plota as cores nas macrorregiões de acordo com a letalidade\n",
    "    semana_x.plot(column='prevalence', cmap='Blues', vmin=0.0, legend=True,legend_kwds={'label': f\"Por 100 mil habitantes\", 'orientation': \"vertical\"},vmax=states_df['prevalence'].max(), ax=ax)\n",
    "\n",
    "    #Escreve qual a semana representada\n",
    "    ax.annotate(f'Semana {semana}', xy=(0.1,.225),xycoords='figure fraction',horizontalalignment='left', verticalalignment='top',fontsize=35)\n",
    "    #Desenha as linhas de limite entre as macrorregiões\n",
    "    df_copy.geometry.boundary.plot(color=None,edgecolor='#888888',linewidth = 0.1,ax=ax)\n",
    "    #Escreve o título\n",
    "    ax.set_title(f\"Prevalência de COVID-19 por Unidade Federativa (por 100 mil habitantes)\", fontdict={'fontsize':25})\n",
    "    #Remove os eixos x e y\n",
    "    ax.axis('off')\n",
    "    \n",
    "    #Escreve o nome de cada macrorregião no ponto representativo predefinido\n",
    "    for i, j in geometry_states.iterrows():\n",
    "        plt.annotate(s=j['state'], xy=j['coords'], horizontalalignment='center', verticalalignment='center', fontsize=20)\n",
    "    #Salva cada mapa como um png\n",
    "    chart = ax.get_figure()\n",
    "    chart.savefig(f'{diretorio}/Mapas/Unidade Federativa/Prevalência/semana_{semana}_prevalencia_estados.png', dpi=120)"
   ]
  },
  {
   "cell_type": "code",
   "execution_count": null,
   "metadata": {},
   "outputs": [],
   "source": [
    "#Cria um arquivo gif a partir de todos os pngs\n",
    "images = []\n",
    "for semana in range(9,32):\n",
    "    images.append(Image.open(f'{diretorio}/Mapas/Unidade Federativa/Prevalência/semana_{semana}_prevalencia_estados.png'))\n",
    "\n",
    "images[0].save(f'{diretorio}/Mapas/Gifs/mapa_prevalencia_estados.gif', save_all=True, append_images=images, duration=500, loop=0)"
   ]
  },
  {
   "cell_type": "markdown",
   "metadata": {},
   "source": [
    "## Casos Acumulados"
   ]
  },
  {
   "cell_type": "code",
   "execution_count": null,
   "metadata": {},
   "outputs": [],
   "source": [
    "#Pré-plota para gerar uma escala para a legenda, tendo como base a semana 31\n",
    "fig, ax = plt.subplots(figsize=(20, 20))\n",
    "semana_x = states_df[states_df.epidemiological_week == 31]\n",
    "\n",
    "markersize = []\n",
    "for linha in semana_x.itertuples():\n",
    "    markersize.append(linha.last_available_confirmed/35)\n",
    "    \n",
    "semana_x.plot(ax=ax, facecolor='#cccccc')\n",
    "\n",
    "#Pega as coordenadas que serão os centros dos círculos\n",
    "xs=[coordenada[0] for coordenada in geometry_states['coords']]\n",
    "ys=[coordenada[1] for coordenada in geometry_states['coords']]\n",
    "scatter = ax.scatter(xs, ys, markersize, alpha=0.6, color=\"#267bb4\")\n",
    "\n",
    "handles, labels = scatter.legend_elements(prop=\"sizes\", alpha=0.6, color='#267bb4', num=5)\n",
    "for i in range(len(labels)):\n",
    "    labels[i] = re.findall(r\"\\{.+\\}\", labels[i])[0][1:-1]\n",
    "    labels[i] = str(int(labels[i])*35)"
   ]
  },
  {
   "cell_type": "code",
   "execution_count": null,
   "metadata": {},
   "outputs": [],
   "source": [
    "#Defineção da legenda\n",
    "legend ='''ax.legend(handles, labels, title=\"Número de casos\", loc=3,borderpad=3, labelspacing=2.7, handlelength=9, title_fontsize=25, fontsize=18, frameon=False)'''\n",
    "#Loop para cada semana epidemiológica\n",
    "for semana in range(9, 32):\n",
    "    #Plota a base do mapa\n",
    "    fig, ax = plt.subplots(figsize=(20, 20))\n",
    "    semana_x = states_df[states_df.epidemiological_week == semana]\n",
    "\n",
    "    #Define o tamanho de cada círculo\n",
    "    markersize = []\n",
    "    for linha in semana_x.itertuples():\n",
    "        markersize.append(linha.last_available_confirmed/20)\n",
    "\n",
    "    #Plota as linhas dos limites das macrorregiões\n",
    "    geometry_states.plot(ax=ax, facecolor='#cccccc')\n",
    "    semana_x.geometry.boundary.plot(color=None, edgecolor='#444444', linewidth = 0.2, ax=ax)\n",
    "    \n",
    "    #Plota os circulos\n",
    "    ax.scatter(xs, ys, markersize, alpha=0.6, color=\"#267bb4\")\n",
    "\n",
    "    #Desenhar a seta que representa o Norte\n",
    "    ax.annotate('', xy=(-35, -30), xytext=(-35, -33), arrowprops=dict(arrowstyle= '->', color='k', lw=2, mutation_scale=20))\n",
    "    ax.text(-35, -30, \"N\", ha=\"center\", va=\"bottom\", size=20)\n",
    "    ax.axis('off')\n",
    "\n",
    "    #Escreve a sigla de cada estado\n",
    "    for i, j in geometry_states.iterrows():\n",
    "        plt.annotate(s=j['state'], xy=j['coords'], horizontalalignment='center', verticalalignment='center', fontsize=20)\n",
    "\n",
    "    #Executa a definição prévia da legenda\n",
    "    exec(legend)\n",
    "    #Define o título\n",
    "    plt.title(f\"Casos Acumulados por Unidade Federativa - Semana {semana}\", fontsize=30)\n",
    "    #Salva o arquivo da imagem\n",
    "    plt.savefig(f\"{diretorio}/Mapas/Unidade Federativa/Casos Acumulados/semana_{semana}_casos_acumulados_estados.png\")\n",
    "    #Retira parte das bordas da imagem\n",
    "    im = Image.open(f\"{diretorio}/Mapas/Unidade Federativa/Casos Acumulados/semana_{semana}_casos_acumulados_estados.png\")\n",
    "    im = im.crop((150,120,1290,1270))\n",
    "    im.save(f\"{diretorio}/Mapas/Unidade Federativa/Casos Acumulados/semana_{semana}_casos_acumulados_estados.png\")"
   ]
  },
  {
   "cell_type": "code",
   "execution_count": null,
   "metadata": {},
   "outputs": [],
   "source": [
    "#Cria um arquivo gif a partir de todos os pngs\n",
    "images = []\n",
    "for semana in range(9,32):\n",
    "    images.append(Image.open(f'{diretorio}/Mapas/Unidade Federativa/Casos Acumulados/semana_{semana}_casos_acumulados_estados.png'))\n",
    "\n",
    "images[0].save(f'{diretorio}/Mapas/Gifs/mapa_casos_acumulados_estados.gif', save_all=True, append_images=images, duration=500, loop=0)"
   ]
  },
  {
   "cell_type": "markdown",
   "metadata": {},
   "source": [
    "## Óbitos Acumulados"
   ]
  },
  {
   "cell_type": "code",
   "execution_count": null,
   "metadata": {},
   "outputs": [],
   "source": [
    "#Pré-plot pra gerar uma escala para a legenda de óbitos por municipio, tendo como base a semana 31\n",
    "fig, ax = plt.subplots(figsize=(20, 20))\n",
    "semana_x = states_df[states_df.epidemiological_week == 31]\n",
    "\n",
    "markersize = []\n",
    "for linha in semana_x.itertuples():\n",
    "    markersize.append(linha.last_available_deaths//1.5)\n",
    "    \n",
    "semana_x.plot(ax=ax, facecolor='#cccccc')\n",
    "\n",
    "#Pega as coordenadas que serão os centros dos círculos\n",
    "xs=[coordenada[0] for coordenada in geometry_states['coords']]\n",
    "ys=[coordenada[1] for coordenada in geometry_states['coords']]\n",
    "scatter = ax.scatter(xs, ys, markersize, alpha=0.6, color=\"#f24646\")\n",
    "\n",
    "handles, labels = scatter.legend_elements(prop=\"sizes\", alpha=0.6, color='#f24646', num=5)\n",
    "for i in range(len(labels)):\n",
    "    labels[i] = re.findall(r\"\\{.+\\}\", labels[i])[0][1:-1]\n",
    "    labels[i] = str(int(int(labels[i])*1.5))"
   ]
  },
  {
   "cell_type": "code",
   "execution_count": null,
   "metadata": {},
   "outputs": [],
   "source": [
    "#Defineção da legenda\n",
    "legend ='''ax.legend(handles, labels, title=\"Número de óbitos\", loc=3,borderpad=3, labelspacing=2.8, handlelength=9, title_fontsize=25, fontsize=18, frameon=False)'''\n",
    "#Loop para cada semana epidemiológica\n",
    "for semana in range(9, 32):\n",
    "    #Plota a base do mapa\n",
    "    fig, ax = plt.subplots(figsize=(20, 20))\n",
    "    semana_x = states_df[states_df.epidemiological_week == semana]\n",
    "\n",
    "    #Define o tamanho de cada círculo\n",
    "    markersize = []\n",
    "    for linha in semana_x.itertuples():\n",
    "        markersize.append(linha.last_available_deaths)\n",
    "\n",
    "    #Plota as linhas dos limites das macrorregiões\n",
    "    geometry_states.plot(ax=ax, facecolor='#cccccc')\n",
    "    semana_x.geometry.boundary.plot(color=None, edgecolor='#444444', linewidth = 0.2, ax=ax)\n",
    "    \n",
    "    #Plota os circulos\n",
    "    ax.scatter(xs, ys, markersize, alpha=0.6, color=\"#f24646\")\n",
    "\n",
    "    #Desenhar a seta que representa o Norte\n",
    "    ax.annotate('', xy=(-35, -30), xytext=(-35, -33), arrowprops=dict(arrowstyle= '->', color='k', lw=2, mutation_scale=20))\n",
    "    ax.text(-35, -30, \"N\", ha=\"center\", va=\"bottom\", size=20)\n",
    "    ax.axis('off')\n",
    "\n",
    "    #Escreve a sigla de cada estado\n",
    "    for i, j in geometry_states.iterrows():\n",
    "        plt.annotate(s=j['state'], xy=j['coords'], horizontalalignment='center', verticalalignment='center', fontsize=20)\n",
    "\n",
    "    #Executa a definição prévia da legenda\n",
    "    exec(legend)\n",
    "    #Define o título\n",
    "    plt.title(f\"Óbitos Acumulados por Unidade Federativa - Semana {semana}\", fontsize=30)\n",
    "    #Salva o arquivo da imagem\n",
    "    plt.savefig(f\"{diretorio}/Mapas/Unidade Federativa/Óbitos Acumulados/semana_{semana}_obitos_acumulados_estados.png\")\n",
    "    #Retira parte das bordas da imagem\n",
    "    im = Image.open(f\"{diretorio}/Mapas/Unidade Federativa/Óbitos Acumulados/semana_{semana}_obitos_acumulados_estados.png\")\n",
    "    im = im.crop((150,120,1290,1270))\n",
    "    im.save(f\"{diretorio}/Mapas/Unidade Federativa/Óbitos Acumulados/semana_{semana}_obitos_acumulados_estados.png\")"
   ]
  },
  {
   "cell_type": "code",
   "execution_count": null,
   "metadata": {},
   "outputs": [],
   "source": [
    "#Cria um arquivo gif a partir de todos os pngs\n",
    "images = []\n",
    "for semana in range(9,32):\n",
    "    images.append(Image.open(f'{diretorio}/Mapas/Unidade Federativa/Óbitos Acumulados/semana_{semana}_obitos_acumulados_estados.png'))\n",
    "\n",
    "images[0].save(f'{diretorio}/Mapas/Gifs/mapa_obitos_acumulados_estados.gif', save_all=True, append_images=images, duration=500, loop=0)"
   ]
  },
  {
   "cell_type": "markdown",
   "metadata": {},
   "source": [
    "## Novos Casos"
   ]
  },
  {
   "cell_type": "code",
   "execution_count": null,
   "metadata": {},
   "outputs": [],
   "source": [
    "#Pré-plota para gerar uma escala para a legenda, tendo como base a semana 31\n",
    "fig, ax = plt.subplots(figsize=(20, 20))\n",
    "semana_x = states_df[states_df.epidemiological_week == 31]\n",
    "\n",
    "markersize = []\n",
    "for linha in semana_x.itertuples():\n",
    "    markersize.append(linha.new_week_cases/5)\n",
    "    \n",
    "semana_x.plot(ax=ax, facecolor='#cccccc')\n",
    "\n",
    "#Pega as coordenadas que serão os centros dos círculos\n",
    "xs=[coordenada[0] for coordenada in geometry_states['coords']]\n",
    "ys=[coordenada[1] for coordenada in geometry_states['coords']]\n",
    "scatter = ax.scatter(xs, ys, markersize, alpha=0.6, color=\"#267bb4\")\n",
    "\n",
    "handles, labels = scatter.legend_elements(prop=\"sizes\", alpha=0.6, color='#267bb4', num=5)\n",
    "for i in range(len(labels)):\n",
    "    labels[i] = re.findall(r\"\\{.+\\}\", labels[i])[0][1:-1]\n",
    "    labels[i] = str(int(labels[i])*5)"
   ]
  },
  {
   "cell_type": "code",
   "execution_count": null,
   "metadata": {},
   "outputs": [],
   "source": [
    "#Defineção da legenda\n",
    "legend ='''ax.legend(handles, labels, title=\"Número de casos\", loc=3,borderpad=3, labelspacing=2.5, handlelength=7, title_fontsize=25, fontsize=18, frameon=False)'''\n",
    "#Loop para cada semana epidemiológica\n",
    "for semana in range(9, 32):\n",
    "    #Plota a base do mapa\n",
    "    fig, ax = plt.subplots(figsize=(20, 20))\n",
    "    semana_x = states_df[states_df.epidemiological_week == semana]\n",
    "\n",
    "    #Define o tamanho de cada círculo\n",
    "    markersize = []\n",
    "    for linha in semana_x.itertuples():\n",
    "        markersize.append(linha.new_week_cases/3)\n",
    "\n",
    "    #Plota as linhas dos limites das macrorregiões\n",
    "    geometry_states.plot(ax=ax, facecolor='#cccccc')\n",
    "    semana_x.geometry.boundary.plot(color=None, edgecolor='#444444', linewidth = 0.2, ax=ax)\n",
    "    \n",
    "    #Plota os circulos\n",
    "    ax.scatter(xs, ys, markersize, alpha=0.6, color=\"#267bb4\")\n",
    "\n",
    "    #Desenhar a seta que representa o Norte\n",
    "    ax.annotate('', xy=(-35, -30), xytext=(-35, -33), arrowprops=dict(arrowstyle= '->', color='k', lw=2, mutation_scale=20))\n",
    "    ax.text(-35, -30, \"N\", ha=\"center\", va=\"bottom\", size=20)\n",
    "    ax.axis('off')\n",
    "\n",
    "    #Escreve a sigla de cada estado\n",
    "    for i, j in geometry_states.iterrows():\n",
    "        plt.annotate(s=j['state'], xy=j['coords'], horizontalalignment='center', verticalalignment='center', fontsize=20)\n",
    "\n",
    "    #Executa a definição prévia da legenda\n",
    "    exec(legend)\n",
    "    #Define o título\n",
    "    plt.title(f\"Novos Casos por Unidade Federativa - Semana {semana}\", fontsize=30)\n",
    "    #Salva o arquivo da imagem\n",
    "    plt.savefig(f\"{diretorio}/Mapas/Unidade Federativa/Novos Casos/semana_{semana}_novos_casos_estados.png\")\n",
    "    #Retira parte das bordas da imagem\n",
    "    im = Image.open(f\"{diretorio}/Mapas/Unidade Federativa/Novos Casos/semana_{semana}_novos_casos_estados.png\")\n",
    "    im = im.crop((150,120,1290,1270))\n",
    "    im.save(f\"{diretorio}/Mapas/Unidade Federativa/Novos Casos/semana_{semana}_novos_casos_estados.png\")"
   ]
  },
  {
   "cell_type": "code",
   "execution_count": null,
   "metadata": {},
   "outputs": [],
   "source": [
    "#Cria um arquivo gif a partir de todos os pngs\n",
    "images = []\n",
    "for semana in range(9,32):\n",
    "    images.append(Image.open(f'{diretorio}/Mapas/Unidade Federativa/Novos Casos/semana_{semana}_novos_casos_estados.png'))\n",
    "\n",
    "images[0].save(f'{diretorio}/Mapas/Gifs/mapa_novos_casos_estados.gif', save_all=True, append_images=images, duration=500, loop=0)"
   ]
  },
  {
   "cell_type": "markdown",
   "metadata": {},
   "source": [
    "## Novos Óbitos"
   ]
  },
  {
   "cell_type": "code",
   "execution_count": null,
   "metadata": {},
   "outputs": [],
   "source": [
    "#Pré-plot pra gerar uma escala para a legenda de óbitos por municipio, tendo como base a semana 31\n",
    "fig, ax = plt.subplots(figsize=(20, 20))\n",
    "semana_x = states_df[states_df.epidemiological_week == 31]\n",
    "\n",
    "markersize = []\n",
    "for linha in semana_x.itertuples():\n",
    "    markersize.append(linha.new_week_deaths*8)\n",
    "    \n",
    "semana_x.plot(ax=ax, facecolor='#cccccc')\n",
    "\n",
    "#Pega as coordenadas que serão os centros dos círculos\n",
    "xs=[coordenada[0] for coordenada in geometry_states['coords']]\n",
    "ys=[coordenada[1] for coordenada in geometry_states['coords']]\n",
    "scatter = ax.scatter(xs, ys, markersize, alpha=0.6, color=\"#f24646\")\n",
    "\n",
    "handles, labels = scatter.legend_elements(prop=\"sizes\", alpha=0.6, color='#f24646', num=5)\n",
    "for i in range(len(labels)):\n",
    "    labels[i] = re.findall(r\"\\{.+\\}\", labels[i])[0][1:-1]\n",
    "    labels[i] = str(int(labels[i])//8)"
   ]
  },
  {
   "cell_type": "code",
   "execution_count": null,
   "metadata": {},
   "outputs": [],
   "source": [
    "#Defineção da legenda\n",
    "legend ='''ax.legend(handles, labels, title=\"Número de óbitos\", loc=3,borderpad=3, labelspacing=2.8, handlelength=9, title_fontsize=25, fontsize=18, frameon=False)'''\n",
    "#Loop para cada semana epidemiológica\n",
    "for semana in range(9, 32):\n",
    "    #Plota a base do mapa\n",
    "    fig, ax = plt.subplots(figsize=(20, 20))\n",
    "    semana_x = states_df[states_df.epidemiological_week == semana]\n",
    "\n",
    "    #Define o tamanho de cada círculo\n",
    "    markersize = []\n",
    "    for linha in semana_x.itertuples():\n",
    "        markersize.append(linha.new_week_deaths*10)\n",
    "\n",
    "    #Plota as linhas dos limites das macrorregiões\n",
    "    geometry_states.plot(ax=ax, facecolor='#cccccc')\n",
    "    semana_x.geometry.boundary.plot(color=None, edgecolor='#444444', linewidth = 0.2, ax=ax)\n",
    "    \n",
    "    #Plota os circulos\n",
    "    ax.scatter(xs, ys, markersize, alpha=0.6, color=\"#f24646\")\n",
    "\n",
    "    #Desenhar a seta que representa o Norte\n",
    "    ax.annotate('', xy=(-35, -30), xytext=(-35, -33), arrowprops=dict(arrowstyle= '->', color='k', lw=2, mutation_scale=20))\n",
    "    ax.text(-35, -30, \"N\", ha=\"center\", va=\"bottom\", size=20)\n",
    "    ax.axis('off')\n",
    "\n",
    "    #Escreve a sigla de cada estado\n",
    "    for i, j in geometry_states.iterrows():\n",
    "        plt.annotate(s=j['state'], xy=j['coords'], horizontalalignment='center', verticalalignment='center', fontsize=20)\n",
    "\n",
    "    #Executa a definição prévia da legenda\n",
    "    exec(legend)\n",
    "    #Define o título\n",
    "    plt.title(f\"Novos Óbitos por Unidade Federativa - Semana {semana}\", fontsize=30)\n",
    "    #Salva o arquivo da imagem\n",
    "    plt.savefig(f\"{diretorio}/Mapas/Unidade Federativa/Novos Óbitos/semana_{semana}_novos_obitos_estados.png\")\n",
    "    #Retira parte das bordas da imagem\n",
    "    im = Image.open(f\"{diretorio}/Mapas/Unidade Federativa/Novos Óbitos/semana_{semana}_novos_obitos_estados.png\")\n",
    "    im = im.crop((150,120,1290,1270))\n",
    "    im.save(f\"{diretorio}/Mapas/Unidade Federativa/Novos Óbitos/semana_{semana}_novos_obitos_estados.png\")"
   ]
  },
  {
   "cell_type": "code",
   "execution_count": null,
   "metadata": {},
   "outputs": [],
   "source": [
    "#Cria um arquivo gif a partir de todos os pngs\n",
    "images = []\n",
    "for semana in range(9,32):\n",
    "    images.append(Image.open(f'{diretorio}/Mapas/Unidade Federativa/Novos Óbitos/semana_{semana}_novos_obitos_estados.png'))\n",
    "\n",
    "images[0].save(f'{diretorio}/Mapas/Gifs/mapa_novos_obitos_estados.gif', save_all=True, append_images=images, duration=500, loop=0)"
   ]
  },
  {
   "cell_type": "markdown",
   "metadata": {},
   "source": [
    "# Nível de Município"
   ]
  },
  {
   "cell_type": "code",
   "execution_count": null,
   "metadata": {},
   "outputs": [],
   "source": [
    "geometry_cities = geobr.read_municipality(year=2018)"
   ]
  },
  {
   "cell_type": "code",
   "execution_count": null,
   "metadata": {},
   "outputs": [],
   "source": [
    "geometry_cities['code_muni'] = geometry_cities['code_muni'].astype('int64') \n",
    "geometry_cities"
   ]
  },
  {
   "cell_type": "code",
   "execution_count": null,
   "metadata": {},
   "outputs": [],
   "source": [
    "geometry_cities = geometry_cities.rename(columns={'code_muni':'ibge_code'})\n",
    "geometry_cities"
   ]
  },
  {
   "cell_type": "code",
   "execution_count": null,
   "metadata": {},
   "outputs": [],
   "source": [
    "cities_df['ibge_code'] = cities_df['ibge_code'].astype('int64')"
   ]
  },
  {
   "cell_type": "code",
   "execution_count": null,
   "metadata": {},
   "outputs": [],
   "source": [
    "cities_df = pd.merge(cities_df, geometry_cities, how='left', on='ibge_code')\n",
    "cities_df"
   ]
  },
  {
   "cell_type": "code",
   "execution_count": null,
   "metadata": {},
   "outputs": [],
   "source": [
    "#Cria uma cópia do dataframe para não persistir nenhuma alteração\n",
    "geometry_cities = gpd.GeoDataFrame(geometry_cities)\n",
    "cities_df = gpd.GeoDataFrame(cities_df)\n",
    "#Cria uma nova coluna com as coordenadas do ponto representativo de cada município\n",
    "geometry_cities['coords'] = geometry_cities['geometry'].apply(lambda x: x.representative_point().coords[:])\n",
    "geometry_cities['coords'] = [coords[0] for coords in geometry_cities['coords']]"
   ]
  },
  {
   "cell_type": "markdown",
   "metadata": {},
   "source": [
    "## Casos Acumulados"
   ]
  },
  {
   "cell_type": "code",
   "execution_count": null,
   "metadata": {},
   "outputs": [],
   "source": [
    "#Pré-plot pra gerar uma escala para a legenda de óbitos por municipio, tendo como base a semana 31\n",
    "fig, ax = plt.subplots(figsize=(20, 20))\n",
    "semana_x = cities_df[cities_df.epidemiological_week == 31]\n",
    "\n",
    "markersize = []\n",
    "for linha in semana_x.itertuples():\n",
    "    markersize.append(linha.last_available_deaths)\n",
    "    \n",
    "semana_x.plot(ax=ax, facecolor='#cccccc')\n",
    "\n",
    "#Pega as coordenadas que serão os centros dos círculos\n",
    "xs=[coordenada[0] for coordenada in geometry_cities['coords']]\n",
    "ys=[coordenada[1] for coordenada in geometry_cities['coords']]\n",
    "scatter = ax.scatter(xs, ys, markersize, alpha=0.6, color=\"#267bb4\")\n",
    "\n",
    "handles, labels = scatter.legend_elements(prop=\"sizes\", alpha=0.6, color='#267bb4', num=5)\n",
    "for i in range(len(labels)):\n",
    "    labels[i] = re.findall(r\"\\{.+\\}\", labels[i])[0][1:-1]\n",
    "    labels[i] = str(int(labels[i]))"
   ]
  },
  {
   "cell_type": "code",
   "execution_count": null,
   "metadata": {},
   "outputs": [],
   "source": [
    "#Defineção da legenda\n",
    "legend ='''ax.legend(handles, labels, title=\"Número de óbitos\", loc=3,borderpad=3, labelspacing=2.8, handlelength=9, title_fontsize=25, fontsize=18, frameon=False)'''\n",
    "#Loop para cada semana epidemiológica\n",
    "for semana in range(9, 32):\n",
    "    #Plota a base do mapa\n",
    "    fig, ax = plt.subplots(figsize=(20, 20))\n",
    "    semana_x = cities_df[cities_df.epidemiological_week == semana]\n",
    "\n",
    "    #Define o tamanho de cada círculo\n",
    "    markersize = []\n",
    "    for linha in semana_x.itertuples():\n",
    "        markersize.append(linha.last_available_deaths)\n",
    "\n",
    "    #Plota as linhas dos limites dos estados\n",
    "    geometry_states.plot(ax=ax, facecolor='#cccccc')\n",
    "    geometry_states.geometry.boundary.plot(color=None, edgecolor='#444444', linewidth = 0.2, ax=ax)\n",
    "    \n",
    "    #Plota os circulos\n",
    "    ax.scatter(xs, ys, markersize, alpha=0.6, color=\"#267bb4\")\n",
    "\n",
    "    #Desenhar a seta que representa o Norte\n",
    "    ax.annotate('', xy=(-35, -30), xytext=(-35, -33), arrowprops=dict(arrowstyle= '->', color='k', lw=2, mutation_scale=20))\n",
    "    ax.text(-35, -30, \"N\", ha=\"center\", va=\"bottom\", size=20)\n",
    "    ax.axis('off')\n",
    "\n",
    "    #Escreve a sigla de cada estado\n",
    "    for i, j in geometry_states.iterrows():\n",
    "        plt.annotate(s=j['state'], xy=j['coords'], horizontalalignment='center', verticalalignment='center', fontsize=20)\n",
    "\n",
    "    #Executa a definição prévia da legenda\n",
    "    exec(legend)\n",
    "    #Define o título\n",
    "    plt.title(f\"Óbitos Acumulados por Município - Semana {semana}\", fontsize=30)\n",
    "    #Salva o arquivo da imagem\n",
    "    plt.savefig(f\"{diretorio}/Mapas/Município/Casos Acumulados/semana_{semana}_casos_acumulados_municipios.png\")\n",
    "    #Retira parte das bordas da imagem\n",
    "    im = Image.open(f\"{diretorio}/Mapas/Município/Casos Acumulados/semana_{semana}_casos_acumulados_municipios.png\")\n",
    "    im = im.crop((150,120,1290,1270))\n",
    "    im.save(f\"{diretorio}/Mapas/Município/Casos Acumulados/semana_{semana}_casos_acumulados_municipios.png\")"
   ]
  },
  {
   "cell_type": "code",
   "execution_count": null,
   "metadata": {},
   "outputs": [],
   "source": [
    "#Cria um arquivo gif a partir de todos os pngs\n",
    "images = []\n",
    "for semana in range(9,32):\n",
    "    images.append(Image.open(f'{diretorio}/Mapas/Município/Casos Acumulados/semana_{semana}_casos_acumulados_municipios.png'))\n",
    "\n",
    "images[0].save(f'{diretorio}/Mapas/Gifs/mapa_casos_acumulados_municipios.gif', save_all=True, append_images=images, duration=500, loop=0)"
   ]
  },
  {
   "cell_type": "markdown",
   "metadata": {},
   "source": [
    "# Óbitos Acumulados"
   ]
  },
  {
   "cell_type": "code",
   "execution_count": null,
   "metadata": {},
   "outputs": [],
   "source": [
    "#Pré-plot pra gerar uma escala para a legenda de óbitos por municipio, tendo como base a semana 31\n",
    "fig, ax = plt.subplots(figsize=(20, 20))\n",
    "semana_x = cities_df[cities_df.epidemiological_week == 31]\n",
    "semana_x = gpd.GeoDataFrame(semana_x)\n",
    "\n",
    "markersize = []\n",
    "for linha in semana_x.itertuples():\n",
    "    markersize.append(linha.last_available_confirmed/10)\n",
    "    \n",
    "semana_x.plot(ax=ax, facecolor='#cccccc')\n",
    "\n",
    "#Pega as coordenadas que serão os centros dos círculos\n",
    "xs=[coordenada[0] for coordenada in geometry_cities['coords']]\n",
    "ys=[coordenada[1] for coordenada in geometry_cities['coords']]\n",
    "scatter = ax.scatter(xs, ys, markersize, alpha=0.6, color=\"#f24646\")\n",
    "\n",
    "handles, labels = scatter.legend_elements(prop=\"sizes\", alpha=0.6, color='#f24646', num=5)\n",
    "for i in range(len(labels)):\n",
    "    labels[i] = re.findall(r\"\\{.+\\}\", labels[i])[0][1:-1]\n",
    "    labels[i] = str(int(labels[i])*10)"
   ]
  },
  {
   "cell_type": "code",
   "execution_count": null,
   "metadata": {},
   "outputs": [],
   "source": [
    "#Defineção da legenda\n",
    "legend ='''ax.legend(handles, labels, title=\"Número de óbitos\", loc=3,borderpad=3, labelspacing=2.8, handlelength=9, title_fontsize=25, fontsize=18, frameon=False)'''\n",
    "#Loop para cada semana epidemiológica\n",
    "for semana in range(9, 32):\n",
    "    #Plota a base do mapa\n",
    "    fig, ax = plt.subplots(figsize=(20, 20))\n",
    "    semana_x = cities_df[cities_df.epidemiological_week == semana]\n",
    "    semana_x = gpd.GeoDataFrame(semana_x)\n",
    "\n",
    "    #Define o tamanho de cada círculo\n",
    "    markersize = []\n",
    "    for linha in semana_x.itertuples():\n",
    "        markersize.append(linha.last_available_confirmed/10)\n",
    "\n",
    "    #Plota as linhas dos limites dos estados\n",
    "    geometry_states.plot(ax=ax, facecolor='#cccccc')\n",
    "    geometry_states.geometry.boundary.plot(color=None, edgecolor='#444444', linewidth = 0.2, ax=ax)\n",
    "    \n",
    "    #Plota os circulos\n",
    "    ax.scatter(xs, ys, markersize, alpha=0.6, color=\"#f24646\")\n",
    "\n",
    "    #Desenhar a seta que representa o Norte\n",
    "    ax.annotate('', xy=(-35, -30), xytext=(-35, -33), arrowprops=dict(arrowstyle= '->', color='k', lw=2, mutation_scale=20))\n",
    "    ax.text(-35, -30, \"N\", ha=\"center\", va=\"bottom\", size=20)\n",
    "    ax.axis('off')\n",
    "\n",
    "    #Escreve a sigla de cada estado\n",
    "    for i, j in geometry_states.iterrows():\n",
    "        plt.annotate(s=j['state'], xy=j['coords'], horizontalalignment='center', verticalalignment='center', fontsize=20)\n",
    "\n",
    "    #Executa a definição prévia da legenda\n",
    "    exec(legend)\n",
    "    #Define o título\n",
    "    plt.title(f\"Óbitos Acumulados por Município - Semana {semana}\", fontsize=30)\n",
    "    #Salva o arquivo da imagem\n",
    "    plt.savefig(f\"{diretorio}/Mapas/Município/Óbitos Acumulados/semana_{semana}_obitos_acumulados_municipios.png\")\n",
    "    #Retira parte das bordas da imagem\n",
    "    im = Image.open(f\"{diretorio}/Mapas/Município/Óbitos Acumulados/semana_{semana}_obitos_acumulados_municipios.png\")\n",
    "    im = im.crop((150,120,1290,1270))\n",
    "    im.save(f\"{diretorio}/Mapas/Município/Óbitos Acumulados/semana_{semana}_obitos_acumulados_municipios.png\")"
   ]
  },
  {
   "cell_type": "code",
   "execution_count": null,
   "metadata": {},
   "outputs": [],
   "source": [
    "#Cria um arquivo gif a partir de todos os pngs\n",
    "images = []\n",
    "for semana in range(9,32):\n",
    "    images.append(Image.open(f'{diretorio}/Mapas/Município/Óbitos Acumulados/semana_{semana}_obitos_acumulados_municipios.png'))\n",
    "\n",
    "images[0].save(f'{diretorio}/Mapas/Gifs/mapa_obitos_acumulados_municipios.gif', save_all=True, append_images=images, duration=500, loop=0)"
   ]
  },
  {
   "cell_type": "code",
   "execution_count": null,
   "metadata": {},
   "outputs": [],
   "source": []
  }
 ],
 "metadata": {
  "kernelspec": {
   "display_name": "Python 3",
   "language": "python",
   "name": "python3"
  },
  "language_info": {
   "codemirror_mode": {
    "name": "ipython",
    "version": 3
   },
   "file_extension": ".py",
   "mimetype": "text/x-python",
   "name": "python",
   "nbconvert_exporter": "python",
   "pygments_lexer": "ipython3",
   "version": "3.7.6"
  }
 },
 "nbformat": 4,
 "nbformat_minor": 4
}
