{
 "cells": [
  {
   "cell_type": "code",
   "execution_count": 1,
   "metadata": {},
   "outputs": [],
   "source": [
    "## importar bibliotecas"
   ]
  },
  {
   "cell_type": "code",
   "execution_count": 2,
   "metadata": {},
   "outputs": [],
   "source": [
    "import csv #permite ler e escrever arquivos em formato csv\n",
    "import matplotlib.pyplot as plt #permite criar graficos"
   ]
  },
  {
   "cell_type": "code",
   "execution_count": 3,
   "metadata": {},
   "outputs": [],
   "source": [
    "## Declara o local dos arquivos "
   ]
  },
  {
   "cell_type": "code",
   "execution_count": 4,
   "metadata": {},
   "outputs": [],
   "source": [
    "casos_por_estado = 'D:\\\\01_databases\\\\CovidDataAnalytics\\\\casos\\\\Novos_Casos_Por_Estado.csv'\n",
    "pasta_de_casos = 'D:\\\\01_databases\\\\CovidDataAnalytics\\\\covid\\\\csv para cada estado\\\\'"
   ]
  },
  {
   "cell_type": "code",
   "execution_count": 5,
   "metadata": {
    "tags": []
   },
   "outputs": [
    {
     "output_type": "stream",
     "name": "stdout",
     "text": "['city_ibge_code', 'date', 'epidemiological_week', 'state', 'new_confirmed']\n"
    }
   ],
   "source": [
    "with  open(casos_por_estado, 'r') as casos_csv:\n",
    "\n",
    "    arquivo = csv.reader(casos_csv)\n",
    "\n",
    "\n",
    "    casos = []\n",
    "    for linha in arquivo:\n",
    "        casos.append(linha)\n",
    "        \n",
    "    \n",
    "print(casos[0])"
   ]
  },
  {
   "cell_type": "code",
   "execution_count": 6,
   "metadata": {},
   "outputs": [],
   "source": [
    "## Coleta estados"
   ]
  },
  {
   "cell_type": "code",
   "execution_count": 7,
   "metadata": {
    "tags": []
   },
   "outputs": [
    {
     "output_type": "stream",
     "name": "stdout",
     "text": "['SP', 'ES', 'RJ', 'BA', 'DF', 'AL', 'MG', 'RS', 'GO', 'PB', 'PE', 'PR', 'RN', 'SC', 'AM', 'MS', 'SE', 'CE', 'AC', 'PA', 'TO', 'PI', 'AP', 'MA', 'MT', 'RO', 'RR']\n"
    }
   ],
   "source": [
    "states = []\n",
    "\n",
    "\n",
    "for linha in casos:\n",
    "\n",
    "    #pula primeira linha\n",
    "    if linha == casos[0]:\n",
    "        pass\n",
    "\n",
    "    #adiciona todos os estados numa lista\n",
    "    elif linha[3] not in states:\n",
    "        states.append(linha[3])\n",
    "\n",
    "print(states)\n",
    "\n",
    "    "
   ]
  },
  {
   "cell_type": "code",
   "execution_count": null,
   "metadata": {},
   "outputs": [],
   "source": []
  },
  {
   "cell_type": "code",
   "execution_count": 18,
   "metadata": {
    "tags": []
   },
   "outputs": [
    {
     "output_type": "error",
     "ename": "ValueError",
     "evalue": "could not convert string to float: 'new_confirmed'",
     "traceback": [
      "\u001b[1;31m---------------------------------------------------------------------------\u001b[0m",
      "\u001b[1;31mValueError\u001b[0m                                Traceback (most recent call last)",
      "\u001b[1;32m<ipython-input-18-0a559fe9c677>\u001b[0m in \u001b[0;36m<module>\u001b[1;34m\u001b[0m\n\u001b[0;32m     12\u001b[0m             \u001b[1;32mif\u001b[0m \u001b[0mi\u001b[0m \u001b[1;33m!=\u001b[0m \u001b[1;36m0\u001b[0m\u001b[1;33m:\u001b[0m\u001b[1;33m\u001b[0m\u001b[1;33m\u001b[0m\u001b[0m\n\u001b[0;32m     13\u001b[0m \u001b[1;33m\u001b[0m\u001b[0m\n\u001b[1;32m---> 14\u001b[1;33m                 \u001b[0mfat\u001b[0m \u001b[1;33m=\u001b[0m \u001b[0mfloat\u001b[0m\u001b[1;33m(\u001b[0m\u001b[0mlinha\u001b[0m\u001b[1;33m[\u001b[0m\u001b[1;36m4\u001b[0m\u001b[1;33m]\u001b[0m\u001b[1;33m)\u001b[0m\u001b[1;33m/\u001b[0m\u001b[0mfloat\u001b[0m\u001b[1;33m(\u001b[0m\u001b[0mnovos_casos_old\u001b[0m\u001b[1;33m)\u001b[0m\u001b[1;33m\u001b[0m\u001b[1;33m\u001b[0m\u001b[0m\n\u001b[0m\u001b[0;32m     15\u001b[0m \u001b[1;33m\u001b[0m\u001b[0m\n\u001b[0;32m     16\u001b[0m                 \u001b[0msemana_epidemiologica\u001b[0m\u001b[1;33m.\u001b[0m\u001b[0mappend\u001b[0m\u001b[1;33m(\u001b[0m\u001b[0mfloat\u001b[0m\u001b[1;33m(\u001b[0m\u001b[0mlinha\u001b[0m\u001b[1;33m[\u001b[0m\u001b[1;36m2\u001b[0m\u001b[1;33m]\u001b[0m\u001b[1;33m)\u001b[0m\u001b[1;33m)\u001b[0m\u001b[1;33m\u001b[0m\u001b[1;33m\u001b[0m\u001b[0m\n",
      "\u001b[1;31mValueError\u001b[0m: could not convert string to float: 'new_confirmed'"
     ]
    }
   ],
   "source": [
    "for state in states: \n",
    "     with open((pasta_de_casos) + 'Rz-' + (state) + '.csv', 'r') as csvfile:\n",
    "        \n",
    "        arquivo = csv.reader(csvfile)\n",
    "\n",
    "\n",
    "\n",
    "        fator_de_crescimento = []\n",
    "        semana_epidemiologica = []\n",
    "\n",
    "        for i, linha in enumerate(arquivo):\n",
    "            if i != 0:\n",
    "\n",
    "                fat = float(linha[4])/float(novos_casos_old)\n",
    "\n",
    "                semana_epidemiologica.append(float(linha[2]))\n",
    "                fator_de_crescimento.append(fat)\n",
    "            novos_casos_old = linha[4]\n",
    "\n",
    "\n",
    "        #plt.plot(semana_epidemiologica, fator_de_crescimento)\n",
    "        #plt.title('fator de crescimento de ' + (state))\n",
    "        #plt.xlabel('semana epidemiologica')\n",
    "        #plt.ylabel('fator de crescimento')\n",
    "        #plt.savefig('graficos\\\\fator_de_crescimento_' + (state) + '.png')\n",
    "        #plt.show()\n",
    "\n"
   ]
  },
  {
   "cell_type": "code",
   "execution_count": null,
   "metadata": {},
   "outputs": [],
   "source": []
  },
  {
   "cell_type": "code",
   "execution_count": null,
   "metadata": {},
   "outputs": [],
   "source": []
  }
 ],
 "metadata": {
  "language_info": {
   "codemirror_mode": {
    "name": "ipython",
    "version": 3
   },
   "file_extension": ".py",
   "mimetype": "text/x-python",
   "name": "python",
   "nbconvert_exporter": "python",
   "pygments_lexer": "ipython3",
   "version": "3.7.6-final"
  },
  "orig_nbformat": 2,
  "kernelspec": {
   "name": "python_defaultSpec_1598224334018",
   "display_name": "Python 3.7.6 64-bit ('base': conda)"
  }
 },
 "nbformat": 4,
 "nbformat_minor": 2
}