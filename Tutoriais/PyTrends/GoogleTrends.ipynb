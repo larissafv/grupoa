{
 "cells": [
  {
   "cell_type": "markdown",
   "metadata": {},
   "source": [
    "# Como utilizar a API Pytrends"
   ]
  },
  {
   "cell_type": "markdown",
   "metadata": {},
   "source": [
    "## PARTE 1: Funções básicas"
   ]
  },
  {
   "cell_type": "markdown",
   "metadata": {},
   "source": [
    "### Instalações e Biblitecas usadas"
   ]
  },
  {
   "cell_type": "code",
   "execution_count": null,
   "metadata": {},
   "outputs": [],
   "source": [
    "pip install pytrends  #instala a biblioteca da API"
   ]
  },
  {
   "cell_type": "code",
   "execution_count": null,
   "metadata": {},
   "outputs": [],
   "source": [
    "from pytrends.request import TrendReq #importa a biblioteca pytrends\n",
    "import pandas as pd #alguns resultados são retornados em pandas.DataFrame"
   ]
  },
  {
   "cell_type": "markdown",
   "metadata": {},
   "source": [
    "### Conexão com o GoogleTrends"
   ]
  },
  {
   "cell_type": "code",
   "execution_count": null,
   "metadata": {},
   "outputs": [],
   "source": [
    "pytrends = TrendReq(hl='pt-BR', tz=3) #define a hostlanguage e a timezone de pesquisa"
   ]
  },
  {
   "cell_type": "code",
   "execution_count": null,
   "metadata": {},
   "outputs": [],
   "source": [
    "kw_list = ['gripe', 'falta de ar', 'tosse', 'paladar', 'swab'] #definição dos termos de pesquisa\n",
    "pytrends.build_payload(kw_list, cat=0, timeframe='today 12-m', geo='', gprop='') #construimos a solicitação de pesquisa "
   ]
  },
  {
   "cell_type": "markdown",
   "metadata": {},
   "source": [
    "### Métodos da API"
   ]
  },
  {
   "cell_type": "code",
   "execution_count": null,
   "metadata": {},
   "outputs": [],
   "source": [
    "pytrends.interest_over_time() #retorna o interesse em relação ao tempo das palavas buscadas"
   ]
  },
  {
   "cell_type": "code",
   "execution_count": null,
   "metadata": {},
   "outputs": [],
   "source": [
    "pytrends.get_historical_interest(kw_list, year_start=2020, month_start=9, day_start=1, hour_start=0, year_end=2020, month_end=9, day_end=2, hour_end=0, cat=0, geo='BR', gprop='', sleep=0)\n",
    "#retorna o interesse a cada hora de pesquisa numa data qualquer "
   ]
  },
  {
   "cell_type": "code",
   "execution_count": null,
   "metadata": {},
   "outputs": [],
   "source": [
    "pytrends.interest_by_region(resolution='COUNTRY', inc_low_vol=True, inc_geo_code=True)\n",
    "#retorna o interesse em relação á região"
   ]
  },
  {
   "cell_type": "code",
   "execution_count": null,
   "metadata": {},
   "outputs": [],
   "source": [
    "pytrends.related_queries() #retorna termos relacionados à pesquisa\n",
    "pytrends.related_topics()  #retorna tópicos relacionados (só funciona com um termo na kw_list por vez)\n",
    "pytrends.trending_searches(pn='brazil') #retorna os termos mais procurados do momento\n",
    "pytrends.suggestions('gripe') #sugere outros assuntos (funciona de forma independente da solicitação de pesquisa pytrends)"
   ]
  },
  {
   "cell_type": "markdown",
   "metadata": {},
   "source": [
    "***OBS: É importante lembrar que a construção de uma solicitação de pesquisa com uma lista direta de palavras, leva a API a retornar o interesse comparado de termos.***\n",
    "\n",
    "***Por isso, estamos definindo na Parte 2 funções que podem retornar o interesse individual de uma lista de palavras.***"
   ]
  },
  {
   "cell_type": "markdown",
   "metadata": {},
   "source": [
    "## PARTE 2: Implementação de funções   "
   ]
  },
  {
   "cell_type": "markdown",
   "metadata": {},
   "source": [
    "### Como adquirir dados de pesquisa individual de termos em uma localidade pré-determinada"
   ]
  },
  {
   "cell_type": "code",
   "execution_count": null,
   "metadata": {},
   "outputs": [],
   "source": [
    "listkeywords = ['olfato','tosse','paladar','garganta','falta de ar']\n",
    "liststate = ['BR-AC','BR-AL','BR-AP','BR-AM','BR-BA','BR-CE','BR-DF','BR-ES','BR-GO','BR-MA','BR-MT','BR-MS','BR-MG','BR-PA','BR-PB','BR-PR','BR-PE','BR-PI','BR-RJ','BR-RN','BR-RS','BR-RO','BR-RR','BR-SC','BR-SP','BR-SE','BR-TO']\n",
    "#definição dos termos de pesquisa o dos códigos geográficos usados pela API"
   ]
  },
  {
   "cell_type": "code",
   "execution_count": null,
   "metadata": {},
   "outputs": [],
   "source": [
    "datarequest = TrendReq(hl='pt-BR', tz=3)\n",
    "#realizamos uma nova conexão por questões de organização"
   ]
  },
  {
   "cell_type": "code",
   "execution_count": null,
   "metadata": {},
   "outputs": [],
   "source": [
    "def gerarcsv1(listkw, georef, timef): \n",
    "    data = pd.DataFrame()\n",
    "    for i in listkw:\n",
    "        newkw = []\n",
    "        newkw.append(i)\n",
    "        datarequest.build_payload(newkw, cat=0, timeframe=timef, geo=georef ,gprop='')\n",
    "        if data.empty:\n",
    "            data = datarequest.interest_over_time().drop(columns=['isPartial'])\n",
    "        else:\n",
    "            data = data.merge(datarequest.interest_over_time(), how = 'inner', on = 'date').drop(columns=['isPartial'])\n",
    "            \n",
    "#     data.to_csv('googletrends'+'_'+georef+'.csv',index=True)\n",
    "    return data\n",
    "        "
   ]
  },
  {
   "cell_type": "code",
   "execution_count": null,
   "metadata": {},
   "outputs": [],
   "source": [
    "result_one = gerarcsv1(listkeywords,'BR-MG','2017-11-01 2018-07-19')\n",
    "result_one"
   ]
  },
  {
   "cell_type": "markdown",
   "metadata": {},
   "source": [
    "### Como adquirir dados de pesquisa de termos individuais por Estado"
   ]
  },
  {
   "cell_type": "code",
   "execution_count": null,
   "metadata": {},
   "outputs": [],
   "source": [
    "def gerarcsv2(listkw, listgr, timef): \n",
    "    data = pd.DataFrame()\n",
    "    for i in listkw:\n",
    "        newkw = []\n",
    "        newkw.append(i)\n",
    "        auxiliar = pd.DataFrame()\n",
    "        for j in range(len(listgr)):\n",
    "            datarequest.build_payload(newkw, cat=0, timeframe=timef, geo=listgr[j] ,gprop='')\n",
    "            if auxiliar.empty:\n",
    "                auxiliar = datarequest.interest_over_time().assign(UF = listgr[j].split('-')[1]).drop(columns=['isPartial'])\n",
    "            else:\n",
    "                auxiliar = auxiliar.append(datarequest.interest_over_time().assign(UF = listgr[j].split('-')[1])).drop(columns=['isPartial'])\n",
    "        if data.empty:\n",
    "            data = auxiliar.copy(deep=True)\n",
    "        else:\n",
    "            data = data.merge(auxiliar,how = 'inner', left_on = ['date','UF'], right_on = ['date','UF'])\n",
    "\n",
    "#data.to_csv('googletrends_por_estado.csv',index=True)\n",
    "    return data"
   ]
  },
  {
   "cell_type": "code",
   "execution_count": null,
   "metadata": {},
   "outputs": [],
   "source": [
    "result_two = gerarcsv2(listkeywords,liststate,'2017-11-01 2018-07-19')\n",
    "result_two"
   ]
  }
 ],
 "metadata": {
  "kernelspec": {
   "display_name": "Python 3",
   "language": "python",
   "name": "python3"
  },
  "language_info": {
   "codemirror_mode": {
    "name": "ipython",
    "version": 3
   },
   "file_extension": ".py",
   "mimetype": "text/x-python",
   "name": "python",
   "nbconvert_exporter": "python",
   "pygments_lexer": "ipython3",
   "version": "3.7.7"
  }
 },
 "nbformat": 4,
 "nbformat_minor": 4
}
