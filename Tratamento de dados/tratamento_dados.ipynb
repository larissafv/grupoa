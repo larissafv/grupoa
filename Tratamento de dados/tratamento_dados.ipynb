{
 "cells": [
  {
   "cell_type": "code",
   "execution_count": 2,
   "metadata": {},
   "outputs": [],
   "source": [
    "import pandas as pd\n",
    "\n",
    "#Abre os bancos de dados necessários\n",
    "pop = pd.read_csv('base_csv/pop2020.csv')\n",
    "io = pd.read_csv('base_csv/caso_full.csv')\n"
   ]
  },
  {
   "cell_type": "code",
   "execution_count": 3,
   "metadata": {},
   "outputs": [],
   "source": [
    "#Arruma os nomes das colunas para realizar o merge\n",
    "pop.rename(columns={'Total':'total_inhabitants','Armenor':'ibge_code'}, inplace = True)"
   ]
  },
  {
   "cell_type": "code",
   "execution_count": 4,
   "metadata": {},
   "outputs": [],
   "source": [
    "#Filtra somente os dados do último dia das semanas epidemiológicas\n",
    "dates = ['2020-02-29', '2020-03-07', '2020-03-14', '2020-03-21',\n",
    "               '2020-03-28', '2020-04-04', '2020-04-11', '2020-04-18',\n",
    "               '2020-04-25', '2020-05-02', '2020-05-09', '2020-05-16',\n",
    "               '2020-05-23', '2020-05-30', '2020-06-06', '2020-06-13',\n",
    "               '2020-06-20', '2020-06-27', '2020-07-04', '2020-07-11',\n",
    "               '2020-07-18', '2020-07-25', '2020-08-01']\n",
    "\n",
    "datesDF = pd.DataFrame(dates,columns=['date'])\n",
    "\n",
    "select_for_dates = pd.merge(io,datesDF, how = 'inner')\n",
    "\n",
    "#Arruma o nome das colunas\n",
    "select_for_dates.rename(columns={'city_ibge_code':'ibge_code','date':'week_last_day'}, inplace = True)\n"
   ]
  },
  {
   "cell_type": "code",
   "execution_count": 5,
   "metadata": {},
   "outputs": [],
   "source": [
    "#Classifica os estados por macro regiões\n",
    "def region(x):\n",
    "    regions = {\n",
    "        'norte':['AM','RR','AP','PA','TO','RO','AC'],\n",
    "        'nordeste':['MA','PI','CE','RN','PE','PB','SE','AL','BA'],\n",
    "        'centro-oeste':['MT','MS','GO','DF'],\n",
    "        'sudeste':['MG','SP','RJ','ES'],\n",
    "        'sul':['PR','RS','SC']       \n",
    "    }\n",
    "    for k,v in regions.items():\n",
    "        if x['state'] in v:\n",
    "            return k\n",
    "    \n",
    "select_for_dates['region'] = select_for_dates.apply(region,axis=1)"
   ]
  },
  {
   "cell_type": "code",
   "execution_count": 6,
   "metadata": {},
   "outputs": [],
   "source": [
    "#Seleciona o df de população para cálculo por cidades\n",
    "pop_cities = pop[['ibge_code','total_inhabitants']].copy()"
   ]
  },
  {
   "cell_type": "code",
   "execution_count": 7,
   "metadata": {},
   "outputs": [],
   "source": [
    "#Coloca o total da população das cidades no df selecionado por datas\n",
    "cities_df = pd.merge(select_for_dates,pop_cities, how = 'inner')\n"
   ]
  },
  {
   "cell_type": "code",
   "execution_count": 8,
   "metadata": {},
   "outputs": [],
   "source": [
    "#Encontrar o valor dos novos casoso por semana\n",
    "cities_df = cities_df.sort_values(by=['ibge_code','week_last_day']).copy()\n",
    "\n",
    "last_city = 0\n",
    "last_num = 0 \n",
    "\n",
    "\n",
    "    \n",
    "def get_num(x):\n",
    "    global last_num, last_city\n",
    "    if last_city == x['ibge_code']:\n",
    "        current = x['last_available_confirmed']-last_num\n",
    "        last_num = x['last_available_confirmed']\n",
    "        return current\n",
    "    else:\n",
    "        last_city = x['ibge_code']\n",
    "        last_num = 0\n",
    "        return get_num(x)\n",
    "\n",
    "\n",
    "\n",
    "cities_df['new_week_cases'] = cities_df.apply(get_num , axis=1)\n"
   ]
  },
  {
   "cell_type": "code",
   "execution_count": 9,
   "metadata": {},
   "outputs": [],
   "source": [
    "#Encontrar o valor dos novos óbitos por semana\n",
    "last_city = 0\n",
    "last_num = 0 \n",
    "\n",
    "\n",
    "    \n",
    "def get_num(x):\n",
    "    global last_num, last_city\n",
    "    if last_city == x['ibge_code']:\n",
    "        current = x['last_available_deaths']-last_num\n",
    "        last_num = x['last_available_deaths']\n",
    "        return current\n",
    "    else:\n",
    "        last_city = x['ibge_code']\n",
    "        last_num = 0\n",
    "        return get_num(x)\n",
    "\n",
    "\n",
    "\n",
    "cities_df['new_week_deaths'] = cities_df.apply(get_num , axis=1)\n"
   ]
  },
  {
   "cell_type": "code",
   "execution_count": 10,
   "metadata": {},
   "outputs": [],
   "source": [
    "#DF por cidades\n",
    "cities_df= cities_df.copy().reset_index()\n",
    "cities_df = cities_df[['region','state','city','ibge_code','epidemiological_week','total_inhabitants','last_available_confirmed','last_available_deaths','new_week_cases','new_week_deaths']].copy()"
   ]
  },
  {
   "cell_type": "code",
   "execution_count": 11,
   "metadata": {},
   "outputs": [],
   "source": [
    "#DF por estado\n",
    "states_df = cities_df.groupby(['state','epidemiological_week']).sum().reset_index()\n",
    "states_df = states_df[['state','epidemiological_week','total_inhabitants','last_available_confirmed','last_available_deaths','new_week_cases','new_week_deaths']].copy()"
   ]
  },
  {
   "cell_type": "code",
   "execution_count": 12,
   "metadata": {},
   "outputs": [],
   "source": [
    "#DF por macro região \n",
    "region_df = cities_df.groupby(['region','epidemiological_week']).sum().reset_index()\n",
    "region_df = region_df[['region','epidemiological_week','total_inhabitants','last_available_confirmed','last_available_deaths','new_week_cases','new_week_deaths']].copy()"
   ]
  },
  {
   "cell_type": "code",
   "execution_count": 13,
   "metadata": {},
   "outputs": [],
   "source": [
    "#DF Brasil\n",
    "brazil_df = states_df.groupby(['epidemiological_week']).sum().reset_index()\n",
    "brazil_df = brazil_df[['epidemiological_week','total_inhabitants','last_available_confirmed','last_available_deaths','new_week_cases','new_week_deaths']].copy()"
   ]
  },
  {
   "cell_type": "code",
   "execution_count": 14,
   "metadata": {},
   "outputs": [],
   "source": [
    "#---------------------Indicadores ---------------------"
   ]
  },
  {
   "cell_type": "code",
   "execution_count": 15,
   "metadata": {},
   "outputs": [],
   "source": [
    "#Indicador de Casos e Óbitos acumulados,por semana epidemiológica, já esta no DF, \n",
    "#respesctivamente nas colunas last_available_confirmed e last_available_deaths"
   ]
  },
  {
   "cell_type": "code",
   "execution_count": 16,
   "metadata": {},
   "outputs": [],
   "source": [
    "#Novos Casos e Novos Óbitos, por semana epidemiológica, já está no DF,\n",
    "#respesctivamente nas colunas new_week_cases e new_week_deaths"
   ]
  },
  {
   "cell_type": "code",
   "execution_count": 17,
   "metadata": {},
   "outputs": [],
   "source": [
    "def indicators(data_frame):\n",
    "    #Prevalência\n",
    "    data_frame['prevalence'] = data_frame.apply(lambda x:x['last_available_confirmed']*100000/x['total_inhabitants'] , axis=1)\n",
    "    \n",
    "    #Indicador Mortalidade\n",
    "    data_frame['mortality'] = data_frame.apply(lambda x:x['last_available_deaths']*100000/x['total_inhabitants'] , axis=1)\n",
    "    \n",
    "    #Indicador de Letalidade\n",
    "    def lethality(x):\n",
    "        if x['last_available_confirmed']==0:\n",
    "            return 0\n",
    "        else:\n",
    "            return x['last_available_deaths']/x['last_available_confirmed']\n",
    "    data_frame['lethality'] = data_frame.apply(lethality, axis=1)\n",
    "    \n",
    "    #Incidência de novos casos\n",
    "    data_frame['incidence_cases'] = data_frame.apply(lambda x:x['new_week_cases']*100000/x['total_inhabitants'] , axis=1)\n",
    "    \n",
    "    #Incidência de novos óbitos\n",
    "    data_frame['incidence_deaths'] = data_frame.apply(lambda x:x['new_week_deaths']*100000/x['total_inhabitants'] , axis=1)\n",
    "\n",
    "    #Indicador Fator de Crescimento  dos casos\n",
    "    last_number_cases=0\n",
    "\n",
    "    def get_FC_cases(x):\n",
    "        nonlocal last_number_cases\n",
    "        if last_number_cases ==0:\n",
    "            last_number_cases = x['new_week_cases']\n",
    "            return 0\n",
    "        else:\n",
    "            fc= x['new_week_cases']/last_num\n",
    "            last_number_cases = x['new_week_cases']\n",
    "            return fc\n",
    "\n",
    "    data_frame['cases_growth_factor'] = data_frame.apply(get_FC_cases, axis=1)\n",
    "\n",
    "    #Indicador Fator de Crescimento  dos óbitos\n",
    "    last_number_deaths=0\n",
    "\n",
    "    def get_FC_deaths(x):\n",
    "        nonlocal last_number_deaths\n",
    "        if last_number_deaths ==0:\n",
    "            last_number_deaths = x['new_week_deaths']\n",
    "            return 0\n",
    "        else:\n",
    "            fc= x['new_week_deaths']/last_num\n",
    "            last_number = x['new_week_deaths']\n",
    "            return fc\n",
    "\n",
    "    data_frame['deaths_growth_factor'] = data_frame.apply(get_FC_deaths, axis=1)"
   ]
  },
  {
   "cell_type": "code",
   "execution_count": 18,
   "metadata": {},
   "outputs": [],
   "source": [
    "#Cálcula os indicadores para todos os DF\n",
    "indicators(cities_df)\n",
    "indicators(states_df)\n",
    "indicators(region_df)\n",
    "indicators(brazil_df)"
   ]
  },
  {
   "cell_type": "code",
   "execution_count": 19,
   "metadata": {},
   "outputs": [],
   "source": [
    "cities_df.to_csv('resultados/cities_df.csv')"
   ]
  },
  {
   "cell_type": "code",
   "execution_count": 20,
   "metadata": {},
   "outputs": [],
   "source": [
    "states_df.to_csv('resultados/states_df.csv')"
   ]
  },
  {
   "cell_type": "code",
   "execution_count": 21,
   "metadata": {},
   "outputs": [],
   "source": [
    "region_df.to_csv('resultados/region_df.csv')"
   ]
  },
  {
   "cell_type": "code",
   "execution_count": 23,
   "metadata": {},
   "outputs": [],
   "source": [
    "brazil_df.to_csv('resultados/brazil_df.csv')"
   ]
  },
  {
   "cell_type": "code",
   "execution_count": null,
   "metadata": {},
   "outputs": [],
   "source": []
  }
 ],
 "metadata": {
  "kernelspec": {
   "display_name": "Python 3.8.2 64-bit",
   "language": "python",
   "name": "python38264bite48921a23c424b23b18f136fca3d6c2d"
  },
  "language_info": {
   "codemirror_mode": {
    "name": "ipython",
    "version": 3
   },
   "file_extension": ".py",
   "mimetype": "text/x-python",
   "name": "python",
   "nbconvert_exporter": "python",
   "pygments_lexer": "ipython3",
   "version": "3.8.2"
  }
 },
 "nbformat": 4,
 "nbformat_minor": 4
}
