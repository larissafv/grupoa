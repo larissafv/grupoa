{
 "cells": [
  {
   "cell_type": "code",
   "execution_count": null,
   "metadata": {},
   "outputs": [],
   "source": [
    "import geopandas as gpd\n",
    "import pandas as pd\n",
    "import geobr\n",
    "import matplotlib.pyplot as plt\n",
    "import numpy as np\n",
    "from shapely.wkt import loads as load_wkt\n",
    "from shapely.geometry import Point\n",
    "import matplotlib.lines as mlines\n",
    "import re\n",
    "from PIL import Image"
   ]
  },
  {
   "cell_type": "code",
   "execution_count": null,
   "metadata": {},
   "outputs": [],
   "source": [
    "#Pegar a geometria dos municípios\n",
    "df_municipios = geobr.read_municipality(code_muni='all', year=2018)\n",
    "df_municipios"
   ]
  },
  {
   "cell_type": "code",
   "execution_count": null,
   "metadata": {
    "scrolled": true
   },
   "outputs": [],
   "source": [
    "#Pegando apenas as colunas que correspondem ao código e o shape dos municípios\n",
    "colunas = ['code_muni', 'geometry']\n",
    "df_municipios = df_municipios[colunas]\n",
    "#Retirando valores nulos\n",
    "df_municipios = df_municipios.dropna()\n",
    "#Renomear a coluna pra fazer o merge com o csv\n",
    "df_municipios = df_municipios.rename(columns={'code_muni': 'city_ibge_code'})\n",
    "#Transforma o code_muni em int para o merge\n",
    "df_municipios['city_ibge_code'] = df_municipios['city_ibge_code'].astype('int64') \n",
    "df_municipios"
   ]
  },
  {
   "cell_type": "code",
   "execution_count": null,
   "metadata": {},
   "outputs": [],
   "source": [
    "#Pegar a geometria dos estados\n",
    "df_estados = geobr.read_state(code_state='all', year=2018)\n",
    "df_estados"
   ]
  },
  {
   "cell_type": "code",
   "execution_count": null,
   "metadata": {},
   "outputs": [],
   "source": [
    "#Pegando apenas as colunas que correspondem ao código e o shape dos estados\n",
    "colunas = ['code_state', 'geometry', 'abbrev_state']\n",
    "df_estados = df_estados[colunas]\n",
    "#Retirando valores nulos\n",
    "df_estados = df_estados.dropna()\n",
    "#Renomear a coluna pra fazer o merge com o csv\n",
    "df_estados = df_estados.rename(columns={'code_state': 'city_ibge_code'})\n",
    "#Transforma o code_state em int para o merge\n",
    "df_estados['city_ibge_code'] = df_estados['city_ibge_code'].astype('int64') \n",
    "df_estados"
   ]
  },
  {
   "cell_type": "code",
   "execution_count": null,
   "metadata": {},
   "outputs": [],
   "source": [
    "#Calcular os centroides dos municípios para centralizar os círculos\n",
    "centroides = []\n",
    "for linha in df_municipios.itertuples():\n",
    "    poligono = load_wkt(str(linha.geometry))\n",
    "    centroides.append(poligono.centroid)"
   ]
  },
  {
   "cell_type": "code",
   "execution_count": null,
   "metadata": {},
   "outputs": [],
   "source": [
    "#Passar os centroides calculados para um dataframe\n",
    "df_centroides = pd.DataFrame()\n",
    "df_centroides['geometry'] = centroides\n",
    "df_centroides = gpd.GeoDataFrame(df_centroides)\n",
    "df_centroides.crs = df_municipios.crs"
   ]
  },
  {
   "cell_type": "code",
   "execution_count": null,
   "metadata": {},
   "outputs": [],
   "source": [
    "#Calcular os centroides dos estados para posicionar suas siglas\n",
    "centroides_estado = []\n",
    "for linha in df_estados.itertuples():\n",
    "    poligono = load_wkt(str(linha.geometry))\n",
    "    centroides_estado.append(poligono.centroid)\n",
    "    \n",
    "coordenadas_estado = []\n",
    "for point in centroides_estado:\n",
    "    coordenadas_estado.append((point.x, point.y))\n",
    "\n",
    "#Passar as coordenadas dos centroides para um dataframe\n",
    "df_estados['centroides'] = coordenadas_estado"
   ]
  },
  {
   "cell_type": "code",
   "execution_count": null,
   "metadata": {},
   "outputs": [],
   "source": [
    "dataset_estados = pd.read_csv(\"casos_e_mortes_acumulados_estado.csv\",index_col=0)\n",
    "#Retirar a linha com o total do Brasil\n",
    "dataset_estados = dataset_estados.drop(['TOTAL'])\n",
    "dataset_estados"
   ]
  },
  {
   "cell_type": "code",
   "execution_count": null,
   "metadata": {},
   "outputs": [],
   "source": [
    "#Adiciona a geometria vinda do geobr\n",
    "dataset_estados = pd.merge(dataset_estados,df_estados, on='city_ibge_code', how='left')\n",
    "#Casting para geodataframe\n",
    "dataset_estados = gpd.GeoDataFrame(dataset_estados)\n",
    "#Ordenar com base no código do ibge pra combinar com df_estados\n",
    "dataset_estados = dataset_estados.sort_values(by=['city_ibge_code'])\n",
    "dataset_estados"
   ]
  },
  {
   "cell_type": "code",
   "execution_count": null,
   "metadata": {},
   "outputs": [],
   "source": [
    "dataset_municipio = pd.read_csv(\"casos_e_mortes_acumulados_municipio.csv\",index_col=0)\n",
    "dataset_municipio"
   ]
  },
  {
   "cell_type": "code",
   "execution_count": null,
   "metadata": {},
   "outputs": [],
   "source": [
    "#Adiciona a geometria vinda do geobr\n",
    "dataset_municipio = pd.merge(dataset_municipio,df_municipios, on='city_ibge_code', how='left')\n",
    "#Casting para geodataframe\n",
    "dataset_municipio = gpd.GeoDataFrame(dataset_municipio)\n",
    "dataset_municipio"
   ]
  },
  {
   "cell_type": "code",
   "execution_count": null,
   "metadata": {},
   "outputs": [],
   "source": [
    "#Pré-plot pra gerar uma escala para a legenda de casos por municipio, tendo como base a semana 31\n",
    "fig, ax = plt.subplots(figsize=(20, 20))\n",
    "\n",
    "dados = dataset_municipio[['geometry', 'last_available_confirmed_week_31']]\n",
    "\n",
    "markersize = []\n",
    "for linha in dados.itertuples():\n",
    "    markersize.append(linha.last_available_confirmed_week_31/10)\n",
    "    \n",
    "df_municipios.plot(ax=ax, facecolor='#cccccc')\n",
    "df_estados.geometry.boundary.plot(color=None, edgecolor='#444444', linewidth = 0.2, ax=ax)\n",
    "\n",
    "#Pegar as coordenadas dos centroides\n",
    "xs=[point.x for point in df_centroides['geometry']]\n",
    "ys=[point.y for point in df_centroides['geometry']]\n",
    "scatter = ax.scatter(xs, ys, markersize, alpha=0.6, color=\"#267bb4\")\n",
    "\n",
    "handles, labels = scatter.legend_elements(prop=\"sizes\", alpha=0.6, color='#267bb4', num=6)\n",
    "for i in range(len(labels)):\n",
    "    labels[i]= labels[i][:-3] + labels[i][-4:]"
   ]
  },
  {
   "cell_type": "code",
   "execution_count": null,
   "metadata": {},
   "outputs": [],
   "source": [
    "#Definição da legenda\n",
    "legend ='''ax.legend(handles, labels, title=\"Número de casos\", loc=3,borderpad=3, labelspacing=2, handlelength=7, title_fontsize=25, fontsize=18, frameon=False)'''\n",
    "#Loop para cada semana epidemiológica\n",
    "for semana in range(9, 32):\n",
    "    #Plotar a base do mapa\n",
    "    fig, ax = plt.subplots(figsize=(20, 20))\n",
    "    \n",
    "    #Pegar apenas as colunas necessárias (geometry e quantidade de casos)\n",
    "    dados = dataset_municipio[['geometry', 'last_available_confirmed_week_{}'.format(semana)]]\n",
    "    dados = dados.rename(columns={'last_available_confirmed_week_{}'.format(semana): 'casos'})\n",
    "\n",
    "    #Definir o tamanho de cada círculo\n",
    "    markersize = []\n",
    "    for linha in dados.itertuples():\n",
    "        markersize.append(linha.casos/10)\n",
    "\n",
    "    #Plotar as linhas dos limites dos municipios\n",
    "    df_municipios.plot(ax=ax, facecolor='#cccccc')\n",
    "    df_estados.geometry.boundary.plot(color=None,edgecolor='#444444',linewidth = 0.2,ax=ax)\n",
    "    \n",
    "    #Plotar os circulos\n",
    "    ax.scatter(xs, ys, markersize, alpha=0.6, color=\"#267bb4\")\n",
    "\n",
    "    #Desenhar a seta que representa o Norte\n",
    "    ax.annotate('', xy=(-35, -30), xytext=(-35, -33), arrowprops=dict(arrowstyle= '->', color='k', lw=2, mutation_scale=20))\n",
    "    ax.text(-35, -30, \"N\", ha=\"center\", va=\"bottom\", size=20)\n",
    "    ax.axis('off')\n",
    "\n",
    "    #Escrever a sigla de cada estado\n",
    "    for linha in df_estados.itertuples():\n",
    "        plt.annotate(s=linha.abbrev_state, xy=linha.centroides, horizontalalignment='center', verticalalignment='center', fontsize=20, color='#444444')\n",
    "\n",
    "    #Executar a definição prévia da legenda\n",
    "    exec(legend)\n",
    "    #Definir o título\n",
    "    plt.title(\"Casos confirmados por município - Semana {}\".format(semana), fontsize=30)\n",
    "    #Salvar o arquivo da imagem\n",
    "    plt.savefig(\"mapa_casos_municipios_{}.png\".format(semana))\n",
    "    im = Image.open(\"mapa_casos_municipios_{}.png\".format(semana))\n",
    "    im = im.crop((150,120,1290,1270))\n",
    "    im.save(\"mapa_casos_municipios_{}.png\".format(semana))"
   ]
  },
  {
   "cell_type": "code",
   "execution_count": null,
   "metadata": {},
   "outputs": [],
   "source": [
    "images = []\n",
    "for semana in range(9,32):\n",
    "    images.append(Image.open(\"mapa_casos_municipios_{}.png\".format(semana)))\n",
    "        \n",
    "images[0].save('mapa_casos_municipios.gif', save_all=True, append_images=images, duration=180, loop=0)"
   ]
  },
  {
   "cell_type": "code",
   "execution_count": null,
   "metadata": {},
   "outputs": [],
   "source": [
    "#Pré-plot pra gerar uma escala para a legenda de casos por estado, tendo como base a semana 31\n",
    "fig, ax = plt.subplots(figsize=(20, 20))\n",
    "\n",
    "dados = dataset_estados[['geometry', 'last_available_confirmed_week_31']]\n",
    "\n",
    "markersize = []\n",
    "for linha in dados.itertuples():\n",
    "    markersize.append(linha.last_available_confirmed_week_31/25)\n",
    "    \n",
    "df_municipios.plot(ax=ax, facecolor='#cccccc')\n",
    "df_estados.geometry.boundary.plot(color=None, edgecolor='#444444', linewidth = 0.2, ax=ax)\n",
    "\n",
    "#Pegar as coordenadas dos centroides\n",
    "xs=[point[0] for point in df_estados['centroides']]\n",
    "ys=[point[1] for point in df_estados['centroides']]\n",
    "scatter = ax.scatter(xs, ys, markersize, alpha=0.6, color=\"#267bb4\")\n",
    "\n",
    "handles, labels = scatter.legend_elements(prop=\"sizes\", alpha=0.6, color='#267bb4', num=5)\n",
    "for i in range(len(labels)):\n",
    "    labels[i] = re.findall(r\"\\{.+\\}\", labels[i])[0][1:-1]\n",
    "    labels[i] = str(int(labels[i])*25)"
   ]
  },
  {
   "cell_type": "code",
   "execution_count": null,
   "metadata": {},
   "outputs": [],
   "source": [
    "#Definição da legenda\n",
    "legend ='''ax.legend(handles, labels, title=\"Número de casos\", loc=3,borderpad=3, labelspacing=2, handlelength=7, title_fontsize=25, fontsize=18, frameon=False)'''\n",
    "#Loop para cada semana epidemiológica\n",
    "for semana in range(9, 32):\n",
    "    #Plotar a base do mapa\n",
    "    fig, ax = plt.subplots(figsize=(20, 20))\n",
    "    \n",
    "    #Pegar apenas as colunas necessárias (geometry e quantidade de casos)\n",
    "    dados = dataset_estados[['geometry', 'last_available_confirmed_week_{}'.format(semana)]]\n",
    "    dados = dados.rename(columns={'last_available_confirmed_week_{}'.format(semana): 'casos'})\n",
    "\n",
    "    #Definir o tamanho de cada círculo\n",
    "    markersize = []\n",
    "    for linha in dados.itertuples():\n",
    "        markersize.append(linha.casos/25)\n",
    "\n",
    "    #Plotar as linhas dos limites dos municipios\n",
    "    df_municipios.plot(ax=ax, facecolor='#cccccc')\n",
    "    df_estados.geometry.boundary.plot(color=None,edgecolor='#444444',linewidth = 0.2,ax=ax)\n",
    "    \n",
    "    #Plotar os circulos\n",
    "    ax.scatter(xs, ys, markersize, alpha=0.6, color=\"#267bb4\")\n",
    "\n",
    "    #Desenhar a seta que representa o Norte\n",
    "    ax.annotate('', xy=(-35, -30), xytext=(-35, -33), arrowprops=dict(arrowstyle= '->', color='k', lw=2, mutation_scale=20))\n",
    "    ax.text(-35, -30, \"N\", ha=\"center\", va=\"bottom\", size=20)\n",
    "    ax.axis('off')\n",
    "\n",
    "    #Escrever a sigla de cada estado\n",
    "    for linha in df_estados.itertuples():\n",
    "        plt.annotate(s=linha.abbrev_state, xy=linha.centroides, horizontalalignment='center', verticalalignment='center', fontsize=20, color='#444444')\n",
    "\n",
    "    #Executar a definição prévia da legenda\n",
    "    exec(legend)\n",
    "    #Definir o título\n",
    "    plt.title(\"Casos confirmados por estado - Semana {}\".format(semana), fontsize=30)\n",
    "    #Salvar o arquivo da imagem\n",
    "    plt.savefig(\"mapa_casos_estados_{}.png\".format(semana))\n",
    "    im = Image.open(\"mapa_casos_estados_{}.png\".format(semana))\n",
    "    im = im.crop((150,120,1290,1270))\n",
    "    im.save(\"mapa_casos_estados_{}.png\".format(semana))"
   ]
  },
  {
   "cell_type": "code",
   "execution_count": null,
   "metadata": {},
   "outputs": [],
   "source": [
    "images = []\n",
    "for semana in range(9,32):\n",
    "    images.append(Image.open(\"mapa_casos_estados_{}.png\".format(semana)))\n",
    "        \n",
    "images[0].save('mapa_casos_estados.gif', save_all=True, append_images=images, duration=180, loop=0)"
   ]
  },
  {
   "cell_type": "code",
   "execution_count": null,
   "metadata": {},
   "outputs": [],
   "source": [
    "#Pré-plot pra gerar uma escala para a legenda de mortes por municipio, tendo como base a semana 31\n",
    "fig, ax = plt.subplots(figsize=(20, 20))\n",
    "\n",
    "dados = dataset_municipio[['geometry', 'last_available_deaths_week_31']]\n",
    "\n",
    "markersize = []\n",
    "for linha in dados.itertuples():\n",
    "    markersize.append(linha.last_available_deaths_week_31)\n",
    "    \n",
    "df_municipios.plot(ax=ax, facecolor='#cccccc')\n",
    "df_estados.geometry.boundary.plot(color=None, edgecolor='#444444', linewidth = 0.2, ax=ax)\n",
    "\n",
    "#Pegar as coordenadas dos centroides\n",
    "xs=[point.x for point in df_centroides['geometry']]\n",
    "ys=[point.y for point in df_centroides['geometry']]\n",
    "scatter = ax.scatter(xs, ys, markersize, alpha=0.6, color=\"#f24646\")\n",
    "\n",
    "handles, labels = scatter.legend_elements(prop=\"sizes\", alpha=0.6, color='#f24646', num=6)"
   ]
  },
  {
   "cell_type": "code",
   "execution_count": null,
   "metadata": {},
   "outputs": [],
   "source": [
    "#Definição da legenda\n",
    "legend ='''ax.legend(handles, labels, title=\"Número de casos\", loc=3,borderpad=3, labelspacing=2, handlelength=7, title_fontsize=25, fontsize=18, frameon=False)'''\n",
    "#Loop para cada semana epidemiológica\n",
    "for semana in range(9, 32):\n",
    "    #Plotar a base do mapa\n",
    "    fig, ax = plt.subplots(figsize=(20, 20))\n",
    "    \n",
    "    #Pegar apenas as colunas necessárias (geometry e quantidade de casos)\n",
    "    dados = dataset_municipio[['geometry', 'last_available_deaths_week_{}'.format(semana)]]\n",
    "    dados = dados.rename(columns={'last_available_deaths_week_{}'.format(semana): 'mortes'})\n",
    "\n",
    "    #Definir o tamanho de cada círculo\n",
    "    markersize = []\n",
    "    for linha in dados.itertuples():\n",
    "        markersize.append(linha.mortes)\n",
    "\n",
    "    #Plotar as linhas dos limites dos municipios\n",
    "    df_municipios.plot(ax=ax, facecolor='#cccccc')\n",
    "    df_estados.geometry.boundary.plot(color=None,edgecolor='#444444',linewidth = 0.2,ax=ax)\n",
    "    \n",
    "    #Plotar os circulos\n",
    "    ax.scatter(xs, ys, markersize, alpha=0.6, color=\"#f24646\")\n",
    "\n",
    "    #Desenhar a seta que representa o Norte\n",
    "    ax.annotate('', xy=(-35, -30), xytext=(-35, -33), arrowprops=dict(arrowstyle= '->', color='k', lw=2, mutation_scale=20))\n",
    "    ax.text(-35, -30, \"N\", ha=\"center\", va=\"bottom\", size=20)\n",
    "    ax.axis('off')\n",
    "\n",
    "    #Escrever a sigla de cada estado\n",
    "    for linha in df_estados.itertuples():\n",
    "        plt.annotate(s=linha.abbrev_state, xy=linha.centroides, horizontalalignment='center', verticalalignment='center', fontsize=20, color='#444444')\n",
    "\n",
    "    #Executar a definição prévia da legenda\n",
    "    exec(legend)\n",
    "    #Definir o título\n",
    "    plt.title(\"Mortes confirmadas por município - Semana {}\".format(semana), fontsize=30)\n",
    "    #Salvar o arquivo da imagem\n",
    "    plt.savefig(\"mapa_mortes_municipios_{}.png\".format(semana))\n",
    "    im = Image.open(\"mapa_mortes_municipios_{}.png\".format(semana))\n",
    "    im = im.crop((150,120,1290,1270))\n",
    "    im.save(\"mapa_mortes_municipios_{}.png\".format(semana))"
   ]
  },
  {
   "cell_type": "code",
   "execution_count": null,
   "metadata": {},
   "outputs": [],
   "source": [
    "images = []\n",
    "for semana in range(9,32):\n",
    "    images.append(Image.open(\"mapa_mortes_municipios_{}.png\".format(semana)))\n",
    "        \n",
    "images[0].save('mapa_mortes_municipios.gif', save_all=True, append_images=images, duration=180, loop=0)"
   ]
  },
  {
   "cell_type": "code",
   "execution_count": null,
   "metadata": {},
   "outputs": [],
   "source": [
    "#Pré-plot pra gerar uma escala para a legenda de mortes por estado, tendo como base a semana 31\n",
    "fig, ax = plt.subplots(figsize=(20, 20))\n",
    "\n",
    "dados = dataset_estados[['geometry', 'last_available_deaths_week_31']]\n",
    "\n",
    "markersize = []\n",
    "for linha in dados.itertuples():\n",
    "    markersize.append(linha.last_available_deaths_week_31)\n",
    "    \n",
    "df_municipios.plot(ax=ax, facecolor='#cccccc')\n",
    "df_estados.geometry.boundary.plot(color=None, edgecolor='#444444', linewidth = 0.2, ax=ax)\n",
    "\n",
    "#Pegar as coordenadas dos centroides\n",
    "xs=[point[0] for point in df_estados['centroides']]\n",
    "ys=[point[1] for point in df_estados['centroides']]\n",
    "scatter = ax.scatter(xs, ys, markersize, alpha=0.6, color=\"#f24646\")\n",
    "\n",
    "handles, labels = scatter.legend_elements(prop=\"sizes\", alpha=0.6, color='#f24646', num=5)"
   ]
  },
  {
   "cell_type": "code",
   "execution_count": null,
   "metadata": {},
   "outputs": [],
   "source": [
    "#Definição da legenda\n",
    "legend ='''ax.legend(handles, labels, title=\"Número de casos\", loc=3,borderpad=3, labelspacing=2, handlelength=7, title_fontsize=25, fontsize=18, frameon=False)'''\n",
    "#Loop para cada semana epidemiológica\n",
    "for semana in range(9, 32):\n",
    "    #Plotar a base do mapa\n",
    "    fig, ax = plt.subplots(figsize=(20, 20))\n",
    "    \n",
    "    #Pegar apenas as colunas necessárias (geometry e quantidade de casos)\n",
    "    dados = dataset_estados[['geometry', 'last_available_deaths_week_{}'.format(semana)]]\n",
    "    dados = dados.rename(columns={'last_available_deaths_week_{}'.format(semana): 'mortes'})\n",
    "\n",
    "    #Definir o tamanho de cada círculo\n",
    "    markersize = []\n",
    "    for linha in dados.itertuples():\n",
    "        markersize.append(linha.mortes)\n",
    "\n",
    "    #Plotar as linhas dos limites dos municipios\n",
    "    df_municipios.plot(ax=ax, facecolor='#cccccc')\n",
    "    df_estados.geometry.boundary.plot(color=None,edgecolor='#444444',linewidth = 0.2,ax=ax)\n",
    "    \n",
    "    #Plotar os circulos\n",
    "    ax.scatter(xs, ys, markersize, alpha=0.6, color=\"#f24646\")\n",
    "\n",
    "    #Desenhar a seta que representa o Norte\n",
    "    ax.annotate('', xy=(-35, -30), xytext=(-35, -33), arrowprops=dict(arrowstyle= '->', color='k', lw=2, mutation_scale=20))\n",
    "    ax.text(-35, -30, \"N\", ha=\"center\", va=\"bottom\", size=20)\n",
    "    ax.axis('off')\n",
    "\n",
    "    #Escrever a sigla de cada estado\n",
    "    for linha in df_estados.itertuples():\n",
    "        plt.annotate(s=linha.abbrev_state, xy=linha.centroides, horizontalalignment='center', verticalalignment='center', fontsize=20, color='#444444')\n",
    "\n",
    "    #Executar a definição prévia da legenda\n",
    "    exec(legend)\n",
    "    #Definir o título\n",
    "    plt.title(\"Mortes confirmadas por estado - Semana {}\".format(semana), fontsize=30)\n",
    "    #Salvar o arquivo da imagem\n",
    "    plt.savefig(\"mapa_mortes_estados_{}.png\".format(semana))\n",
    "    im = Image.open(\"mapa_mortes_estados_{}.png\".format(semana))\n",
    "    im = im.crop((150,120,1290,1270))\n",
    "    im.save(\"mapa_mortes_estados_{}.png\".format(semana))"
   ]
  },
  {
   "cell_type": "code",
   "execution_count": null,
   "metadata": {},
   "outputs": [],
   "source": [
    "images = []\n",
    "for semana in range(9,32):\n",
    "    images.append(Image.open(\"mapa_mortes_estados_{}.png\".format(semana)))\n",
    "        \n",
    "images[0].save('mapa_mortes_estados.gif', save_all=True, append_images=images, duration=180, loop=0)"
   ]
  },
  {
   "cell_type": "code",
   "execution_count": null,
   "metadata": {},
   "outputs": [],
   "source": []
  }
 ],
 "metadata": {
  "kernelspec": {
   "display_name": "Python 3",
   "language": "python",
   "name": "python3"
  },
  "language_info": {
   "codemirror_mode": {
    "name": "ipython",
    "version": 3
   },
   "file_extension": ".py",
   "mimetype": "text/x-python",
   "name": "python",
   "nbconvert_exporter": "python",
   "pygments_lexer": "ipython3",
   "version": "3.7.6"
  }
 },
 "nbformat": 4,
 "nbformat_minor": 4
}
